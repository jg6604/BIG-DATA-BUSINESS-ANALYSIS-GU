{
 "cells": [
  {
   "cell_type": "code",
   "execution_count": 1,
   "id": "cb45e4fb",
   "metadata": {},
   "outputs": [
    {
     "name": "stderr",
     "output_type": "stream",
     "text": [
      "Using Spark's default log4j profile: org/apache/spark/log4j-defaults.properties\n",
      "Setting default log level to \"WARN\".\n",
      "To adjust logging level use sc.setLogLevel(newLevel). For SparkR, use setLogLevel(newLevel).\n",
      "21/12/19 22:16:43 WARN NativeCodeLoader: Unable to load native-hadoop library for your platform... using builtin-java classes where applicable\n"
     ]
    },
    {
     "data": {
      "text/html": [
       "\n",
       "        <div>\n",
       "            <p><b>SparkContext</b></p>\n",
       "\n",
       "            <p><a href=\"http://jupyter-jl11295:4040\">Spark UI</a></p>\n",
       "\n",
       "            <dl>\n",
       "              <dt>Version</dt>\n",
       "                <dd><code>v3.2.0</code></dd>\n",
       "              <dt>Master</dt>\n",
       "                <dd><code>local[*]</code></dd>\n",
       "              <dt>AppName</dt>\n",
       "                <dd><code>yelp-review</code></dd>\n",
       "            </dl>\n",
       "        </div>\n",
       "        "
      ],
      "text/plain": [
       "<SparkContext master=local[*] appName=yelp-review>"
      ]
     },
     "execution_count": 1,
     "metadata": {},
     "output_type": "execute_result"
    }
   ],
   "source": [
    "# start a Spak session\n",
    "from pyspark.sql import SparkSession\n",
    "from pyspark.sql.functions import *\n",
    "\n",
    "spark = SparkSession.builder \\\n",
    "    .master(\"local[*]\") \\\n",
    "    .appName(\"yelp-review\") \\\n",
    "    .getOrCreate()\n",
    "\n",
    "# get a spark context from the session, and set verbose logging\n",
    "sc = spark.sparkContext\n",
    "sc.setLogLevel(\"ERROR\")\n",
    "sc"
   ]
  },
  {
   "cell_type": "code",
   "execution_count": 2,
   "id": "756f56be",
   "metadata": {},
   "outputs": [],
   "source": [
    "from pyspark.sql.functions import * "
   ]
  },
  {
   "cell_type": "code",
   "execution_count": 3,
   "id": "94b90b4e",
   "metadata": {
    "scrolled": true
   },
   "outputs": [
    {
     "name": "stderr",
     "output_type": "stream",
     "text": [
      "                                                                                \r"
     ]
    }
   ],
   "source": [
    "df = spark.read\\\n",
    "    .option(\"header\",\"true\")\\\n",
    "    .option(\"inferSchema\",\"true\")\\\n",
    "    .json('shared/student-data/yelp/yelp_academic_dataset_review.json')"
   ]
  },
  {
   "cell_type": "code",
   "execution_count": 4,
   "id": "c41d9ae0",
   "metadata": {},
   "outputs": [
    {
     "name": "stderr",
     "output_type": "stream",
     "text": [
      "[Stage 1:>                                                          (0 + 1) / 1]\r"
     ]
    },
    {
     "name": "stdout",
     "output_type": "stream",
     "text": [
      "+-----+--------------------+\n",
      "|stars|                text|\n",
      "+-----+--------------------+\n",
      "|  4.0|Apparently Prides...|\n",
      "|  4.0|This store is pre...|\n",
      "|  5.0|I called WVM on t...|\n",
      "|  2.0|I've stayed at ma...|\n",
      "|  4.0|The food is alway...|\n",
      "+-----+--------------------+\n",
      "only showing top 5 rows\n",
      "\n"
     ]
    },
    {
     "name": "stderr",
     "output_type": "stream",
     "text": [
      "                                                                                \r"
     ]
    }
   ],
   "source": [
    "df.cache()\n",
    "df1 = df.select(['stars', 'text'])\n",
    "df1.show(5)"
   ]
  },
  {
   "cell_type": "code",
   "execution_count": 5,
   "id": "1de31f55",
   "metadata": {},
   "outputs": [
    {
     "name": "stderr",
     "output_type": "stream",
     "text": [
      "[Stage 2:=======================================================> (51 + 1) / 52]\r"
     ]
    },
    {
     "name": "stdout",
     "output_type": "stream",
     "text": [
      "+-----+-------+\n",
      "|stars|  count|\n",
      "+-----+-------+\n",
      "|  1.0|1262800|\n",
      "|  2.0| 711378|\n",
      "|  3.0| 926656|\n",
      "|  4.0|1920037|\n",
      "|  5.0|3814532|\n",
      "+-----+-------+\n",
      "\n"
     ]
    },
    {
     "name": "stderr",
     "output_type": "stream",
     "text": [
      "                                                                                \r"
     ]
    }
   ],
   "source": [
    "df1.groupBy('stars').count().sort('stars').show()"
   ]
  },
  {
   "cell_type": "code",
   "execution_count": 6,
   "id": "212a1aa0",
   "metadata": {},
   "outputs": [
    {
     "name": "stderr",
     "output_type": "stream",
     "text": [
      "                                                                                \r"
     ]
    },
    {
     "name": "stdout",
     "output_type": "stream",
     "text": [
      "+-----+-------+----+--------+\n",
      "|stars|std_dev|skew|kurtosis|\n",
      "+-----+-------+----+--------+\n",
      "|  1.0| 711.22|2.41|    7.85|\n",
      "|  2.0|  648.4|2.25|    7.44|\n",
      "|  3.0| 589.97|2.29|    8.19|\n",
      "|  4.0| 533.98|2.44|    9.64|\n",
      "|  5.0| 457.63|2.95|   14.25|\n",
      "+-----+-------+----+--------+\n",
      "\n"
     ]
    }
   ],
   "source": [
    "import pyspark.sql.functions as F\n",
    "df1.select('stars','text')\\\n",
    "            .withColumn('length', F.length('text'))\\\n",
    "            .groupBy('stars')\\\n",
    "            .agg(F.round(F.stddev('length'),2).alias('std_dev'),\n",
    "                 F.round(F.skewness('length'),2).alias('skew'),\n",
    "                 F.round(F.kurtosis('length'),2).alias('kurtosis'))\\\n",
    "            .sort('stars')\\\n",
    "            .show()"
   ]
  },
  {
   "cell_type": "code",
   "execution_count": 7,
   "id": "835be4ac",
   "metadata": {},
   "outputs": [],
   "source": [
    "review = df1.select(['stars', 'text'])"
   ]
  },
  {
   "cell_type": "code",
   "execution_count": 8,
   "id": "b2c1407f",
   "metadata": {},
   "outputs": [],
   "source": [
    "review_sample1 = review.sample(False, 0.001)"
   ]
  },
  {
   "cell_type": "code",
   "execution_count": 9,
   "id": "00a97dbd",
   "metadata": {
    "scrolled": false
   },
   "outputs": [
    {
     "name": "stdout",
     "output_type": "stream",
     "text": [
      "+-----+--------------------+\n",
      "|stars|                text|\n",
      "+-----+--------------------+\n",
      "|  5.0|As a native of th...|\n",
      "|  5.0|OMG I just love t...|\n",
      "|  2.0|I stay in a lot o...|\n",
      "|  3.0|Busy bee was my g...|\n",
      "|  2.0|Courteous staff. ...|\n",
      "+-----+--------------------+\n",
      "only showing top 5 rows\n",
      "\n"
     ]
    }
   ],
   "source": [
    "review_sample1.show(5)"
   ]
  },
  {
   "cell_type": "code",
   "execution_count": 10,
   "id": "8e70000c",
   "metadata": {},
   "outputs": [
    {
     "name": "stderr",
     "output_type": "stream",
     "text": [
      "                                                                                \r"
     ]
    },
    {
     "data": {
      "text/plain": [
       "8666"
      ]
     },
     "execution_count": 10,
     "metadata": {},
     "output_type": "execute_result"
    }
   ],
   "source": [
    "review_sample1.cache()\n",
    "review_sample1.count()"
   ]
  },
  {
   "cell_type": "code",
   "execution_count": 11,
   "id": "7a5623cd",
   "metadata": {},
   "outputs": [
    {
     "name": "stderr",
     "output_type": "stream",
     "text": [
      "[Stage 12:=================================================>      (46 + 3) / 52]\r"
     ]
    },
    {
     "name": "stdout",
     "output_type": "stream",
     "text": [
      "+-----+-----+\n",
      "|stars|count|\n",
      "+-----+-----+\n",
      "|  1.0| 1235|\n",
      "|  2.0|  696|\n",
      "|  3.0|  891|\n",
      "|  4.0| 1873|\n",
      "|  5.0| 3971|\n",
      "+-----+-----+\n",
      "\n"
     ]
    },
    {
     "name": "stderr",
     "output_type": "stream",
     "text": [
      "                                                                                \r"
     ]
    }
   ],
   "source": [
    "review_sample1.groupBy('stars').count().sort('stars').show()"
   ]
  },
  {
   "cell_type": "code",
   "execution_count": 12,
   "id": "53a3db9f",
   "metadata": {},
   "outputs": [
    {
     "name": "stdout",
     "output_type": "stream",
     "text": [
      "root\n",
      " |-- stars: double (nullable = true)\n",
      " |-- text: string (nullable = true)\n",
      "\n"
     ]
    }
   ],
   "source": [
    "review_sample1.printSchema()"
   ]
  },
  {
   "cell_type": "code",
   "execution_count": 13,
   "id": "064ecc55",
   "metadata": {
    "scrolled": true
   },
   "outputs": [
    {
     "name": "stderr",
     "output_type": "stream",
     "text": [
      "[Stage 15:=================================================>      (46 + 2) / 52]\r"
     ]
    },
    {
     "name": "stdout",
     "output_type": "stream",
     "text": [
      "+-----+-------+----+--------+\n",
      "|stars|std_dev|skew|kurtosis|\n",
      "+-----+-------+----+--------+\n",
      "|  1.0| 722.52|2.21|    6.55|\n",
      "|  2.0| 707.53|2.18|    6.63|\n",
      "|  3.0| 601.84|2.33|     8.0|\n",
      "|  4.0|  520.9|2.42|    9.79|\n",
      "|  5.0| 474.14|3.01|    14.6|\n",
      "+-----+-------+----+--------+\n",
      "\n"
     ]
    },
    {
     "name": "stderr",
     "output_type": "stream",
     "text": [
      "                                                                                \r"
     ]
    }
   ],
   "source": [
    "import pyspark.sql.functions as F\n",
    "review_sample1.select('stars','text')\\\n",
    "            .withColumn('length', F.length('text'))\\\n",
    "            .groupBy('stars')\\\n",
    "            .agg(F.round(F.stddev('length'),2).alias('std_dev'),\n",
    "                 F.round(F.skewness('length'),2).alias('skew'),\n",
    "                 F.round(F.kurtosis('length'),2).alias('kurtosis'))\\\n",
    "            .sort('stars')\\\n",
    "            .show()"
   ]
  },
  {
   "cell_type": "code",
   "execution_count": 14,
   "id": "aec450a0",
   "metadata": {},
   "outputs": [
    {
     "name": "stderr",
     "output_type": "stream",
     "text": [
      "                                                                                \r"
     ]
    }
   ],
   "source": [
    "\n",
    "\n",
    "stats = review_sample1.select('text')\\\n",
    "            .withColumn('length', F.length('text'))\\\n",
    "            .agg(min(col('length')).alias('min'), \n",
    "                 max(col('length')).alias('max'), \n",
    "                 avg(col('length')).alias('mean'), \n",
    "                 F.percentile_approx('length', 0.5).alias('median'), \n",
    "                 F.stddev('length').alias('std'))\\\n",
    "            .collect()\n",
    "min_length = stats[0]['min']\n",
    "max_length = stats[0]['max']\n",
    "mean_length = stats[0]['mean']\n",
    "median_length = stats[0]['median']\n",
    "std_length = stats[0]['std']"
   ]
  },
  {
   "cell_type": "code",
   "execution_count": 15,
   "id": "c3d804b0",
   "metadata": {},
   "outputs": [
    {
     "name": "stdout",
     "output_type": "stream",
     "text": [
      "[0, 826.6666666666666, 1653.3333333333333, 2480.0, 3306.6666666666665, 4133.333333333333, 5000]\n",
      "[0, 39.170870018764504, 610.5995845834295, 1182.0282991480944, 1753.4570137127594, 2324.8857282774243, 5000]\n"
     ]
    }
   ],
   "source": [
    "fixed_length_bucket = []\n",
    "stddev_based_bucket = [mean_length]\n",
    "\n",
    "num_bucket = 6\n",
    "fixed_length = (max_length - min_length) / num_bucket\n",
    "curr_length = 0\n",
    "for i in range(num_bucket+1):\n",
    "    fixed_length_bucket.append(curr_length)\n",
    "    curr_length += fixed_length\n",
    "    \n",
    "fixed_length_bucket[-1] = max_length + 1\n",
    "\n",
    "\n",
    "curr_length = mean_length - std_length\n",
    "for i in range(num_bucket//2):\n",
    "    stddev_based_bucket.append(curr_length)\n",
    "    curr_length -= std_length\n",
    "    if curr_length < 0:\n",
    "        stddev_based_bucket.append(0)\n",
    "        break\n",
    "\n",
    "stddev_based_bucket = stddev_based_bucket[::-1]\n",
    "curr_length = mean_length + std_length\n",
    "for i in range(num_bucket//2+1):\n",
    "    stddev_based_bucket.append(curr_length)\n",
    "    curr_length += std_length\n",
    "    if curr_length > max_length:\n",
    "        break\n",
    "stddev_based_bucket[0] = 0\n",
    "stddev_based_bucket[-1] = max_length + 1\n",
    "\n",
    "print(fixed_length_bucket)\n",
    "print(stddev_based_bucket)"
   ]
  },
  {
   "cell_type": "code",
   "execution_count": 16,
   "id": "30d1c1cc",
   "metadata": {},
   "outputs": [
    {
     "name": "stderr",
     "output_type": "stream",
     "text": [
      "[nltk_data] Downloading package stopwords to /home/jovyan/nltk_data...\n",
      "[nltk_data]   Package stopwords is already up-to-date!\n"
     ]
    }
   ],
   "source": [
    "# library to clean data\n",
    "import re\n",
    "\n",
    "# Natural Language Tool Kit\n",
    "import nltk\n",
    "\n",
    "nltk.download('stopwords')\n",
    "\n",
    "# to remove stopword\n",
    "from nltk.corpus import stopwords\n",
    "\n",
    "# for Stemming propose\n",
    "from nltk.stem.porter import PorterStemmer\n"
   ]
  },
  {
   "cell_type": "code",
   "execution_count": 17,
   "id": "363bb3bc",
   "metadata": {},
   "outputs": [],
   "source": [
    "from collections import deque\n",
    "from itertools import chain\n",
    "stopwords_list = stopwords.words('english')\n",
    "sc.broadcast(stopwords_list)\n",
    "sc.broadcast(fixed_length_bucket)\n",
    "sc.broadcast(stddev_based_bucket)\n",
    "\n",
    "def build_ngrams(features, data, n):\n",
    "    if not data:\n",
    "        return\n",
    "    data = data.lower().strip()\n",
    "    data = re.sub(\"[^0-9a-zA-Z]+\", \" \", data)\n",
    "    data = data.split(\" \")\n",
    "    ps = PorterStemmer()\n",
    "    \n",
    "    # loop for stemming each word\n",
    "    # in string array at ith row\n",
    "    data = [ps.stem(word) for word in data\n",
    "                if not word in set(stopwords_list)]\n",
    "\n",
    "    word_list = deque()\n",
    "    for i, word in enumerate(data):\n",
    "        # if word in \n",
    "        # add word to word_list if length of word list smaller than 2\n",
    "        if word == '' or word == ' ' or not word:\n",
    "            continue\n",
    "\n",
    "        if (len(word_list) < n):\n",
    "            word_list.append(word)\n",
    "\n",
    "\n",
    "        # generate a key string if word_list has length of 2\n",
    "        if (len(word_list) == n):\n",
    "            # key string\n",
    "            key_word = ' '.join(word_list)\n",
    "            # pop the first element out of the queue, O(1)\n",
    "            word_list.popleft()\n",
    "            if key_word in features:\n",
    "                features[key_word] += 1\n",
    "            else:\n",
    "                features[key_word] = 1\n",
    "\n",
    "        # if end of current iteration, empty queue, to avoid cross line counting\n",
    "        if i == len(data) - 1:\n",
    "            word_list = deque()\n",
    "    \n",
    "\n",
    "def build_uni_features(data):\n",
    "    features = {}\n",
    "    build_ngrams(features, data, 1)\n",
    "    return features\n",
    "\n",
    "def build_bi_features(data):\n",
    "    features = {}\n",
    "    build_ngrams(features, data, 2)\n",
    "    return features\n",
    "\n",
    "def build_tri_features(data):\n",
    "    features = {}\n",
    "    build_ngrams(features, data, 3)\n",
    "    return features\n",
    "\n",
    "\n",
    "def assign_fixed_length_bucket(data):\n",
    "    for i, l in enumerate(fixed_length_bucket):\n",
    "        if data < l:\n",
    "            return i\n",
    "    return i\n",
    "\n",
    "def assign_stddev_based_bucket(data):\n",
    "    for i, l in enumerate(stddev_based_bucket):\n",
    "        if int(data) <= float(l):\n",
    "            return i\n",
    "    return i"
   ]
  },
  {
   "cell_type": "code",
   "execution_count": 18,
   "id": "d2a62571",
   "metadata": {},
   "outputs": [
    {
     "data": {
      "text/plain": [
       "DataFrame[stars: double, text: string]"
      ]
     },
     "execution_count": 18,
     "metadata": {},
     "output_type": "execute_result"
    }
   ],
   "source": [
    "create_unigram_udf = udf(build_uni_features)\n",
    "create_bigram_udf = udf(build_bi_features)\n",
    "create_trigram_udf = udf(build_tri_features)\n",
    "create_fixed_length_bucket_udf = udf(assign_fixed_length_bucket)\n",
    "create_stddev_based_bucket_udf = udf(assign_stddev_based_bucket)\n",
    "review_sample1.na.drop()\n"
   ]
  },
  {
   "cell_type": "code",
   "execution_count": 19,
   "id": "22f81dc4",
   "metadata": {},
   "outputs": [],
   "source": [
    "review_sample_2 = review_sample1.select(['stars', \n",
    "                                         create_unigram_udf('text').alias('unigram'), \n",
    "                                         create_bigram_udf('text').alias('bigram'), \n",
    "                                         create_trigram_udf('text').alias('trigram'), \n",
    "                                         create_stddev_based_bucket_udf(F.length('text')).alias('length')\n",
    "                                        ])\n"
   ]
  },
  {
   "cell_type": "code",
   "execution_count": 20,
   "id": "2d595442",
   "metadata": {
    "scrolled": true
   },
   "outputs": [
    {
     "name": "stderr",
     "output_type": "stream",
     "text": [
      "[Stage 21:>                                                         (0 + 1) / 1]\r"
     ]
    },
    {
     "name": "stdout",
     "output_type": "stream",
     "text": [
      "+-----+--------------------+--------------------+--------------------+------+\n",
      "|stars|             unigram|              bigram|             trigram|length|\n",
      "+-----+--------------------+--------------------+--------------------+------+\n",
      "|  5.0|{area=1, new=1, d...|{world home=1, bi...|{biscuit world ho...|     2|\n",
      "|  5.0|{organ=1, love=2,...|{look good=1, imp...|{new knowledg wor...|     2|\n",
      "|  2.0|{properti=2, cons...|{front desk=1, al...|{make work bother...|     2|\n",
      "|  3.0|{servic=1, bee=1,...|{food year=1, yea...|{food year food=1...|     2|\n",
      "|  2.0|{minut=2, 45=1, d...|{driver decent=1,...|{45 minut argu=1,...|     2|\n",
      "+-----+--------------------+--------------------+--------------------+------+\n",
      "only showing top 5 rows\n",
      "\n"
     ]
    },
    {
     "name": "stderr",
     "output_type": "stream",
     "text": [
      "                                                                                \r"
     ]
    }
   ],
   "source": [
    "review_sample_2.cache()\n",
    "review_sample_2.show(5)"
   ]
  },
  {
   "cell_type": "code",
   "execution_count": 21,
   "id": "0547252d",
   "metadata": {
    "scrolled": true
   },
   "outputs": [
    {
     "data": {
      "text/plain": [
       "Row(stars=5.0, unigram='{area=1, new=1, delici=1, crowd=1, made=1, tell=1, amaz=1, orlean=1, food=1, home=1, world=1, charm=1, nativ=1, jam=1, legit=1, biscuit=1}', bigram='{world home=1, biscuit world=1, nativ new=1, food legit=1, made jam=1, legit delici=1, area tell=1, new orlean=1, charm biscuit=1, crowd charm=1, home made=1, delici amaz=1, orlean area=1, tell food=1, amaz crowd=1}', trigram='{biscuit world home=1, crowd charm biscuit=1, legit delici amaz=1, home made jam=1, amaz crowd charm=1, charm biscuit world=1, orlean area tell=1, nativ new orlean=1, world home made=1, food legit delici=1, area tell food=1, delici amaz crowd=1, tell food legit=1, new orlean area=1}', length='2')"
      ]
     },
     "execution_count": 21,
     "metadata": {},
     "output_type": "execute_result"
    }
   ],
   "source": [
    "review_sample_2.first()"
   ]
  },
  {
   "cell_type": "code",
   "execution_count": 22,
   "id": "9a7a9464",
   "metadata": {
    "scrolled": true
   },
   "outputs": [
    {
     "name": "stderr",
     "output_type": "stream",
     "text": [
      "                                                                                \r"
     ]
    }
   ],
   "source": [
    "label = review_sample_2.rdd.map(lambda x: x['stars']).collect()\n",
    "unigram = review_sample_2.rdd.map(lambda x: x['unigram']).collect()\n",
    "bigram = review_sample_2.rdd.map(lambda x: x['bigram']).collect()\n",
    "trigram = review_sample_2.rdd.map(lambda x: x['trigram']).collect()\n",
    "length = review_sample_2.rdd.map(lambda x: x['length']).collect()"
   ]
  },
  {
   "cell_type": "code",
   "execution_count": 23,
   "id": "a8de38e5",
   "metadata": {},
   "outputs": [],
   "source": [
    "# for each rating, decrement it by 1.0, \n",
    "# rating 1.0 === label 0.0\n",
    "# rating 2.0 === label 1.0\n",
    "# rating 3.0 === label 2.0\n",
    "# rating 4.0 === label 3.0\n",
    "# rating 5.0 === label 4.0\n",
    "\n",
    "label = [i - 1 for i in label]"
   ]
  },
  {
   "cell_type": "code",
   "execution_count": 24,
   "id": "8fc0a57f",
   "metadata": {
    "scrolled": true
   },
   "outputs": [
    {
     "name": "stdout",
     "output_type": "stream",
     "text": [
      "8666 <class 'list'>\n",
      "8666 <class 'list'>\n",
      "8666 <class 'list'>\n",
      "8666 <class 'list'>\n",
      "8666 <class 'list'>\n"
     ]
    }
   ],
   "source": [
    "print(len(label), type(label))\n",
    "print(len(unigram), type(unigram))\n",
    "print(len(bigram), type(bigram))\n",
    "print(len(trigram), type(trigram))\n",
    "print(len(length), type(length))"
   ]
  },
  {
   "cell_type": "code",
   "execution_count": 25,
   "id": "4c024138",
   "metadata": {},
   "outputs": [
    {
     "name": "stdout",
     "output_type": "stream",
     "text": [
      "['{area=1, new=1, delici=1, crowd=1, made=1, tell=1, amaz=1, orlean=1, food=1, home=1, world=1, charm=1, nativ=1, jam=1, legit=1, biscuit=1}', '{organ=1, love=2, skin=1, omg=1, recommend=1, best=1, turn=1, good=1, dr=1, result=1, bali=1, sever=1, place=1, wonder=1, leav=1, realli=1, carolin=1, owner=1, new=1, product=1, spa=2, work=1, overal=1, also=1, puberti=1, say=1, improv=1, clean=1, look=3, onto=1, highli=1, face=2, hauschka=1, knowledg=1, know=1, hydrafaci=1, probabl=1, fresh=1, sinc=1, stuff=1}', '{properti=2, consist=1, seem=1, lot=1, waffl=1, sheet=1, make=1, wifi=1, bother=1, work=2, night=1, one=1, inn=2, maker=1, come=1, also=1, check=1, less=2, blood=1, stay=1, welcom=1, pretti=1, hampton=2, desk=1, know=1, personnel=1, except=1, front=1, much=2, typic=1, qualiti=1}', '{servic=1, bee=1, year=1, pricey=1, get=1, busi=1, go=1, place=1, bit=1, declin=1, food=3}', '{minut=2, 45=1, door=1, big=1, shuttl=3, wait=1, away=1, bad=2, almost=1, recommend=1, decent=1, hour=1, would=2, rate=1, function=1, hotel=1, let=1, ridicul=1, bare=1, us=1, bathroom=1, bigger=1, crazi=1, staff=1, enough=1, less=1, courteou=1, room=1, stay=1, airport=2, argu=2, configur=1, driver=2, 5=1, friendli=1, experi=1, except=1, averag=1, full=1, higher=1}'] <class 'str'>\n"
     ]
    }
   ],
   "source": [
    "# currently the dictionary is a string type\n",
    "print(unigram[:5], type(unigram[0]))"
   ]
  },
  {
   "cell_type": "code",
   "execution_count": 26,
   "id": "252af830",
   "metadata": {},
   "outputs": [],
   "source": [
    "# process each string to create a dictionary of word count\n",
    "\n",
    "import json\n",
    "from collections import defaultdict\n",
    "\n",
    "data = []\n",
    "uni_features_dict = {}\n",
    "bi_features_dict = {}\n",
    "tri_features_dict = {}\n",
    "\n",
    "def count_freq(counter, k, v):\n",
    "    if k in counter:\n",
    "        counter[k] += v\n",
    "    else:\n",
    "        counter[k] = v\n",
    "    return\n",
    "\n",
    "def process_dict(data):\n",
    "    global uni_features_dict, bi_features_dict, tri_features_dict\n",
    "    features = defaultdict(int)\n",
    "    data = data.split(', ')\n",
    "    for d in data:\n",
    "        if '=' not in d:\n",
    "            continue\n",
    "        k, v = d.split('=')\n",
    "        count = int(v.strip())\n",
    "        ngram = k.split(' ')\n",
    "        length = len(ngram)\n",
    "        if length == 1:\n",
    "            count_freq(uni_features_dict, k.strip(), count)\n",
    "        elif length == 2:\n",
    "            count_freq(bi_features_dict, k.strip(), count)\n",
    "        elif length == 3:\n",
    "            count_freq(tri_features_dict, k.strip(), count)\n",
    "        features[k.strip()] = count\n",
    "    return features\n",
    "\n",
    "\n",
    "for i in range(len(label)):\n",
    "    uni = process_dict(unigram[i][1:-1])\n",
    "    bi = process_dict(bigram[i][1:-1])\n",
    "    tri = process_dict(trigram[i][1:-1])\n",
    "    features = {**uni, **bi, **tri, 'length':length[i]}\n",
    "    data_point = (features, label[i])\n",
    "    data.append(data_point)\n",
    "\n",
    "# del unigram, bigram, label"
   ]
  },
  {
   "cell_type": "code",
   "execution_count": 27,
   "id": "fb5223d8",
   "metadata": {},
   "outputs": [
    {
     "data": {
      "text/plain": [
       "8666"
      ]
     },
     "execution_count": 27,
     "metadata": {},
     "output_type": "execute_result"
    }
   ],
   "source": [
    "len(data)"
   ]
  },
  {
   "cell_type": "code",
   "execution_count": 28,
   "id": "0b7e106d",
   "metadata": {
    "scrolled": true
   },
   "outputs": [
    {
     "name": "stdout",
     "output_type": "stream",
     "text": [
      "<class 'dict'>\n",
      "({'area': 1, 'new': 1, 'delici': 1, 'crowd': 1, 'made': 1, 'tell': 1, 'amaz': 1, 'orlean': 1, 'food': 1, 'home': 1, 'world': 1, 'charm': 1, 'nativ': 1, 'jam': 1, 'legit': 1, 'biscuit': 1, 'world home': 1, 'biscuit world': 1, 'nativ new': 1, 'food legit': 1, 'made jam': 1, 'legit delici': 1, 'area tell': 1, 'new orlean': 1, 'charm biscuit': 1, 'crowd charm': 1, 'home made': 1, 'delici amaz': 1, 'orlean area': 1, 'tell food': 1, 'amaz crowd': 1, 'biscuit world home': 1, 'crowd charm biscuit': 1, 'legit delici amaz': 1, 'home made jam': 1, 'amaz crowd charm': 1, 'charm biscuit world': 1, 'orlean area tell': 1, 'nativ new orlean': 1, 'world home made': 1, 'food legit delici': 1, 'area tell food': 1, 'delici amaz crowd': 1, 'tell food legit': 1, 'new orlean area': 1, 'length': '2'}, 4.0)\n"
     ]
    }
   ],
   "source": [
    "# now features of each label point is a dictionary type\n",
    "\n",
    "print(type(data[0][0]))\n",
    "print(data[0])"
   ]
  },
  {
   "cell_type": "code",
   "execution_count": 29,
   "id": "7559bdb7",
   "metadata": {},
   "outputs": [
    {
     "data": {
      "text/plain": [
       "{'biscuit world home': 1,\n",
       " 'crowd charm biscuit': 1,\n",
       " 'legit delici amaz': 1,\n",
       " 'home made jam': 1,\n",
       " 'amaz crowd charm': 1,\n",
       " 'charm biscuit world': 1,\n",
       " 'orlean area tell': 1,\n",
       " 'nativ new orlean': 1,\n",
       " 'world home made': 1,\n",
       " 'food legit delici': 1,\n",
       " 'area tell food': 1,\n",
       " 'delici amaz crowd': 1,\n",
       " 'tell food legit': 1,\n",
       " 'new orlean area': 1,\n",
       " 'new knowledg work': 1,\n",
       " 'realli know stuff': 2,\n",
       " 'look good sinc': 1,\n",
       " 'wonder organ product': 1,\n",
       " 'result leav face': 1,\n",
       " 'overal improv skin': 1,\n",
       " 'look place overal': 1,\n",
       " 'recommend bali spa': 1,\n",
       " 'product dr hauschka': 1,\n",
       " 'owner realli know': 1,\n",
       " 'hauschka say face': 1,\n",
       " 'spa carolin owner': 1,\n",
       " 'stuff turn onto': 1,\n",
       " 'highli recommend bali': 1,\n",
       " 'best highli recommend': 4,\n",
       " 'puberti also sever': 1,\n",
       " 'carolin owner realli': 1,\n",
       " 'skin new knowledg': 1,\n",
       " 'omg love spa': 1,\n",
       " 'sinc probabl puberti': 1,\n",
       " 'face fresh clean': 1,\n",
       " 'love spa carolin': 1,\n",
       " 'leav face fresh': 1,\n",
       " 'face look good': 1,\n",
       " 'place overal improv': 1,\n",
       " 'clean look look': 1,\n",
       " 'hydrafaci love result': 1,\n",
       " 'improv skin new': 1,\n",
       " 'love result leav': 1,\n",
       " 'say face look': 1,\n",
       " 'probabl puberti also': 1,\n",
       " 'onto wonder organ': 1,\n",
       " 'also sever hydrafaci': 1,\n",
       " 'organ product dr': 1,\n",
       " 'sever hydrafaci love': 1,\n",
       " 'good sinc probabl': 1,\n",
       " 'turn onto wonder': 1,\n",
       " 'knowledg work best': 1,\n",
       " 'know stuff turn': 1,\n",
       " 'look look place': 1,\n",
       " 'dr hauschka say': 1,\n",
       " 'work best highli': 1,\n",
       " 'fresh clean look': 1,\n",
       " 'make work bother': 1,\n",
       " 'also blood sheet': 1,\n",
       " 'pretti typic except': 1,\n",
       " 'bother also blood': 1,\n",
       " 'one pretti typic': 1,\n",
       " 'come know consist': 1,\n",
       " 'personnel much less': 1,\n",
       " 'properti one pretti': 1,\n",
       " 'less come know': 1,\n",
       " 'check make work': 1,\n",
       " 'less welcom night': 1,\n",
       " 'consist qualiti hampton': 1,\n",
       " 'desk personnel much': 1,\n",
       " 'front desk personnel': 1,\n",
       " 'welcom night seem': 1,\n",
       " 'hampton inn properti': 3,\n",
       " 'wifi front desk': 1,\n",
       " 'know consist qualiti': 1,\n",
       " 'typic except wifi': 1,\n",
       " 'waffl maker work': 1,\n",
       " 'blood sheet waffl': 1,\n",
       " 'inn properti one': 1,\n",
       " 'seem check make': 1,\n",
       " 'work much less': 2,\n",
       " 'much less come': 1,\n",
       " 'except wifi front': 1,\n",
       " 'work bother also': 1,\n",
       " 'night seem check': 1,\n",
       " 'qualiti hampton inn': 1,\n",
       " 'maker work much': 1,\n",
       " 'sheet waffl maker': 1,\n",
       " 'much less welcom': 1,\n",
       " 'lot hampton inn': 1,\n",
       " 'stay lot hampton': 1,\n",
       " 'food year food': 1,\n",
       " 'year food servic': 1,\n",
       " 'go place food': 1,\n",
       " 'get bit pricey': 1,\n",
       " 'food servic declin': 1,\n",
       " 'bee go place': 1,\n",
       " 'declin food get': 1,\n",
       " 'servic declin food': 1,\n",
       " 'food get bit': 1,\n",
       " 'busi bee go': 1,\n",
       " 'place food year': 1,\n",
       " '45 minut argu': 1,\n",
       " 'minut away wait': 1,\n",
       " 'airport shuttl driver': 1,\n",
       " 'minut argu driver': 1,\n",
       " 'averag bathroom bare': 1,\n",
       " 'courteou staff friendli': 1,\n",
       " 'wait 45 minut': 10,\n",
       " 'door configur would': 1,\n",
       " 'decent room bigger': 1,\n",
       " 'room bigger averag': 1,\n",
       " 'full argu would': 1,\n",
       " 'us almost full': 1,\n",
       " '5 minut away': 4,\n",
       " 'big door configur': 1,\n",
       " 'function crazi big': 1,\n",
       " 'hour shuttl experi': 1,\n",
       " 'experi bad enough': 1,\n",
       " 'ridicul bad hotel': 1,\n",
       " 'bigger averag bathroom': 1,\n",
       " 'driver decent room': 1,\n",
       " 'away wait 45': 1,\n",
       " 'crazi big door': 1,\n",
       " 'friendli except airport': 1,\n",
       " 'bad enough recommend': 1,\n",
       " 'almost full argu': 1,\n",
       " 'let us almost': 1,\n",
       " 'argu would hour': 1,\n",
       " 'hotel less 5': 1,\n",
       " 'bad hotel less': 1,\n",
       " 'bathroom bare function': 1,\n",
       " 'would rate higher': 2,\n",
       " 'configur would rate': 1,\n",
       " 'would hour shuttl': 1,\n",
       " 'higher airport shuttl': 1,\n",
       " 'airport shuttl ridicul': 1,\n",
       " 'shuttl ridicul bad': 1,\n",
       " 'driver let us': 2,\n",
       " 'rate higher airport': 1,\n",
       " 'bare function crazi': 1,\n",
       " 'except airport shuttl': 1,\n",
       " 'less 5 minut': 2,\n",
       " 'staff friendli except': 1,\n",
       " 'shuttl experi bad': 1,\n",
       " 'enough recommend stay': 1,\n",
       " 'argu driver let': 1,\n",
       " 'shuttl driver decent': 1,\n",
       " 'appoint got laid': 1,\n",
       " 'insur know least': 1,\n",
       " 'week due money': 1,\n",
       " 'also saw dr': 1,\n",
       " 'afford cure anoth': 1,\n",
       " 'new doctor issu': 1,\n",
       " 'came extra 10': 1,\n",
       " 'infect afford cure': 1,\n",
       " 'pay know much': 1,\n",
       " '10 000 noth': 1,\n",
       " 'know least came': 1,\n",
       " 'came instead left': 1,\n",
       " 'hard get appoint': 1,\n",
       " 'get appoint got': 1,\n",
       " 'much get paid': 1,\n",
       " 'due money issu': 1,\n",
       " 'co pay know': 1,\n",
       " 'get paid insur': 1,\n",
       " 'laid incom prescrib': 1,\n",
       " 'cure anoth 2': 1,\n",
       " 'never fix also': 1,\n",
       " 'hundr co pay': 1,\n",
       " '2 week due': 1,\n",
       " 'yeast infect afford': 1,\n",
       " 'incom prescrib wrong': 1,\n",
       " 'extra 10 000': 1,\n",
       " 'come never fix': 1,\n",
       " 'anoth 2 week': 2,\n",
       " 'prescrib wrong medic': 1,\n",
       " 'wast hundr co': 1,\n",
       " 'fix also saw': 1,\n",
       " 'money issu wast': 1,\n",
       " 'medic noth came': 1,\n",
       " 'instead left yeast': 1,\n",
       " 'wrong medic noth': 1,\n",
       " 'doctor issu come': 1,\n",
       " 'sad say find': 1,\n",
       " 'issu come never': 1,\n",
       " 'dr bley hard': 1,\n",
       " 'say find new': 1,\n",
       " 'bley hard get': 1,\n",
       " 'got laid incom': 1,\n",
       " 'paid insur know': 1,\n",
       " 'issu wast hundr': 1,\n",
       " 'noth came instead': 1,\n",
       " 'saw dr bley': 1,\n",
       " 'left yeast infect': 1,\n",
       " 'find new doctor': 1,\n",
       " 'know much get': 1,\n",
       " 'least came extra': 1,\n",
       " 'shop mani vari': 1,\n",
       " 'mall ever made': 1,\n",
       " 'vari excess filen': 1,\n",
       " 'less expens arguabl': 1,\n",
       " 'food court one': 1,\n",
       " 'filen basement good': 1,\n",
       " 'hubub downtown cross': 1,\n",
       " 'good time shop': 1,\n",
       " 'nice outdoor mall': 1,\n",
       " 'good restaur like': 1,\n",
       " 'lunch chinatown could': 1,\n",
       " 'downtown cross feel': 1,\n",
       " 'area definit chain': 1,\n",
       " 'could good restaur': 1,\n",
       " 'right subway let': 1,\n",
       " 'head block away': 1,\n",
       " 'line brick store': 1,\n",
       " 'car line brick': 1,\n",
       " 'marshal block away': 1,\n",
       " 'excess filen basement': 1,\n",
       " 'shop lunch chinatown': 1,\n",
       " 'outdoor mall ever': 1,\n",
       " 'biggest outdoor mall': 1,\n",
       " 'mani vari excess': 1,\n",
       " 'directli famou filen': 1,\n",
       " 'block away real': 1,\n",
       " 'definit chain ambianc': 1,\n",
       " 'park marshal block': 1,\n",
       " 'mall indoor neon': 1,\n",
       " 'look feel rise': 1,\n",
       " 'mall shop lunch': 1,\n",
       " 'mediterranean place avoid': 1,\n",
       " 'block away less': 1,\n",
       " 'restaur like mall': 1,\n",
       " 'cross feel like': 1,\n",
       " 'place avoid food': 1,\n",
       " 'sport fenway park': 1,\n",
       " 'neon lit food': 1,\n",
       " 'arguabl cheaper merchandis': 1,\n",
       " 'let directli famou': 1,\n",
       " 'food shop mani': 1,\n",
       " 'real food shop': 1,\n",
       " 'basement good time': 1,\n",
       " 'like mall indoor': 1,\n",
       " 'everywher street car': 1,\n",
       " 'away real food': 1,\n",
       " 'howev head block': 1,\n",
       " 'basement shop everywher': 1,\n",
       " 'said nice outdoor': 1,\n",
       " 'store area definit': 1,\n",
       " 'outdoor mall shop': 1,\n",
       " 'chain ambianc tell': 1,\n",
       " 'enter biggest outdoor': 1,\n",
       " 'like enter biggest': 1,\n",
       " 'feel like enter': 2,\n",
       " 'one featur passabl': 1,\n",
       " 'brick store area': 1,\n",
       " 'mayb right subway': 1,\n",
       " 'feel rise depth': 1,\n",
       " 'subway let directli': 1,\n",
       " 'lit food court': 1,\n",
       " 'chinatown could good': 1,\n",
       " 'time shop sport': 1,\n",
       " 'expens arguabl cheaper': 1,\n",
       " 'featur passabl mediterranean': 1,\n",
       " 'avoid food court': 1,\n",
       " 'away less expens': 1,\n",
       " 'subway hubub downtown': 1,\n",
       " 'ambianc tell said': 1,\n",
       " 'tell said nice': 1,\n",
       " 'street car line': 1,\n",
       " 'made mayb right': 1,\n",
       " 'depth subway hubub': 1,\n",
       " 'rise depth subway': 1,\n",
       " 'filen basement shop': 1,\n",
       " 'food court howev': 1,\n",
       " 'indoor neon lit': 1,\n",
       " 'passabl mediterranean place': 1,\n",
       " 'ever made mayb': 1,\n",
       " 'shop everywher street': 1,\n",
       " 'fenway park marshal': 1,\n",
       " 'shop sport fenway': 1,\n",
       " 'court howev head': 1,\n",
       " 'court one featur': 1,\n",
       " 'famou filen basement': 1,\n",
       " 'split bake ricotta': 1,\n",
       " 'order item long': 1,\n",
       " 'dine experi boston': 1,\n",
       " 'oven theori peopl': 1,\n",
       " 'employe frequent diner': 1,\n",
       " 'store save tummi': 1,\n",
       " 'two hour outsid': 1,\n",
       " 'order split bake': 1,\n",
       " 'claim wait close': 1,\n",
       " 'local expect wait': 1,\n",
       " 'north end claim': 1,\n",
       " 'recent month outshin': 1,\n",
       " 'room cozi well': 1,\n",
       " 'second pie split': 1,\n",
       " 'epic delici would': 1,\n",
       " 'aesthet cozi light': 1,\n",
       " 'outshin rest leap': 1,\n",
       " 'date found wander': 1,\n",
       " 'long one plate': 1,\n",
       " 'former food servic': 1,\n",
       " 'hour outsid freez': 1,\n",
       " 'frequent diner realli': 1,\n",
       " 'mostli open kitchen': 1,\n",
       " 'new got noth': 1,\n",
       " 'meat dens pizza': 1,\n",
       " 'extrem limit pop': 1,\n",
       " 'dress proport known': 1,\n",
       " 'pizza oven theori': 1,\n",
       " 'simpl modern aesthet': 1,\n",
       " 'servic tabl never': 1,\n",
       " 'local liquor store': 2,\n",
       " 'finger tip head': 1,\n",
       " 'proport known pizza': 1,\n",
       " 'readi mostli open': 1,\n",
       " 'system mini drink': 1,\n",
       " 'local justifi one': 1,\n",
       " 'outsid freez cold': 1,\n",
       " 'cozi well curat': 1,\n",
       " 'got noth local': 1,\n",
       " 'kind gastronom miracl': 1,\n",
       " 'modern aesthet cozi': 1,\n",
       " 'expect wait kind': 1,\n",
       " 'claim best meal': 1,\n",
       " 'pizza would epic': 1,\n",
       " '30 saturday night': 1,\n",
       " 'ct lot pizza': 1,\n",
       " 'liquor store save': 1,\n",
       " 'bake ricotta ceasar': 1,\n",
       " 'peopl claim best': 1,\n",
       " 'pie split us': 1,\n",
       " 'delici would order': 2,\n",
       " 'best meal life': 1,\n",
       " 'glow pizza oven': 1,\n",
       " 'open kitchen watch': 1,\n",
       " 'good pizza new': 1,\n",
       " 'immedi seat order': 1,\n",
       " 'way hot readi': 1,\n",
       " 'sorri nutmegg former': 1,\n",
       " 'item perfectli dress': 1,\n",
       " 'bound new got': 1,\n",
       " 'dine room cozi': 1,\n",
       " 'one plate clear': 1,\n",
       " 'leap bound new': 1,\n",
       " 'next item way': 1,\n",
       " 'lot pizza recent': 1,\n",
       " 'digest system mini': 1,\n",
       " 'abhor stand street': 1,\n",
       " 'would epic delici': 1,\n",
       " 'watch shoulder dine': 1,\n",
       " 'ador north end': 1,\n",
       " 'well curat simpl': 1,\n",
       " 'stand street wait': 1,\n",
       " 'tummi grumbl frozen': 1,\n",
       " 'theori peopl claim': 1,\n",
       " 'plate clear next': 1,\n",
       " 'never without order': 1,\n",
       " 'grumbl frozen finger': 1,\n",
       " 'saturday night knew': 1,\n",
       " 'option extrem limit': 1,\n",
       " 'item way hot': 1,\n",
       " '7 30 saturday': 1,\n",
       " 'perfectli dress proport': 1,\n",
       " 'month outshin rest': 1,\n",
       " 'noth local sorri': 1,\n",
       " 'pizza recent month': 1,\n",
       " 'clear next item': 1,\n",
       " 'without order item': 1,\n",
       " 'tabl never without': 1,\n",
       " 'head local justifi': 1,\n",
       " 'salad meat dens': 1,\n",
       " 'pizza new resid': 1,\n",
       " 'one best dine': 2,\n",
       " 'frozen finger tip': 1,\n",
       " 'cold lubric digest': 1,\n",
       " 'servic employe frequent': 1,\n",
       " 'miracl immedi seat': 1,\n",
       " 'north end abhor': 1,\n",
       " 'dens pizza item': 1,\n",
       " 'close two hour': 1,\n",
       " 'pop local expect': 1,\n",
       " 'lubric digest system': 1,\n",
       " 'item long one': 1,\n",
       " 'resid ct lot': 1,\n",
       " 'local sorri sorri': 1,\n",
       " 'crazi good pizza': 1,\n",
       " 'wait close two': 1,\n",
       " 'pace servic tabl': 1,\n",
       " 'mini drink local': 1,\n",
       " 'street wait tabl': 1,\n",
       " 'drink local liquor': 1,\n",
       " 'night knew option': 1,\n",
       " 'wander hanov 7': 1,\n",
       " 'tip head local': 1,\n",
       " 'freez cold lubric': 1,\n",
       " 'amplifi glow pizza': 1,\n",
       " 'wait kind gastronom': 1,\n",
       " 'knew option extrem': 1,\n",
       " 'limit pop local': 1,\n",
       " 'shoulder dine room': 1,\n",
       " 'would order second': 1,\n",
       " 'curat simpl modern': 1,\n",
       " 'hot readi mostli': 1,\n",
       " 'kitchen watch shoulder': 1,\n",
       " 'ricotta ceasar salad': 1,\n",
       " 'nutmegg former food': 1,\n",
       " 'found wander hanov': 1,\n",
       " 'best dine experi': 4,\n",
       " 'meal life north': 1,\n",
       " 'justifi one best': 1,\n",
       " 'wait tabl date': 1,\n",
       " 'food servic employe': 1,\n",
       " 'realli impress pace': 1,\n",
       " 'order second pie': 1,\n",
       " 'life north end': 1,\n",
       " 'tabl date found': 1,\n",
       " 'end abhor stand': 1,\n",
       " 'hanov 7 30': 1,\n",
       " 'impress pace servic': 1,\n",
       " 'ceasar salad meat': 1,\n",
       " 'save tummi grumbl': 1,\n",
       " 'light amplifi glow': 1,\n",
       " 'seat order split': 1,\n",
       " 'pizza item perfectli': 1,\n",
       " 'split us crazi': 1,\n",
       " 'us crazi good': 1,\n",
       " 'rest leap bound': 1,\n",
       " 'sorri sorri nutmegg': 1,\n",
       " 'diner realli impress': 1,\n",
       " 'end claim wait': 1,\n",
       " 'cozi light amplifi': 1,\n",
       " 'new resid ct': 1,\n",
       " 'known pizza would': 1,\n",
       " 'gastronom miracl immedi': 1,\n",
       " 'order 2 pizza': 2,\n",
       " 'place order 2': 1,\n",
       " 'actual get eat': 1,\n",
       " 'pizza today blown': 1,\n",
       " 'today blown away': 1,\n",
       " 'origin europ cours': 1,\n",
       " 'provid definetli pizza': 1,\n",
       " 'tast appear servic': 1,\n",
       " 'get eat italian': 1,\n",
       " 'actual found place': 1,\n",
       " 'alway go back': 4,\n",
       " 'never actual found': 1,\n",
       " 'willingli alway go': 1,\n",
       " 'go back found': 1,\n",
       " 'italian pizza ahhhmaz': 1,\n",
       " 'servic provid definetli': 1,\n",
       " 'pizza ahhhmaz alway': 1,\n",
       " 'pizza never actual': 1,\n",
       " 'away tast appear': 1,\n",
       " 'got spoil actual': 1,\n",
       " 'found place order': 1,\n",
       " 'cours got spoil': 1,\n",
       " 'spoil actual get': 1,\n",
       " '2 pizza today': 1,\n",
       " 'place willingli alway': 1,\n",
       " 'picki pizza never': 1,\n",
       " 'ahhhmaz alway picki': 1,\n",
       " 'blown away tast': 2,\n",
       " 'alway picki pizza': 1,\n",
       " 'back found place': 1,\n",
       " 'europ cours got': 1,\n",
       " 'found place willingli': 1,\n",
       " 'eat italian pizza': 1,\n",
       " 'appear servic provid': 1,\n",
       " 'definetli pizza place': 1,\n",
       " 'impress peopl appar': 1,\n",
       " 'morn told deliveri': 1,\n",
       " 'good impress peopl': 1,\n",
       " 'way leav good': 1,\n",
       " 'advanc twice put': 1,\n",
       " '30am 1 30pm': 1,\n",
       " 'altern option good': 1,\n",
       " 'time leav us': 1,\n",
       " 'deliveri avail 2': 1,\n",
       " 'door dash work': 1,\n",
       " 'best citi opinion': 1,\n",
       " 'put meat bread': 1,\n",
       " 'checkout morn told': 1,\n",
       " 'howev issu offer': 1,\n",
       " 'love sandwich best': 1,\n",
       " 'somewher els get': 2,\n",
       " 'scrambl altern option': 1,\n",
       " 'meat bread menu': 1,\n",
       " 'told deliveri avail': 1,\n",
       " 'menu let want': 1,\n",
       " '15pm even offer': 1,\n",
       " '6pm place group': 1,\n",
       " 'let want offer': 1,\n",
       " 'multipl time leav': 1,\n",
       " '11am 11 30am': 1,\n",
       " 'opinion howev issu': 1,\n",
       " 'offer servic cherri': 1,\n",
       " 'deliveri 11am 11': 1,\n",
       " 'bread menu let': 1,\n",
       " 'dash work busi': 1,\n",
       " 'lunch schedul advanc': 1,\n",
       " 'order advanc yesterday': 1,\n",
       " 'let whole offic': 1,\n",
       " 'ask everyon order': 1,\n",
       " 'citi opinion howev': 1,\n",
       " '30pm 6pm place': 1,\n",
       " 'pleas stop act': 1,\n",
       " 'deliveri door dash': 1,\n",
       " 'sandwich best citi': 1,\n",
       " 'leav good impress': 3,\n",
       " 'avail 2 15pm': 1,\n",
       " 'everyon order somewher': 1,\n",
       " 'stop act like': 2,\n",
       " 'issu offer deliveri': 1,\n",
       " 'offer deliveri door': 1,\n",
       " 'bother irrit loyal': 1,\n",
       " 'tri checkout morn': 1,\n",
       " 'peopl appar offer': 1,\n",
       " 'day feel like': 2,\n",
       " 'offer deliveri 11am': 1,\n",
       " 'servic bother irrit': 1,\n",
       " 'get know best': 1,\n",
       " 'order lunch schedul': 1,\n",
       " 'option good way': 1,\n",
       " 'custom yet ask': 1,\n",
       " 'plan order lunch': 1,\n",
       " 'advanc yesterday tri': 1,\n",
       " 'like good look': 1,\n",
       " 'place group order': 1,\n",
       " '11 30am 1': 1,\n",
       " 'pick day feel': 1,\n",
       " 'whole offic peopl': 1,\n",
       " 'even offer servic': 1,\n",
       " 'cherri pick day': 1,\n",
       " 'appar offer deliveri': 1,\n",
       " 'offer servic bother': 1,\n",
       " 'twice put meat': 1,\n",
       " 'irrit loyal custom': 1,\n",
       " 'best pleas stop': 1,\n",
       " 'servic cherri pick': 1,\n",
       " 'schedul advanc twice': 1,\n",
       " 'know best pleas': 1,\n",
       " 'want offer servic': 1,\n",
       " 'yesterday tri checkout': 1,\n",
       " 'busi offic plan': 1,\n",
       " 'order somewher els': 1,\n",
       " 'loyal custom yet': 1,\n",
       " 'peopl multipl time': 1,\n",
       " '1 30pm 6pm': 1,\n",
       " 'act like good': 1,\n",
       " 'us scrambl altern': 1,\n",
       " 'offic peopl multipl': 1,\n",
       " 'like let whole': 1,\n",
       " 'offic plan order': 1,\n",
       " '2 15pm even': 1,\n",
       " 'group order advanc': 1,\n",
       " 'work busi offic': 1,\n",
       " 'els get know': 1,\n",
       " 'good way leav': 1,\n",
       " 'leav us scrambl': 1,\n",
       " 'yet ask everyon': 1,\n",
       " 'feel like let': 1,\n",
       " 'like slave boat': 1,\n",
       " 'everi singl day': 8,\n",
       " 'like watch kid': 1,\n",
       " 'food thing everi': 1,\n",
       " 'back rude one': 1,\n",
       " 'food cafeteria food': 1,\n",
       " 'plan go norwegian': 1,\n",
       " 'dawn first last': 1,\n",
       " 'look review assum': 1,\n",
       " 'assum plan cruis': 1,\n",
       " 'work employe like': 1,\n",
       " 'port one person': 1,\n",
       " 'babi look review': 1,\n",
       " 'employe like slave': 1,\n",
       " 'ball stomach kick': 1,\n",
       " 'size golf ball': 1,\n",
       " 'get okay thing': 1,\n",
       " 'cop famili member': 1,\n",
       " 'street cat call': 1,\n",
       " 'call call babi': 1,\n",
       " 'cruis port one': 1,\n",
       " 'drink like watch': 1,\n",
       " 'luggag plan go': 1,\n",
       " 'rude one cop': 1,\n",
       " 'boat fill drink': 1,\n",
       " 'thing complain cruis': 1,\n",
       " 'littl kid food': 1,\n",
       " 'famili member cross': 1,\n",
       " 'okay thing complain': 1,\n",
       " 'call babi look': 1,\n",
       " 'one person take': 3,\n",
       " 'golf ball stomach': 1,\n",
       " 'kid way taken': 1,\n",
       " 'drink littl kid': 1,\n",
       " 'time cruiser work': 1,\n",
       " 'norwegian dawn first': 1,\n",
       " 'first last time': 7,\n",
       " 'love drink like': 1,\n",
       " 'review assum plan': 1,\n",
       " 'cruis love drink': 1,\n",
       " 'singl day think': 1,\n",
       " 'littl kid way': 1,\n",
       " 'kid cruis could': 1,\n",
       " 'complain cruis port': 1,\n",
       " 'plan cruis love': 1,\n",
       " 'slave boat fill': 1,\n",
       " 'go bruis size': 1,\n",
       " 'fill drink littl': 1,\n",
       " 'cafeteria food thing': 1,\n",
       " 'bruis size golf': 1,\n",
       " 'taken back rude': 1,\n",
       " 'person take luggag': 1,\n",
       " 'cruis could go': 1,\n",
       " 'kid food cafeteria': 1,\n",
       " 'cruiser work employe': 1,\n",
       " 'cat call call': 1,\n",
       " 'thing everi singl': 1,\n",
       " 'way taken back': 1,\n",
       " 'one cop famili': 1,\n",
       " 'kick littl kid': 1,\n",
       " 'go norwegian dawn': 1,\n",
       " 'cross street cat': 1,\n",
       " 'could go bruis': 1,\n",
       " 'member cross street': 1,\n",
       " 'stomach kick littl': 1,\n",
       " 'take luggag plan': 1,\n",
       " 'day think get': 1,\n",
       " 'watch kid cruis': 1,\n",
       " 'last time cruiser': 1,\n",
       " 'gain new custom': 1,\n",
       " 'total profession gain': 1,\n",
       " 'right total profession': 1,\n",
       " 'tire fix right': 1,\n",
       " 'slow leak tire': 2,\n",
       " 'help slow leak': 1,\n",
       " 'zach johnathan super': 1,\n",
       " 'friendli help slow': 1,\n",
       " 'johnathan super friendli': 1,\n",
       " 'fix right total': 1,\n",
       " 'leak tire fix': 1,\n",
       " 'super friendli help': 10,\n",
       " 'profession gain new': 1,\n",
       " 'experi plateau sinc': 1,\n",
       " 'ride said prior': 1,\n",
       " 'time come sure': 1,\n",
       " 'get good right': 1,\n",
       " 'continu due everi': 1,\n",
       " 'flew south continu': 1,\n",
       " 'everi time come': 24,\n",
       " 'plateau sinc restaur': 1,\n",
       " 'said prior review': 1,\n",
       " 'sinc restaur get': 1,\n",
       " 'sure point experi': 1,\n",
       " 'restaur get good': 1,\n",
       " 'review tri readi': 1,\n",
       " 'good right enjoy': 1,\n",
       " 'right enjoy ride': 1,\n",
       " 'come sure point': 1,\n",
       " 'due everi time': 1,\n",
       " 'prior review tri': 1,\n",
       " 'point experi plateau': 1,\n",
       " 'one flew south': 1,\n",
       " 'enjoy ride said': 1,\n",
       " 'south continu due': 1,\n",
       " 'two go though': 1,\n",
       " 'typic eclect cross': 1,\n",
       " 'top typic eclect': 1,\n",
       " 'best flavor dough': 1,\n",
       " 'cross fusion choic': 1,\n",
       " 'top price still': 1,\n",
       " 'wanna support two': 1,\n",
       " 'better dough ingredi': 1,\n",
       " 'choic go simpler': 1,\n",
       " 'choic caus better': 1,\n",
       " 'simpler choic caus': 1,\n",
       " 'though flavor top': 1,\n",
       " 'dough ingredi top': 1,\n",
       " 'caus better ingredi': 1,\n",
       " 'ingredi come best': 1,\n",
       " 'come best flavor': 1,\n",
       " 'better ingredi come': 1,\n",
       " 'go though flavor': 1,\n",
       " 'fusion choic go': 1,\n",
       " 'flavor top typic': 1,\n",
       " 'eclect cross fusion': 1,\n",
       " 'go simpler choic': 1,\n",
       " 'support two go': 1,\n",
       " 'price still wanna': 1,\n",
       " 'ingredi top price': 1,\n",
       " 'still wanna support': 1,\n",
       " 'hoo breakfast dinner': 1,\n",
       " 'seem special seem': 1,\n",
       " 'unabl finish sandwich': 1,\n",
       " 'monday night brunch': 1,\n",
       " 'fri end finish': 1,\n",
       " 'finish sandwich fri': 1,\n",
       " 'could meet expect': 1,\n",
       " 'sort mayo sauc': 1,\n",
       " 'pretti good mixtur': 1,\n",
       " 'rosebud said still': 1,\n",
       " 'noth could meet': 1,\n",
       " 'came danger close': 1,\n",
       " 'heavili fri onion': 1,\n",
       " 'although came danger': 1,\n",
       " 'star round 3': 1,\n",
       " 'server pretti good': 2,\n",
       " 'came monday night': 1,\n",
       " 'mix sriacha sure': 1,\n",
       " 'dinner realli enjoy': 1,\n",
       " 'friend feel spite': 1,\n",
       " 'home fri amaz': 2,\n",
       " 'like chick fila': 1,\n",
       " 'nasti mcalist delici': 1,\n",
       " 'almost quit sauc': 1,\n",
       " 'bun die dri': 1,\n",
       " 'cider champagn seem': 1,\n",
       " 'worth 9 servic': 1,\n",
       " 'enjoy menu offer': 1,\n",
       " '5 star round': 2,\n",
       " 'tabl area 3': 1,\n",
       " 'breakfast dinner realli': 1,\n",
       " 'also order cocktail': 1,\n",
       " 'delici although came': 1,\n",
       " 'menu offer order': 1,\n",
       " 'end finish unfortun': 1,\n",
       " 'sure perfect sandwich': 1,\n",
       " 'chicken tender although': 1,\n",
       " 'order nasti mcalist': 1,\n",
       " 'even unabl finish': 1,\n",
       " 'mcalist delici although': 1,\n",
       " 'given tabl area': 1,\n",
       " 'chicken biscuit bun': 1,\n",
       " 'perfect consist chicken': 1,\n",
       " 'tender although littl': 1,\n",
       " 'royal suggest server': 1,\n",
       " 'tast almost quit': 1,\n",
       " 'biscuit bun die': 1,\n",
       " 'cocktail blueberri royal': 1,\n",
       " 'mayo sauc mix': 1,\n",
       " 'mixtur cider champagn': 1,\n",
       " 'restaur definit way': 1,\n",
       " 'offer order nasti': 1,\n",
       " 'hype noth could': 1,\n",
       " 'fri sir also': 1,\n",
       " 'fri amaz season': 1,\n",
       " 'sauc mix sriacha': 1,\n",
       " 'definit way hype': 1,\n",
       " 'amaz season heavili': 1,\n",
       " 'sauc came sort': 1,\n",
       " 'came sort mayo': 1,\n",
       " 'brunch woo hoo': 1,\n",
       " 'expect set rosebud': 1,\n",
       " 'sandwich fri end': 1,\n",
       " 'good mixtur cider': 1,\n",
       " 'season heavili fri': 1,\n",
       " '9 servic meh': 1,\n",
       " 'chicken biscuit love': 1,\n",
       " 'finish unfortun help': 1,\n",
       " 'onion even unabl': 1,\n",
       " 'meh especi given': 1,\n",
       " 'suggest server pretti': 1,\n",
       " 'sandwich home fri': 1,\n",
       " 'help friend feel': 1,\n",
       " 'woo hoo breakfast': 1,\n",
       " 'feel spite fri': 1,\n",
       " 'servic meh especi': 1,\n",
       " 'special seem worth': 1,\n",
       " 'tast like chick': 1,\n",
       " 'fri onion even': 1,\n",
       " 'biscuit love chicken': 1,\n",
       " 'blueberri royal suggest': 1,\n",
       " 'seem worth 9': 1,\n",
       " 'quit sauc came': 1,\n",
       " 'butter perfect consist': 1,\n",
       " 'spite fri sir': 1,\n",
       " 'fila chicken biscuit': 1,\n",
       " 'set rosebud said': 1,\n",
       " 'perfect sandwich home': 1,\n",
       " 'enjoy came monday': 1,\n",
       " 'said still enjoy': 1,\n",
       " 'sriacha sure perfect': 1,\n",
       " 'sir also order': 1,\n",
       " 'night brunch woo': 1,\n",
       " 'littl close dri': 1,\n",
       " 'close tast like': 2,\n",
       " 'champagn seem special': 1,\n",
       " 'way hype noth': 1,\n",
       " 'dri tast almost': 1,\n",
       " 'close dri tast': 1,\n",
       " 'consist chicken tender': 1,\n",
       " 'especi given tabl': 1,\n",
       " 'although littl close': 1,\n",
       " '3 5 star': 16,\n",
       " 'order cocktail blueberri': 1,\n",
       " 'meet expect set': 1,\n",
       " 'love chicken biscuit': 1,\n",
       " 'chick fila chicken': 1,\n",
       " 'area 3 5': 1,\n",
       " 'still enjoy came': 1,\n",
       " 'realli enjoy menu': 1,\n",
       " 'unfortun help friend': 1,\n",
       " 'danger close tast': 1,\n",
       " 'die dri butter': 1,\n",
       " 'dri butter perfect': 1,\n",
       " 'behind counter chai': 1,\n",
       " 'local boulderit pie': 1,\n",
       " 'differ atmospher feel': 1,\n",
       " 'cafe offer differ': 1,\n",
       " 'limit lunch item': 1,\n",
       " 'staff get day': 1,\n",
       " 'cafe boulder local': 1,\n",
       " 'caf type thing': 1,\n",
       " 'music caf type': 1,\n",
       " 'receiv depend staff': 1,\n",
       " 'rang great cold': 1,\n",
       " 'write import report': 1,\n",
       " 'get day rang': 1,\n",
       " 'import report get': 1,\n",
       " 'littl limit lunch': 1,\n",
       " 'giant slice pie': 1,\n",
       " 'opinion need write': 1,\n",
       " 'seat seren east': 1,\n",
       " 'funki interior wealth': 1,\n",
       " 'ot go chat': 1,\n",
       " 'cold imperson goat': 1,\n",
       " 'wealth outdoor seat': 1,\n",
       " 'done may better': 1,\n",
       " 'chai pretti great': 1,\n",
       " 'counter chai pretti': 1,\n",
       " 'end locat pearl': 1,\n",
       " 'item servic receiv': 1,\n",
       " 'pretti great probabl': 1,\n",
       " 'get bunch work': 1,\n",
       " 'east end locat': 1,\n",
       " 'feel like relax': 1,\n",
       " 'depend staff get': 1,\n",
       " 'boulder local boulderit': 1,\n",
       " 'guy behind counter': 4,\n",
       " 'slice pie nice': 1,\n",
       " 'second favorit cafe': 1,\n",
       " 'bunch work done': 1,\n",
       " 'like goat funki': 1,\n",
       " 'great cold imperson': 1,\n",
       " 'also live music': 1,\n",
       " 'serv cafe offer': 1,\n",
       " 'atmospher feel like': 3,\n",
       " 'friend work opinion': 1,\n",
       " 'goat better place': 1,\n",
       " 'nice guy behind': 1,\n",
       " 'awesom littl limit': 1,\n",
       " 'locat pearl also': 1,\n",
       " 'given giant slice': 1,\n",
       " 'outdoor seat seren': 1,\n",
       " 'day rang great': 1,\n",
       " 'work done may': 1,\n",
       " 'offer differ atmospher': 1,\n",
       " 'work opinion need': 1,\n",
       " 'pie nice guy': 1,\n",
       " 'report get bunch': 1,\n",
       " 'live music caf': 1,\n",
       " 'thing went given': 1,\n",
       " 'imperson goat better': 1,\n",
       " 'place ot go': 1,\n",
       " 'go chat friend': 1,\n",
       " 'servic receiv depend': 1,\n",
       " 'seren east end': 1,\n",
       " 'better place ot': 1,\n",
       " 'interior wealth outdoor': 1,\n",
       " 'lunch item servic': 1,\n",
       " 'pearl also live': 1,\n",
       " 'pie awesom littl': 1,\n",
       " 'goat funki interior': 1,\n",
       " 'may better serv': 1,\n",
       " 'type thing went': 1,\n",
       " 'favorit cafe boulder': 1,\n",
       " 'chat friend work': 1,\n",
       " 'need write import': 1,\n",
       " 'probabl second favorit': 1,\n",
       " 'great probabl second': 1,\n",
       " 'better serv cafe': 1,\n",
       " 'boulderit pie awesom': 1,\n",
       " 'went given giant': 1,\n",
       " 'someth els entir': 1,\n",
       " 'like fast food': 4,\n",
       " 'time spent low': 1,\n",
       " 'giant wait room': 1,\n",
       " 'well except drive': 1,\n",
       " 'park side street': 1,\n",
       " 'feel like dmv': 1,\n",
       " 'low level staff': 1,\n",
       " 'staff doc buzz': 1,\n",
       " 'like dmv 99': 1,\n",
       " 'long wait schedul': 1,\n",
       " 'andrew feel like': 1,\n",
       " 'station fast possibl': 1,\n",
       " 'way small park': 1,\n",
       " 'els entir feel': 1,\n",
       " 'fellow cattl eyehealth': 1,\n",
       " 'doc buzz short': 1,\n",
       " 'final look someth': 1,\n",
       " 'possibl want treat': 1,\n",
       " 'canada giant wait': 1,\n",
       " 'place well except': 1,\n",
       " 'level staff doc': 1,\n",
       " 'food drive place': 2,\n",
       " 'fast possibl long': 1,\n",
       " 'one herd station': 1,\n",
       " 'spent low level': 1,\n",
       " 'lot way small': 1,\n",
       " 'fast food drive': 1,\n",
       " 'park lot way': 2,\n",
       " 'cattl eyehealth northwest': 1,\n",
       " 'possibl long wait': 1,\n",
       " 'herd station fast': 1,\n",
       " 'except drive park': 1,\n",
       " 'visit possibl want': 1,\n",
       " 'buzz short visit': 1,\n",
       " 'three year final': 1,\n",
       " 'want treat like': 1,\n",
       " 'eyehealth northwest three': 1,\n",
       " 'schedul 1 month': 1,\n",
       " 'feel one herd': 1,\n",
       " 'month us canada': 1,\n",
       " '99 time spent': 1,\n",
       " 'greet fellow cattl': 1,\n",
       " '1 month us': 1,\n",
       " 'side street walk': 1,\n",
       " 'wait schedul 1': 1,\n",
       " 'wait room andrew': 1,\n",
       " 'room andrew feel': 1,\n",
       " 'look someth els': 2,\n",
       " 'small park side': 1,\n",
       " 'year final look': 1,\n",
       " 'drive place well': 1,\n",
       " 'dmv 99 time': 1,\n",
       " 'drive park lot': 1,\n",
       " 'short visit possibl': 1,\n",
       " 'northwest three year': 1,\n",
       " 'entir feel one': 1,\n",
       " 'treat like fast': 1,\n",
       " 'us canada giant': 1,\n",
       " 'drink cup coffe': 1,\n",
       " 'food awesom price': 2,\n",
       " 'cup coffe highli': 1,\n",
       " 'restaur clean friendli': 1,\n",
       " 'price reason ask': 2,\n",
       " 'friendli staff food': 5,\n",
       " 'highli recommend place': 25,\n",
       " 'coffe highli recommend': 1,\n",
       " 'love restaur clean': 1,\n",
       " 'better place hang': 1,\n",
       " 'staff food awesom': 1,\n",
       " 'hang drink cup': 1,\n",
       " 'ask better place': 1,\n",
       " 'reason ask better': 1,\n",
       " 'clean friendli staff': 2,\n",
       " 'awesom price reason': 1,\n",
       " 'place hang drink': 2,\n",
       " 'want wow everi': 1,\n",
       " 'guest want wow': 1,\n",
       " 'recommend hawthorn locat': 1,\n",
       " 'doughnut town soft': 1,\n",
       " 'voodoo doughnut take': 1,\n",
       " 'mile voodoo doughnut': 1,\n",
       " 'time line recommend': 1,\n",
       " 'wow everi flavor': 1,\n",
       " 'way better mile': 1,\n",
       " 'sometim warm good': 1,\n",
       " 'locat seem crowd': 1,\n",
       " 'soft fluffi sometim': 1,\n",
       " 'take visit guest': 1,\n",
       " 'day better often': 1,\n",
       " 'fluffi sometim warm': 1,\n",
       " 'place best doughnut': 1,\n",
       " 'manag way better': 1,\n",
       " 'seem crowd manag': 1,\n",
       " 'doughnut take visit': 1,\n",
       " 'hawthorn locat seem': 1,\n",
       " 'top day better': 1,\n",
       " 'line recommend hawthorn': 1,\n",
       " 'often time line': 1,\n",
       " 'better mile voodoo': 1,\n",
       " 'crowd manag way': 1,\n",
       " 'town soft fluffi': 1,\n",
       " 'best doughnut town': 1,\n",
       " 'everi flavor point': 1,\n",
       " 'good sell top': 1,\n",
       " 'sell top day': 1,\n",
       " 'better often time': 1,\n",
       " 'warm good sell': 1,\n",
       " 'visit guest want': 1,\n",
       " 'warn heat center': 1,\n",
       " 'today take came': 1,\n",
       " 'discov garlic knot': 1,\n",
       " 'lasagna fulli warn': 1,\n",
       " 'includ make thing': 1,\n",
       " 'order lasagna time': 1,\n",
       " ...}"
      ]
     },
     "execution_count": 29,
     "metadata": {},
     "output_type": "execute_result"
    }
   ],
   "source": [
    "# this is a collective hashmap of all trigram word count in all label point\n",
    "tri_features_dict"
   ]
  },
  {
   "cell_type": "markdown",
   "id": "f0e3ed95",
   "metadata": {},
   "source": [
    "## Selected Features"
   ]
  },
  {
   "cell_type": "code",
   "execution_count": 30,
   "id": "370f2896",
   "metadata": {},
   "outputs": [],
   "source": [
    "from sklearn.model_selection import train_test_split\n",
    "from pyspark.mllib.classification import LogisticRegressionWithLBFGS\n",
    "from pyspark.mllib.regression import LabeledPoint\n",
    "from pyspark.ml.evaluation import MulticlassClassificationEvaluator, MultilabelClassificationEvaluator\n",
    "from pyspark.mllib.evaluation import MultilabelMetrics\n",
    "from pyspark.sql.types import DoubleType\n",
    "import matplotlib.pyplot as plt\n",
    "\n",
    "\n",
    "# we select only the features whose frequency passes certain threshold, which can be arbitrary.\n",
    "# in this practice, we select unigram whose frequency is greater than 200, \n",
    "# and bigram whose frequence greater than 50, \n",
    "# and trigram whose frequence greater than 10\n",
    "def build_data(data, selected_features):\n",
    "    selected_data = []\n",
    "    selected_data_no_length = []\n",
    "    for data_point in data:\n",
    "        label = data_point[1]\n",
    "        features = data_point[0]\n",
    "        new_features = []\n",
    "        for f in selected_features:\n",
    "            if f in features:\n",
    "                new_features.append(1.0)\n",
    "            else:\n",
    "                new_features.append(0.0)\n",
    "        new_features.append(features['length'])\n",
    "        selected_data.append(LabeledPoint(label, new_features))\n",
    "    return selected_data\n",
    "\n",
    "def build_model(data, count, iterations=10):\n",
    "    def build_features(features, count=100):\n",
    "        uni_features_dict, bi_features_dict, tri_features_dict = features\n",
    "        selected_uni_features = {k: v for k, v in sorted(uni_features_dict.items(), key=lambda item: -item[1]) if v > count}\n",
    "        selected_bi_features = {k: v for k, v in sorted(bi_features_dict.items(), key=lambda item: -item[1]) if v > count * 0.5}\n",
    "        selected_tri_features = {k: v for k, v in sorted(tri_features_dict.items(), key=lambda item: -item[1]) if v > count * 0.1}\n",
    "        \n",
    "        selected_features = [k for k in {**selected_uni_features, **selected_bi_features, **selected_tri_features}]\n",
    "        return selected_features\n",
    "\n",
    "    \n",
    "    \n",
    "    selected_features = build_features([uni_features_dict,\n",
    "                                        bi_features_dict,\n",
    "                                        tri_features_dict], count)\n",
    "    \n",
    "    selected_data = build_data(data, selected_features)\n",
    "    train_data, test_data = train_test_split(selected_data, train_size=0.7, shuffle=True)\n",
    "\n",
    "    lrm = LogisticRegressionWithLBFGS.train(sc.parallelize(train_data), numClasses=5, iterations=iterations)    \n",
    "    test_data_df = sc.parallelize(test_data)\n",
    "    predictions = lrm.predict(test_data_df.map(lambda x: x.features))\n",
    "    labels_and_predictions = test_data_df.map(lambda x: x.label).zip(predictions)\n",
    "    \n",
    "    mae = labels_and_predictions.map(lambda x: x[0] - x[1] if x[0] > x[1] else x[1] - x[0]).sum() \\\n",
    "                                                / float(test_data_df.count())\n",
    "\n",
    "    label_and_prediction_list = labels_and_predictions.collect()\n",
    "\n",
    "    label_and_prediction_df = spark.createDataFrame(label_and_prediction_list, ['label', 'prediction'])\n",
    "    dataset = label_and_prediction_df.select(['label', 'prediction'])\\\n",
    "                                    .withColumn('prediction', label_and_prediction_df.prediction.cast(DoubleType()))\n",
    "    evaluator = MulticlassClassificationEvaluator()\n",
    "\n",
    "    evaluator.setPredictionCol(\"prediction\")\n",
    "    model_accuracy = evaluator.evaluate(dataset, {evaluator.metricName: \"accuracy\"}) * 100\n",
    "    print(\"Model accuracy: %.3f%%\" % (model_accuracy))\n",
    "    print('Mean Average Error: %.3f' % mae)\n",
    "    print(\"Model F-1: %.3f%%\" % (evaluator.evaluate(dataset, {evaluator.metricName: \"f1\"}) * 100))\n",
    "    \n",
    "    accuracy_by_label = []\n",
    "    for i in range(5):\n",
    "        label_accuracy = evaluator.evaluate(\n",
    "                                    dataset, \n",
    "                                    {evaluator.metricName: \"truePositiveRateByLabel\", \n",
    "                                     evaluator.metricLabel: float(i)}\n",
    "                                ) * 100\n",
    "        accuracy_by_label.append(label_accuracy)\n",
    "        print(f'True Positive Rate by Label (rating {i+1}): %.3f%%' % label_accuracy)\n",
    "    return model_accuracy, mae, accuracy_by_label, len(selected_features)\n"
   ]
  },
  {
   "cell_type": "code",
   "execution_count": 31,
   "id": "57ebf82c",
   "metadata": {
    "scrolled": true
   },
   "outputs": [
    {
     "name": "stdout",
     "output_type": "stream",
     "text": [
      "word count = 500\n"
     ]
    },
    {
     "name": "stderr",
     "output_type": "stream",
     "text": [
      "                                                                                \r"
     ]
    },
    {
     "name": "stdout",
     "output_type": "stream",
     "text": [
      "Model accuracy: 57.115%\n",
      "Mean Average Error: 0.722\n",
      "Model F-1: 55.339%\n",
      "True Positive Rate by Label (rating 1): 56.923%\n",
      "True Positive Rate by Label (rating 2): 24.883%\n",
      "True Positive Rate by Label (rating 3): 24.907%\n",
      "True Positive Rate by Label (rating 4): 33.696%\n",
      "True Positive Rate by Label (rating 5): 81.378%\n",
      "=================================================\n",
      "word count = 400\n"
     ]
    },
    {
     "name": "stderr",
     "output_type": "stream",
     "text": [
      "                                                                                \r"
     ]
    },
    {
     "name": "stdout",
     "output_type": "stream",
     "text": [
      "Model accuracy: 58.500%\n",
      "Mean Average Error: 0.692\n",
      "Model F-1: 56.578%\n",
      "True Positive Rate by Label (rating 1): 57.513%\n",
      "True Positive Rate by Label (rating 2): 25.373%\n",
      "True Positive Rate by Label (rating 3): 25.926%\n",
      "True Positive Rate by Label (rating 4): 34.601%\n",
      "True Positive Rate by Label (rating 5): 82.872%\n",
      "=================================================\n",
      "word count = 300\n"
     ]
    },
    {
     "name": "stderr",
     "output_type": "stream",
     "text": [
      "                                                                                \r"
     ]
    },
    {
     "name": "stdout",
     "output_type": "stream",
     "text": [
      "Model accuracy: 57.231%\n",
      "Mean Average Error: 0.708\n",
      "Model F-1: 55.953%\n",
      "True Positive Rate by Label (rating 1): 52.105%\n",
      "True Positive Rate by Label (rating 2): 31.551%\n",
      "True Positive Rate by Label (rating 3): 18.039%\n",
      "True Positive Rate by Label (rating 4): 39.716%\n",
      "True Positive Rate by Label (rating 5): 79.160%\n",
      "=================================================\n",
      "word count = 200\n"
     ]
    },
    {
     "name": "stderr",
     "output_type": "stream",
     "text": [
      "                                                                                \r"
     ]
    },
    {
     "name": "stdout",
     "output_type": "stream",
     "text": [
      "Model accuracy: 58.423%\n",
      "Mean Average Error: 0.643\n",
      "Model F-1: 57.053%\n",
      "True Positive Rate by Label (rating 1): 56.349%\n",
      "True Positive Rate by Label (rating 2): 26.768%\n",
      "True Positive Rate by Label (rating 3): 25.725%\n",
      "True Positive Rate by Label (rating 4): 36.871%\n",
      "True Positive Rate by Label (rating 5): 81.963%\n",
      "=================================================\n",
      "word count = 100\n"
     ]
    },
    {
     "name": "stderr",
     "output_type": "stream",
     "text": [
      "                                                                                \r"
     ]
    },
    {
     "name": "stdout",
     "output_type": "stream",
     "text": [
      "Model accuracy: 61.154%\n",
      "Mean Average Error: 0.563\n",
      "Model F-1: 60.381%\n",
      "True Positive Rate by Label (rating 1): 61.111%\n",
      "True Positive Rate by Label (rating 2): 29.744%\n",
      "True Positive Rate by Label (rating 3): 33.096%\n",
      "True Positive Rate by Label (rating 4): 41.284%\n",
      "True Positive Rate by Label (rating 5): 81.848%\n",
      "=================================================\n",
      "word count = 500\n"
     ]
    },
    {
     "name": "stderr",
     "output_type": "stream",
     "text": [
      "                                                                                \r"
     ]
    },
    {
     "name": "stdout",
     "output_type": "stream",
     "text": [
      "Model accuracy: 57.923%\n",
      "Mean Average Error: 0.717\n",
      "Model F-1: 55.988%\n",
      "True Positive Rate by Label (rating 1): 55.725%\n",
      "True Positive Rate by Label (rating 2): 20.388%\n",
      "True Positive Rate by Label (rating 3): 26.471%\n",
      "True Positive Rate by Label (rating 4): 35.897%\n",
      "True Positive Rate by Label (rating 5): 82.587%\n",
      "=================================================\n",
      "word count = 400\n"
     ]
    },
    {
     "name": "stderr",
     "output_type": "stream",
     "text": [
      "                                                                                \r"
     ]
    },
    {
     "name": "stdout",
     "output_type": "stream",
     "text": [
      "Model accuracy: 56.231%\n",
      "Mean Average Error: 0.720\n",
      "Model F-1: 54.272%\n",
      "True Positive Rate by Label (rating 1): 56.640%\n",
      "True Positive Rate by Label (rating 2): 19.905%\n",
      "True Positive Rate by Label (rating 3): 21.942%\n",
      "True Positive Rate by Label (rating 4): 35.614%\n",
      "True Positive Rate by Label (rating 5): 80.802%\n",
      "=================================================\n",
      "word count = 300\n"
     ]
    },
    {
     "name": "stderr",
     "output_type": "stream",
     "text": [
      "                                                                                \r"
     ]
    },
    {
     "name": "stdout",
     "output_type": "stream",
     "text": [
      "Model accuracy: 57.115%\n",
      "Mean Average Error: 0.732\n",
      "Model F-1: 55.308%\n",
      "True Positive Rate by Label (rating 1): 50.806%\n",
      "True Positive Rate by Label (rating 2): 25.234%\n",
      "True Positive Rate by Label (rating 3): 26.354%\n",
      "True Positive Rate by Label (rating 4): 35.028%\n",
      "True Positive Rate by Label (rating 5): 81.509%\n",
      "=================================================\n",
      "word count = 200\n"
     ]
    },
    {
     "name": "stderr",
     "output_type": "stream",
     "text": [
      "                                                                                \r"
     ]
    },
    {
     "name": "stdout",
     "output_type": "stream",
     "text": [
      "Model accuracy: 60.731%\n",
      "Mean Average Error: 0.609\n",
      "Model F-1: 59.113%\n",
      "True Positive Rate by Label (rating 1): 61.389%\n",
      "True Positive Rate by Label (rating 2): 26.866%\n",
      "True Positive Rate by Label (rating 3): 27.875%\n",
      "True Positive Rate by Label (rating 4): 40.608%\n",
      "True Positive Rate by Label (rating 5): 83.571%\n",
      "=================================================\n",
      "word count = 100\n"
     ]
    },
    {
     "name": "stderr",
     "output_type": "stream",
     "text": [
      "                                                                                \r"
     ]
    },
    {
     "name": "stdout",
     "output_type": "stream",
     "text": [
      "Model accuracy: 60.000%\n",
      "Mean Average Error: 0.589\n",
      "Model F-1: 58.560%\n",
      "True Positive Rate by Label (rating 1): 65.097%\n",
      "True Positive Rate by Label (rating 2): 27.391%\n",
      "True Positive Rate by Label (rating 3): 25.606%\n",
      "True Positive Rate by Label (rating 4): 41.533%\n",
      "True Positive Rate by Label (rating 5): 82.399%\n",
      "=================================================\n",
      "word count = 500\n"
     ]
    },
    {
     "name": "stderr",
     "output_type": "stream",
     "text": [
      "                                                                                \r"
     ]
    },
    {
     "name": "stdout",
     "output_type": "stream",
     "text": [
      "Model accuracy: 56.654%\n",
      "Mean Average Error: 0.737\n",
      "Model F-1: 54.613%\n",
      "True Positive Rate by Label (rating 1): 58.333%\n",
      "True Positive Rate by Label (rating 2): 21.461%\n",
      "True Positive Rate by Label (rating 3): 25.000%\n",
      "True Positive Rate by Label (rating 4): 32.051%\n",
      "True Positive Rate by Label (rating 5): 80.734%\n",
      "=================================================\n",
      "word count = 400\n"
     ]
    },
    {
     "name": "stderr",
     "output_type": "stream",
     "text": [
      "                                                                                \r"
     ]
    },
    {
     "name": "stdout",
     "output_type": "stream",
     "text": [
      "Model accuracy: 57.231%\n",
      "Mean Average Error: 0.725\n",
      "Model F-1: 55.089%\n",
      "True Positive Rate by Label (rating 1): 51.194%\n",
      "True Positive Rate by Label (rating 2): 22.124%\n",
      "True Positive Rate by Label (rating 3): 27.481%\n",
      "True Positive Rate by Label (rating 4): 34.938%\n",
      "True Positive Rate by Label (rating 5): 83.220%\n",
      "=================================================\n",
      "word count = 300\n"
     ]
    },
    {
     "name": "stderr",
     "output_type": "stream",
     "text": [
      "                                                                                \r"
     ]
    },
    {
     "name": "stdout",
     "output_type": "stream",
     "text": [
      "Model accuracy: 57.731%\n",
      "Mean Average Error: 0.698\n",
      "Model F-1: 55.973%\n",
      "True Positive Rate by Label (rating 1): 58.491%\n",
      "True Positive Rate by Label (rating 2): 29.064%\n",
      "True Positive Rate by Label (rating 3): 23.134%\n",
      "True Positive Rate by Label (rating 4): 36.851%\n",
      "True Positive Rate by Label (rating 5): 80.508%\n",
      "=================================================\n",
      "word count = 200\n"
     ]
    },
    {
     "name": "stderr",
     "output_type": "stream",
     "text": [
      "                                                                                \r"
     ]
    },
    {
     "name": "stdout",
     "output_type": "stream",
     "text": [
      "Model accuracy: 58.269%\n",
      "Mean Average Error: 0.644\n",
      "Model F-1: 56.806%\n",
      "True Positive Rate by Label (rating 1): 56.250%\n",
      "True Positive Rate by Label (rating 2): 26.636%\n",
      "True Positive Rate by Label (rating 3): 25.781%\n",
      "True Positive Rate by Label (rating 4): 39.196%\n",
      "True Positive Rate by Label (rating 5): 81.631%\n",
      "=================================================\n",
      "word count = 100\n"
     ]
    },
    {
     "name": "stderr",
     "output_type": "stream",
     "text": [
      "                                                                                \r"
     ]
    },
    {
     "name": "stdout",
     "output_type": "stream",
     "text": [
      "Model accuracy: 60.885%\n",
      "Mean Average Error: 0.587\n",
      "Model F-1: 60.052%\n",
      "True Positive Rate by Label (rating 1): 60.622%\n",
      "True Positive Rate by Label (rating 2): 36.150%\n",
      "True Positive Rate by Label (rating 3): 27.068%\n",
      "True Positive Rate by Label (rating 4): 45.941%\n",
      "True Positive Rate by Label (rating 5): 80.796%\n",
      "=================================================\n",
      "word count = 500\n"
     ]
    },
    {
     "name": "stderr",
     "output_type": "stream",
     "text": [
      "                                                                                \r"
     ]
    },
    {
     "name": "stdout",
     "output_type": "stream",
     "text": [
      "Model accuracy: 58.731%\n",
      "Mean Average Error: 0.697\n",
      "Model F-1: 56.683%\n",
      "True Positive Rate by Label (rating 1): 60.000%\n",
      "True Positive Rate by Label (rating 2): 23.585%\n",
      "True Positive Rate by Label (rating 3): 28.364%\n",
      "True Positive Rate by Label (rating 4): 34.727%\n",
      "True Positive Rate by Label (rating 5): 82.649%\n",
      "=================================================\n",
      "word count = 400\n"
     ]
    },
    {
     "name": "stderr",
     "output_type": "stream",
     "text": [
      "                                                                                \r"
     ]
    },
    {
     "name": "stdout",
     "output_type": "stream",
     "text": [
      "Model accuracy: 58.038%\n",
      "Mean Average Error: 0.673\n",
      "Model F-1: 56.168%\n",
      "True Positive Rate by Label (rating 1): 58.382%\n",
      "True Positive Rate by Label (rating 2): 27.835%\n",
      "True Positive Rate by Label (rating 3): 27.431%\n",
      "True Positive Rate by Label (rating 4): 31.478%\n",
      "True Positive Rate by Label (rating 5): 82.957%\n",
      "=================================================\n",
      "word count = 300\n"
     ]
    },
    {
     "name": "stderr",
     "output_type": "stream",
     "text": [
      "                                                                                \r"
     ]
    },
    {
     "name": "stdout",
     "output_type": "stream",
     "text": [
      "Model accuracy: 57.885%\n",
      "Mean Average Error: 0.684\n",
      "Model F-1: 56.490%\n",
      "True Positive Rate by Label (rating 1): 54.627%\n",
      "True Positive Rate by Label (rating 2): 28.643%\n",
      "True Positive Rate by Label (rating 3): 22.744%\n",
      "True Positive Rate by Label (rating 4): 40.253%\n",
      "True Positive Rate by Label (rating 5): 79.271%\n",
      "=================================================\n",
      "word count = 200\n"
     ]
    },
    {
     "name": "stderr",
     "output_type": "stream",
     "text": [
      "                                                                                \r"
     ]
    },
    {
     "name": "stdout",
     "output_type": "stream",
     "text": [
      "Model accuracy: 58.154%\n",
      "Mean Average Error: 0.646\n",
      "Model F-1: 56.825%\n",
      "True Positive Rate by Label (rating 1): 59.946%\n",
      "True Positive Rate by Label (rating 2): 24.286%\n",
      "True Positive Rate by Label (rating 3): 25.714%\n",
      "True Positive Rate by Label (rating 4): 37.862%\n",
      "True Positive Rate by Label (rating 5): 80.605%\n",
      "=================================================\n",
      "word count = 100\n"
     ]
    },
    {
     "name": "stderr",
     "output_type": "stream",
     "text": [
      "                                                                                \r"
     ]
    },
    {
     "name": "stdout",
     "output_type": "stream",
     "text": [
      "Model accuracy: 60.577%\n",
      "Mean Average Error: 0.590\n",
      "Model F-1: 59.337%\n",
      "True Positive Rate by Label (rating 1): 63.158%\n",
      "True Positive Rate by Label (rating 2): 27.700%\n",
      "True Positive Rate by Label (rating 3): 23.396%\n",
      "True Positive Rate by Label (rating 4): 45.045%\n",
      "True Positive Rate by Label (rating 5): 80.929%\n",
      "=================================================\n",
      "word count = 500\n",
      "Model accuracy: 57.308%\n",
      "Mean Average Error: 0.728\n",
      "Model F-1: 55.179%\n",
      "True Positive Rate by Label (rating 1): 57.065%\n",
      "True Positive Rate by Label (rating 2): 19.139%\n",
      "True Positive Rate by Label (rating 3): 27.758%\n",
      "True Positive Rate by Label (rating 4): 35.253%\n",
      "True Positive Rate by Label (rating 5): 82.121%\n",
      "=================================================\n",
      "word count = 400\n"
     ]
    },
    {
     "name": "stderr",
     "output_type": "stream",
     "text": [
      "                                                                                \r"
     ]
    },
    {
     "name": "stdout",
     "output_type": "stream",
     "text": [
      "Model accuracy: 58.115%\n",
      "Mean Average Error: 0.666\n",
      "Model F-1: 56.524%\n",
      "True Positive Rate by Label (rating 1): 55.652%\n",
      "True Positive Rate by Label (rating 2): 26.667%\n",
      "True Positive Rate by Label (rating 3): 26.199%\n",
      "True Positive Rate by Label (rating 4): 34.835%\n",
      "True Positive Rate by Label (rating 5): 82.096%\n",
      "=================================================\n",
      "word count = 300\n"
     ]
    },
    {
     "name": "stderr",
     "output_type": "stream",
     "text": [
      "                                                                                \r"
     ]
    },
    {
     "name": "stdout",
     "output_type": "stream",
     "text": [
      "Model accuracy: 58.231%\n",
      "Mean Average Error: 0.683\n",
      "Model F-1: 56.811%\n",
      "True Positive Rate by Label (rating 1): 55.526%\n",
      "True Positive Rate by Label (rating 2): 29.302%\n",
      "True Positive Rate by Label (rating 3): 24.904%\n",
      "True Positive Rate by Label (rating 4): 36.989%\n",
      "True Positive Rate by Label (rating 5): 80.741%\n",
      "=================================================\n",
      "word count = 200\n"
     ]
    },
    {
     "name": "stderr",
     "output_type": "stream",
     "text": [
      "                                                                                \r"
     ]
    },
    {
     "name": "stdout",
     "output_type": "stream",
     "text": [
      "Model accuracy: 58.769%\n",
      "Mean Average Error: 0.635\n",
      "Model F-1: 57.560%\n",
      "True Positive Rate by Label (rating 1): 59.538%\n",
      "True Positive Rate by Label (rating 2): 27.317%\n",
      "True Positive Rate by Label (rating 3): 24.364%\n",
      "True Positive Rate by Label (rating 4): 41.261%\n",
      "True Positive Rate by Label (rating 5): 79.573%\n",
      "=================================================\n",
      "word count = 100\n"
     ]
    },
    {
     "name": "stderr",
     "output_type": "stream",
     "text": [
      "                                                                                \r"
     ]
    },
    {
     "name": "stdout",
     "output_type": "stream",
     "text": [
      "Model accuracy: 60.038%\n",
      "Mean Average Error: 0.584\n",
      "Model F-1: 58.855%\n",
      "True Positive Rate by Label (rating 1): 65.873%\n",
      "True Positive Rate by Label (rating 2): 29.224%\n",
      "True Positive Rate by Label (rating 3): 27.852%\n",
      "True Positive Rate by Label (rating 4): 41.261%\n",
      "True Positive Rate by Label (rating 5): 81.391%\n",
      "=================================================\n",
      "word count = 500\n"
     ]
    },
    {
     "name": "stderr",
     "output_type": "stream",
     "text": [
      "                                                                                \r"
     ]
    },
    {
     "name": "stdout",
     "output_type": "stream",
     "text": [
      "Model accuracy: 56.462%\n",
      "Mean Average Error: 0.740\n",
      "Model F-1: 55.061%\n",
      "True Positive Rate by Label (rating 1): 46.512%\n",
      "True Positive Rate by Label (rating 2): 30.049%\n",
      "True Positive Rate by Label (rating 3): 27.530%\n",
      "True Positive Rate by Label (rating 4): 33.929%\n",
      "True Positive Rate by Label (rating 5): 80.549%\n",
      "=================================================\n",
      "word count = 400\n"
     ]
    },
    {
     "name": "stderr",
     "output_type": "stream",
     "text": [
      "                                                                                \r"
     ]
    },
    {
     "name": "stdout",
     "output_type": "stream",
     "text": [
      "Model accuracy: 57.731%\n",
      "Mean Average Error: 0.696\n",
      "Model F-1: 55.970%\n",
      "True Positive Rate by Label (rating 1): 54.839%\n",
      "True Positive Rate by Label (rating 2): 23.316%\n",
      "True Positive Rate by Label (rating 3): 23.828%\n",
      "True Positive Rate by Label (rating 4): 36.772%\n",
      "True Positive Rate by Label (rating 5): 81.638%\n",
      "=================================================\n",
      "word count = 300\n"
     ]
    },
    {
     "name": "stderr",
     "output_type": "stream",
     "text": [
      "                                                                                \r"
     ]
    },
    {
     "name": "stdout",
     "output_type": "stream",
     "text": [
      "Model accuracy: 58.808%\n",
      "Mean Average Error: 0.700\n",
      "Model F-1: 57.607%\n",
      "True Positive Rate by Label (rating 1): 53.960%\n",
      "True Positive Rate by Label (rating 2): 27.624%\n",
      "True Positive Rate by Label (rating 3): 24.314%\n",
      "True Positive Rate by Label (rating 4): 40.619%\n",
      "True Positive Rate by Label (rating 5): 80.595%\n",
      "=================================================\n",
      "word count = 200\n"
     ]
    },
    {
     "name": "stderr",
     "output_type": "stream",
     "text": [
      "                                                                                \r"
     ]
    },
    {
     "name": "stdout",
     "output_type": "stream",
     "text": [
      "Model accuracy: 57.769%\n",
      "Mean Average Error: 0.647\n",
      "Model F-1: 56.113%\n",
      "True Positive Rate by Label (rating 1): 59.207%\n",
      "True Positive Rate by Label (rating 2): 27.111%\n",
      "True Positive Rate by Label (rating 3): 28.873%\n",
      "True Positive Rate by Label (rating 4): 34.820%\n",
      "True Positive Rate by Label (rating 5): 81.991%\n",
      "=================================================\n",
      "word count = 100\n"
     ]
    },
    {
     "name": "stderr",
     "output_type": "stream",
     "text": [
      "                                                                                \r"
     ]
    },
    {
     "name": "stdout",
     "output_type": "stream",
     "text": [
      "Model accuracy: 60.769%\n",
      "Mean Average Error: 0.579\n",
      "Model F-1: 59.662%\n",
      "True Positive Rate by Label (rating 1): 63.277%\n",
      "True Positive Rate by Label (rating 2): 29.167%\n",
      "True Positive Rate by Label (rating 3): 29.066%\n",
      "True Positive Rate by Label (rating 4): 47.079%\n",
      "True Positive Rate by Label (rating 5): 80.673%\n",
      "=================================================\n",
      "word count = 500\n",
      "Model accuracy: 57.192%\n",
      "Mean Average Error: 0.718\n",
      "Model F-1: 55.267%\n",
      "True Positive Rate by Label (rating 1): 58.355%\n",
      "True Positive Rate by Label (rating 2): 21.569%\n",
      "True Positive Rate by Label (rating 3): 25.357%\n",
      "True Positive Rate by Label (rating 4): 33.948%\n",
      "True Positive Rate by Label (rating 5): 80.869%\n",
      "=================================================\n",
      "word count = 400\n",
      "Model accuracy: 57.885%\n",
      "Mean Average Error: 0.685\n",
      "Model F-1: 56.131%\n",
      "True Positive Rate by Label (rating 1): 60.406%\n",
      "True Positive Rate by Label (rating 2): 23.041%\n",
      "True Positive Rate by Label (rating 3): 23.846%\n",
      "True Positive Rate by Label (rating 4): 37.456%\n",
      "True Positive Rate by Label (rating 5): 81.083%\n",
      "=================================================\n",
      "word count = 300\n"
     ]
    },
    {
     "name": "stderr",
     "output_type": "stream",
     "text": [
      "                                                                                \r"
     ]
    },
    {
     "name": "stdout",
     "output_type": "stream",
     "text": [
      "Model accuracy: 58.615%\n",
      "Mean Average Error: 0.659\n",
      "Model F-1: 57.470%\n",
      "True Positive Rate by Label (rating 1): 55.108%\n",
      "True Positive Rate by Label (rating 2): 30.876%\n",
      "True Positive Rate by Label (rating 3): 29.218%\n",
      "True Positive Rate by Label (rating 4): 38.542%\n",
      "True Positive Rate by Label (rating 5): 80.453%\n",
      "=================================================\n",
      "word count = 200\n"
     ]
    },
    {
     "name": "stderr",
     "output_type": "stream",
     "text": [
      "                                                                                \r"
     ]
    },
    {
     "name": "stdout",
     "output_type": "stream",
     "text": [
      "Model accuracy: 59.231%\n",
      "Mean Average Error: 0.642\n",
      "Model F-1: 58.005%\n",
      "True Positive Rate by Label (rating 1): 58.486%\n",
      "True Positive Rate by Label (rating 2): 27.461%\n",
      "True Positive Rate by Label (rating 3): 24.908%\n",
      "True Positive Rate by Label (rating 4): 40.354%\n",
      "True Positive Rate by Label (rating 5): 81.535%\n",
      "=================================================\n",
      "word count = 100\n"
     ]
    },
    {
     "name": "stderr",
     "output_type": "stream",
     "text": [
      "                                                                                \r"
     ]
    },
    {
     "name": "stdout",
     "output_type": "stream",
     "text": [
      "Model accuracy: 60.846%\n",
      "Mean Average Error: 0.572\n",
      "Model F-1: 59.859%\n",
      "True Positive Rate by Label (rating 1): 57.796%\n",
      "True Positive Rate by Label (rating 2): 42.995%\n",
      "True Positive Rate by Label (rating 3): 42.086%\n",
      "True Positive Rate by Label (rating 4): 33.218%\n",
      "True Positive Rate by Label (rating 5): 83.176%\n",
      "=================================================\n",
      "word count = 500\n"
     ]
    },
    {
     "name": "stderr",
     "output_type": "stream",
     "text": [
      "                                                                                \r"
     ]
    },
    {
     "name": "stdout",
     "output_type": "stream",
     "text": [
      "Model accuracy: 57.077%\n",
      "Mean Average Error: 0.706\n",
      "Model F-1: 54.586%\n",
      "True Positive Rate by Label (rating 1): 58.192%\n",
      "True Positive Rate by Label (rating 2): 21.801%\n",
      "True Positive Rate by Label (rating 3): 27.083%\n",
      "True Positive Rate by Label (rating 4): 29.821%\n",
      "True Positive Rate by Label (rating 5): 83.151%\n",
      "=================================================\n",
      "word count = 400\n"
     ]
    },
    {
     "name": "stderr",
     "output_type": "stream",
     "text": [
      "                                                                                \r"
     ]
    },
    {
     "name": "stdout",
     "output_type": "stream",
     "text": [
      "Model accuracy: 56.346%\n",
      "Mean Average Error: 0.720\n",
      "Model F-1: 54.350%\n",
      "True Positive Rate by Label (rating 1): 55.946%\n",
      "True Positive Rate by Label (rating 2): 25.439%\n",
      "True Positive Rate by Label (rating 3): 22.776%\n",
      "True Positive Rate by Label (rating 4): 33.455%\n",
      "True Positive Rate by Label (rating 5): 81.298%\n",
      "=================================================\n",
      "word count = 300\n"
     ]
    },
    {
     "name": "stderr",
     "output_type": "stream",
     "text": [
      "                                                                                \r"
     ]
    },
    {
     "name": "stdout",
     "output_type": "stream",
     "text": [
      "Model accuracy: 56.923%\n",
      "Mean Average Error: 0.691\n",
      "Model F-1: 55.556%\n",
      "True Positive Rate by Label (rating 1): 51.744%\n",
      "True Positive Rate by Label (rating 2): 28.700%\n",
      "True Positive Rate by Label (rating 3): 24.335%\n",
      "True Positive Rate by Label (rating 4): 39.965%\n",
      "True Positive Rate by Label (rating 5): 79.111%\n",
      "=================================================\n",
      "word count = 200\n"
     ]
    },
    {
     "name": "stderr",
     "output_type": "stream",
     "text": [
      "                                                                                \r"
     ]
    },
    {
     "name": "stdout",
     "output_type": "stream",
     "text": [
      "Model accuracy: 59.500%\n",
      "Mean Average Error: 0.640\n",
      "Model F-1: 58.254%\n",
      "True Positive Rate by Label (rating 1): 59.733%\n",
      "True Positive Rate by Label (rating 2): 27.700%\n",
      "True Positive Rate by Label (rating 3): 26.336%\n",
      "True Positive Rate by Label (rating 4): 39.963%\n",
      "True Positive Rate by Label (rating 5): 80.858%\n",
      "=================================================\n",
      "word count = 100\n"
     ]
    },
    {
     "name": "stderr",
     "output_type": "stream",
     "text": [
      "                                                                                \r"
     ]
    },
    {
     "name": "stdout",
     "output_type": "stream",
     "text": [
      "Model accuracy: 60.538%\n",
      "Mean Average Error: 0.601\n",
      "Model F-1: 59.557%\n",
      "True Positive Rate by Label (rating 1): 58.289%\n",
      "True Positive Rate by Label (rating 2): 28.000%\n",
      "True Positive Rate by Label (rating 3): 26.000%\n",
      "True Positive Rate by Label (rating 4): 44.760%\n",
      "True Positive Rate by Label (rating 5): 81.039%\n",
      "=================================================\n",
      "word count = 500\n",
      "Model accuracy: 56.846%\n",
      "Mean Average Error: 0.722\n",
      "Model F-1: 54.686%\n",
      "True Positive Rate by Label (rating 1): 53.766%\n",
      "True Positive Rate by Label (rating 2): 23.318%\n",
      "True Positive Rate by Label (rating 3): 24.528%\n",
      "True Positive Rate by Label (rating 4): 33.628%\n",
      "True Positive Rate by Label (rating 5): 82.960%\n",
      "=================================================\n",
      "word count = 400\n"
     ]
    },
    {
     "name": "stderr",
     "output_type": "stream",
     "text": [
      "                                                                                \r"
     ]
    },
    {
     "name": "stdout",
     "output_type": "stream",
     "text": [
      "Model accuracy: 57.769%\n",
      "Mean Average Error: 0.666\n",
      "Model F-1: 56.528%\n",
      "True Positive Rate by Label (rating 1): 56.010%\n",
      "True Positive Rate by Label (rating 2): 23.415%\n",
      "True Positive Rate by Label (rating 3): 26.996%\n",
      "True Positive Rate by Label (rating 4): 36.000%\n",
      "True Positive Rate by Label (rating 5): 80.181%\n",
      "=================================================\n",
      "word count = 300\n"
     ]
    },
    {
     "name": "stderr",
     "output_type": "stream",
     "text": [
      "                                                                                \r"
     ]
    },
    {
     "name": "stdout",
     "output_type": "stream",
     "text": [
      "Model accuracy: 58.577%\n",
      "Mean Average Error: 0.675\n",
      "Model F-1: 57.401%\n",
      "True Positive Rate by Label (rating 1): 49.057%\n",
      "True Positive Rate by Label (rating 2): 32.812%\n",
      "True Positive Rate by Label (rating 3): 22.593%\n",
      "True Positive Rate by Label (rating 4): 42.243%\n",
      "True Positive Rate by Label (rating 5): 80.438%\n",
      "=================================================\n",
      "word count = 200\n"
     ]
    },
    {
     "name": "stderr",
     "output_type": "stream",
     "text": [
      "                                                                                \r"
     ]
    },
    {
     "name": "stdout",
     "output_type": "stream",
     "text": [
      "Model accuracy: 59.231%\n",
      "Mean Average Error: 0.630\n",
      "Model F-1: 58.456%\n",
      "True Positive Rate by Label (rating 1): 55.588%\n",
      "True Positive Rate by Label (rating 2): 32.547%\n",
      "True Positive Rate by Label (rating 3): 33.197%\n",
      "True Positive Rate by Label (rating 4): 40.244%\n",
      "True Positive Rate by Label (rating 5): 78.862%\n",
      "=================================================\n",
      "word count = 100\n"
     ]
    },
    {
     "name": "stderr",
     "output_type": "stream",
     "text": [
      "                                                                                \r"
     ]
    },
    {
     "name": "stdout",
     "output_type": "stream",
     "text": [
      "Model accuracy: 60.923%\n",
      "Mean Average Error: 0.582\n",
      "Model F-1: 59.701%\n",
      "True Positive Rate by Label (rating 1): 65.903%\n",
      "True Positive Rate by Label (rating 2): 26.887%\n",
      "True Positive Rate by Label (rating 3): 25.632%\n",
      "True Positive Rate by Label (rating 4): 46.235%\n",
      "True Positive Rate by Label (rating 5): 80.772%\n",
      "=================================================\n",
      "word count = 500\n"
     ]
    },
    {
     "name": "stderr",
     "output_type": "stream",
     "text": [
      "                                                                                \r"
     ]
    },
    {
     "name": "stdout",
     "output_type": "stream",
     "text": [
      "Model accuracy: 56.192%\n",
      "Mean Average Error: 0.746\n",
      "Model F-1: 53.820%\n",
      "True Positive Rate by Label (rating 1): 54.692%\n",
      "True Positive Rate by Label (rating 2): 18.009%\n",
      "True Positive Rate by Label (rating 3): 25.000%\n",
      "True Positive Rate by Label (rating 4): 33.935%\n",
      "True Positive Rate by Label (rating 5): 81.687%\n",
      "=================================================\n",
      "word count = 400\n",
      "Model accuracy: 58.462%\n",
      "Mean Average Error: 0.690\n",
      "Model F-1: 56.394%\n",
      "True Positive Rate by Label (rating 1): 56.443%\n",
      "True Positive Rate by Label (rating 2): 21.693%\n",
      "True Positive Rate by Label (rating 3): 28.679%\n",
      "True Positive Rate by Label (rating 4): 33.216%\n",
      "True Positive Rate by Label (rating 5): 83.684%\n",
      "=================================================\n",
      "word count = 300\n"
     ]
    },
    {
     "name": "stderr",
     "output_type": "stream",
     "text": [
      "                                                                                \r"
     ]
    },
    {
     "name": "stdout",
     "output_type": "stream",
     "text": [
      "Model accuracy: 58.115%\n",
      "Mean Average Error: 0.673\n",
      "Model F-1: 56.388%\n",
      "True Positive Rate by Label (rating 1): 57.029%\n",
      "True Positive Rate by Label (rating 2): 30.622%\n",
      "True Positive Rate by Label (rating 3): 24.390%\n",
      "True Positive Rate by Label (rating 4): 36.396%\n",
      "True Positive Rate by Label (rating 5): 82.343%\n",
      "=================================================\n",
      "word count = 200\n"
     ]
    },
    {
     "name": "stderr",
     "output_type": "stream",
     "text": [
      "                                                                                \r"
     ]
    },
    {
     "name": "stdout",
     "output_type": "stream",
     "text": [
      "Model accuracy: 57.923%\n",
      "Mean Average Error: 0.631\n",
      "Model F-1: 56.763%\n",
      "True Positive Rate by Label (rating 1): 58.333%\n",
      "True Positive Rate by Label (rating 2): 22.018%\n",
      "True Positive Rate by Label (rating 3): 27.698%\n",
      "True Positive Rate by Label (rating 4): 37.453%\n",
      "True Positive Rate by Label (rating 5): 80.691%\n",
      "=================================================\n",
      "word count = 100\n"
     ]
    },
    {
     "name": "stderr",
     "output_type": "stream",
     "text": [
      "                                                                                \r"
     ]
    },
    {
     "name": "stdout",
     "output_type": "stream",
     "text": [
      "Model accuracy: 61.308%\n",
      "Mean Average Error: 0.565\n",
      "Model F-1: 60.533%\n",
      "True Positive Rate by Label (rating 1): 61.538%\n",
      "True Positive Rate by Label (rating 2): 36.726%\n",
      "True Positive Rate by Label (rating 3): 29.818%\n",
      "True Positive Rate by Label (rating 4): 44.653%\n",
      "True Positive Rate by Label (rating 5): 80.449%\n",
      "=================================================\n"
     ]
    }
   ],
   "source": [
    "# run 10 times to generate a list of model accuracy and model mae\n",
    "\n",
    "import matplotlib.pyplot as plt\n",
    "\n",
    "count_range = [500, 400, 300, 200, 100]\n",
    "x_features_size = []\n",
    "\n",
    "\n",
    "y_accuracy_by_label_list = []\n",
    "y_accuracy_list = []\n",
    "y_mae_list = []\n",
    "\n",
    "for i in range(10):\n",
    "    y_accuracy = []\n",
    "    y_mae = []\n",
    "    accuracy_by_label_list = []\n",
    "    for count in count_range:\n",
    "        print(f'word count = {count}')\n",
    "        accuracy, mae, accuracy_by_label, features_size = build_model(data, count)\n",
    "        if len(x_features_size) < 5:\n",
    "            x_features_size.append(features_size)\n",
    "        y_accuracy.append(accuracy)\n",
    "        y_mae.append(mae)\n",
    "        accuracy_by_label_list.append(accuracy_by_label)\n",
    "        print('=================================================')\n",
    "    y_accuracy_list.append(y_accuracy)\n",
    "    y_mae_list.append(y_mae)\n",
    "    y_accuracy_by_label_list.append(accuracy_by_label_list)"
   ]
  },
  {
   "cell_type": "code",
   "execution_count": 34,
   "id": "52db5f7f",
   "metadata": {},
   "outputs": [],
   "source": [
    "# calculate the average accuracy by label generated from each run and evaluation\n",
    "y_accuracy_by_label_list1 = []\n",
    "for i in range(len(y_accuracy_by_label_list)):\n",
    "    sub_list = [0] * len(y_accuracy_by_label_list[i])\n",
    "    for j in range(len(y_accuracy_by_label_list[i])):\n",
    "       \n",
    "        for k in range(len(y_accuracy_by_label_list[i][j])):\n",
    "            sub_list[k] += y_accuracy_by_label_list[i][j][k]\n",
    "    sub_list = [d / 5 for d in sub_list]\n",
    "    y_accuracy_by_label_list1.append(sub_list)"
   ]
  },
  {
   "cell_type": "code",
   "execution_count": 39,
   "id": "11521530",
   "metadata": {
    "scrolled": false
   },
   "outputs": [
    {
     "data": {
      "image/png": "[encoded data removed]",
      "text/plain": [
       "<Figure size 720x288 with 2 Axes>"
      ]
     },
     "metadata": {
      "needs_background": "light"
     },
     "output_type": "display_data"
    }
   ],
   "source": [
    "# draw plot of model accuracy and mae evaluated from 10 runs\n",
    "\n",
    "fig, (ax1, ax2) = plt.subplots(1,2, figsize=(10, 4))\n",
    "\n",
    "for y_accuracy in y_accuracy_list:\n",
    "    ax1.plot(x_features_size, y_accuracy)\n",
    "    \n",
    "ax1.set_title('Model Accuracy by # of Features')\n",
    "ax1.set(xlabel='# of features', ylabel='model accuracy')\n",
    "\n",
    "for y_mae in y_mae_list:\n",
    "    ax2.plot(x_features_size, y_mae)\n",
    "ax2.set_title('Mean Absolute Error by # of Features')\n",
    "ax2.set(xlabel='# of features', ylabel='model mae')\n",
    "\n",
    "\n",
    "plt.tight_layout(w_pad=10, h_pad=1.0)\n",
    "fig.savefig('model_evaluation.jpg')"
   ]
  },
  {
   "cell_type": "code",
   "execution_count": 40,
   "id": "90e850cc",
   "metadata": {},
   "outputs": [
    {
     "data": {
      "image/png": "[encoded data removed]",
      "text/plain": [
       "<Figure size 720x432 with 1 Axes>"
      ]
     },
     "metadata": {
      "needs_background": "light"
     },
     "output_type": "display_data"
    }
   ],
   "source": [
    "# draw average true positive rate by label evaluated from 10 runs\n",
    "fig3, ax3 = plt.subplots(1,1, figsize=(10, 6))\n",
    "for y_label in y_accuracy_by_label_list1:\n",
    "    ax3.plot([1,2,3,4,5], y_label, '-o')\n",
    "ax3.set_title('True Positive Rate by Label')\n",
    "ax3.set(xlabel='Label', ylabel='Label Accuracy')\n",
    "fig3.savefig('true_positive_rate_by_label.jpg')"
   ]
  },
  {
   "cell_type": "code",
   "execution_count": 44,
   "id": "3edd61d9",
   "metadata": {},
   "outputs": [],
   "source": [
    "# regrouped model where 1-star and 2-star are one group, and 4-star and 5-star are one group\n",
    "\n",
    "from sklearn.model_selection import train_test_split\n",
    "from pyspark.mllib.classification import LogisticRegressionWithLBFGS\n",
    "from pyspark.mllib.regression import LabeledPoint\n",
    "from pyspark.ml.evaluation import MulticlassClassificationEvaluator, MultilabelClassificationEvaluator\n",
    "from pyspark.mllib.evaluation import MultilabelMetrics\n",
    "from pyspark.sql.types import DoubleType\n",
    "import matplotlib.pyplot as plt\n",
    "\n",
    "\n",
    "# we select only the features whose frequency passes certain threshold, which can be arbitrary.\n",
    "# in this practice, we select unigram whose frequency is greater than 200, \n",
    "# and bigram whose frequence greater than 50, \n",
    "# and trigram whose frequence greater than 10\n",
    "def regrouped_build_data(data, selected_features):\n",
    "    selected_data = []\n",
    "    selected_data_no_length = []\n",
    "    for data_point in data:\n",
    "        label = data_point[1]\n",
    "        features = data_point[0]\n",
    "        new_features = []\n",
    "        for f in selected_features:\n",
    "            if f in features:\n",
    "                new_features.append(1.0)\n",
    "            else:\n",
    "                new_features.append(0.0)\n",
    "        if label == 1.0: \n",
    "            label = 0.0\n",
    "        elif label == 2.0:\n",
    "            label = 1.0\n",
    "        elif label == 3.0 or label == 4.0: \n",
    "            label = 2.0\n",
    "        new_features.append(features['length'])\n",
    "        selected_data.append(LabeledPoint(label, new_features))\n",
    "    return selected_data\n",
    "\n",
    "def regrouped_build_model(data, count, iterations=10):\n",
    "    def build_features(features, count=100):\n",
    "        uni_features_dict, bi_features_dict, tri_features_dict = features\n",
    "        selected_uni_features = {k: v for k, v in sorted(uni_features_dict.items(), key=lambda item: -item[1]) if v > count}\n",
    "        selected_bi_features = {k: v for k, v in sorted(bi_features_dict.items(), key=lambda item: -item[1]) if v > count * 0.5}\n",
    "        selected_tri_features = {k: v for k, v in sorted(tri_features_dict.items(), key=lambda item: -item[1]) if v > count * 0.1}\n",
    "        \n",
    "        selected_features = [k for k in {**selected_uni_features, **selected_bi_features, **selected_tri_features}]\n",
    "        return selected_features\n",
    "\n",
    "    \n",
    "    \n",
    "    selected_features = build_features([uni_features_dict,\n",
    "                                        bi_features_dict,\n",
    "                                        tri_features_dict], count)\n",
    "    \n",
    "    selected_data = regrouped_build_data(data, selected_features)\n",
    "    train_data, test_data = train_test_split(selected_data, train_size=0.7, shuffle=True)\n",
    "\n",
    "    lrm = LogisticRegressionWithLBFGS.train(sc.parallelize(train_data), numClasses=5, iterations=iterations)    \n",
    "    test_data_df = sc.parallelize(test_data)\n",
    "    predictions = lrm.predict(test_data_df.map(lambda x: x.features))\n",
    "    labels_and_predictions = test_data_df.map(lambda x: x.label).zip(predictions)\n",
    "    \n",
    "    mae = labels_and_predictions.map(lambda x: x[0] - x[1] if x[0] > x[1] else x[1] - x[0]).sum() \\\n",
    "                                                / float(test_data_df.count())\n",
    "\n",
    "    label_and_prediction_list = labels_and_predictions.collect()\n",
    "\n",
    "    label_and_prediction_df = spark.createDataFrame(label_and_prediction_list, ['label', 'prediction'])\n",
    "    dataset = label_and_prediction_df.select(['label', 'prediction'])\\\n",
    "                                    .withColumn('prediction', label_and_prediction_df.prediction.cast(DoubleType()))\n",
    "    evaluator = MulticlassClassificationEvaluator()\n",
    "\n",
    "    evaluator.setPredictionCol(\"prediction\")\n",
    "    model_accuracy = evaluator.evaluate(dataset, {evaluator.metricName: \"accuracy\"}) * 100\n",
    "    print(\"Model accuracy: %.3f%%\" % (model_accuracy))\n",
    "    print('Mean Average Error: %.3f' % mae)\n",
    "    print(\"Model F-1: %.3f%%\" % (evaluator.evaluate(dataset, {evaluator.metricName: \"f1\"}) * 100))\n",
    "    \n",
    "    accuracy_by_label = []\n",
    "    for i in range(3):\n",
    "        label_accuracy = evaluator.evaluate(\n",
    "                                    dataset, \n",
    "                                    {evaluator.metricName: \"truePositiveRateByLabel\", \n",
    "                                     evaluator.metricLabel: float(i)}\n",
    "                                ) * 100\n",
    "        accuracy_by_label.append(label_accuracy)\n",
    "        print(f'True Positive Rate by Label (rating {i+1}): %.3f%%' % label_accuracy)\n",
    "    return model_accuracy, mae, accuracy_by_label, len(selected_features)\n"
   ]
  },
  {
   "cell_type": "code",
   "execution_count": 45,
   "id": "f0f104a1",
   "metadata": {},
   "outputs": [
    {
     "name": "stdout",
     "output_type": "stream",
     "text": [
      "word count = 500\n"
     ]
    },
    {
     "name": "stderr",
     "output_type": "stream",
     "text": [
      "                                                                                \r"
     ]
    },
    {
     "name": "stdout",
     "output_type": "stream",
     "text": [
      "Model accuracy: 76.808%\n",
      "Mean Average Error: 0.342\n",
      "Model F-1: 75.371%\n",
      "True Positive Rate by Label (rating 1): 59.859%\n",
      "True Positive Rate by Label (rating 2): 25.177%\n",
      "True Positive Rate by Label (rating 3): 90.629%\n",
      "=================================================\n",
      "word count = 400\n"
     ]
    },
    {
     "name": "stderr",
     "output_type": "stream",
     "text": [
      "                                                                                \r"
     ]
    },
    {
     "name": "stdout",
     "output_type": "stream",
     "text": [
      "Model accuracy: 77.654%\n",
      "Mean Average Error: 0.320\n",
      "Model F-1: 76.174%\n",
      "True Positive Rate by Label (rating 1): 63.511%\n",
      "True Positive Rate by Label (rating 2): 22.887%\n",
      "True Positive Rate by Label (rating 3): 91.354%\n",
      "=================================================\n",
      "word count = 300\n"
     ]
    },
    {
     "name": "stderr",
     "output_type": "stream",
     "text": [
      "                                                                                \r"
     ]
    },
    {
     "name": "stdout",
     "output_type": "stream",
     "text": [
      "Model accuracy: 80.462%\n",
      "Mean Average Error: 0.283\n",
      "Model F-1: 79.635%\n",
      "True Positive Rate by Label (rating 1): 71.880%\n",
      "True Positive Rate by Label (rating 2): 29.457%\n",
      "True Positive Rate by Label (rating 3): 90.637%\n",
      "=================================================\n",
      "word count = 200\n"
     ]
    },
    {
     "name": "stderr",
     "output_type": "stream",
     "text": [
      "                                                                                \r"
     ]
    },
    {
     "name": "stdout",
     "output_type": "stream",
     "text": [
      "Model accuracy: 78.654%\n",
      "Mean Average Error: 0.297\n",
      "Model F-1: 77.921%\n",
      "True Positive Rate by Label (rating 1): 61.897%\n",
      "True Positive Rate by Label (rating 2): 33.929%\n",
      "True Positive Rate by Label (rating 3): 91.437%\n",
      "=================================================\n",
      "word count = 100\n"
     ]
    },
    {
     "name": "stderr",
     "output_type": "stream",
     "text": [
      "                                                                                \r"
     ]
    },
    {
     "name": "stdout",
     "output_type": "stream",
     "text": [
      "Model accuracy: 80.538%\n",
      "Mean Average Error: 0.262\n",
      "Model F-1: 80.007%\n",
      "True Positive Rate by Label (rating 1): 66.546%\n",
      "True Positive Rate by Label (rating 2): 33.333%\n",
      "True Positive Rate by Label (rating 3): 91.966%\n",
      "=================================================\n",
      "word count = 500\n"
     ]
    },
    {
     "name": "stderr",
     "output_type": "stream",
     "text": [
      "                                                                                \r"
     ]
    },
    {
     "name": "stdout",
     "output_type": "stream",
     "text": [
      "Model accuracy: 78.385%\n",
      "Mean Average Error: 0.314\n",
      "Model F-1: 77.065%\n",
      "True Positive Rate by Label (rating 1): 60.239%\n",
      "True Positive Rate by Label (rating 2): 25.954%\n",
      "True Positive Rate by Label (rating 3): 92.295%\n",
      "=================================================\n",
      "word count = 400\n"
     ]
    },
    {
     "name": "stderr",
     "output_type": "stream",
     "text": [
      "                                                                                \r"
     ]
    },
    {
     "name": "stdout",
     "output_type": "stream",
     "text": [
      "Model accuracy: 76.923%\n",
      "Mean Average Error: 0.330\n",
      "Model F-1: 75.471%\n",
      "True Positive Rate by Label (rating 1): 58.725%\n",
      "True Positive Rate by Label (rating 2): 22.909%\n",
      "True Positive Rate by Label (rating 3): 91.787%\n",
      "=================================================\n",
      "word count = 300\n"
     ]
    },
    {
     "name": "stderr",
     "output_type": "stream",
     "text": [
      "                                                                                \r"
     ]
    },
    {
     "name": "stdout",
     "output_type": "stream",
     "text": [
      "Model accuracy: 78.462%\n",
      "Mean Average Error: 0.315\n",
      "Model F-1: 76.777%\n",
      "True Positive Rate by Label (rating 1): 65.695%\n",
      "True Positive Rate by Label (rating 2): 21.942%\n",
      "True Positive Rate by Label (rating 3): 91.777%\n",
      "=================================================\n",
      "word count = 200\n"
     ]
    },
    {
     "name": "stderr",
     "output_type": "stream",
     "text": [
      "                                                                                \r"
     ]
    },
    {
     "name": "stdout",
     "output_type": "stream",
     "text": [
      "Model accuracy: 79.692%\n",
      "Mean Average Error: 0.276\n",
      "Model F-1: 78.910%\n",
      "True Positive Rate by Label (rating 1): 62.304%\n",
      "True Positive Rate by Label (rating 2): 31.734%\n",
      "True Positive Rate by Label (rating 3): 92.768%\n",
      "=================================================\n",
      "word count = 100\n"
     ]
    },
    {
     "name": "stderr",
     "output_type": "stream",
     "text": [
      "                                                                                \r"
     ]
    },
    {
     "name": "stdout",
     "output_type": "stream",
     "text": [
      "Model accuracy: 81.654%\n",
      "Mean Average Error: 0.249\n",
      "Model F-1: 81.129%\n",
      "True Positive Rate by Label (rating 1): 67.731%\n",
      "True Positive Rate by Label (rating 2): 39.114%\n",
      "True Positive Rate by Label (rating 3): 93.080%\n",
      "=================================================\n",
      "word count = 500\n",
      "Model accuracy: 77.269%\n",
      "Mean Average Error: 0.336\n",
      "Model F-1: 75.962%\n",
      "True Positive Rate by Label (rating 1): 58.865%\n",
      "True Positive Rate by Label (rating 2): 28.159%\n",
      "True Positive Rate by Label (rating 3): 90.904%\n",
      "=================================================\n",
      "word count = 400\n",
      "Model accuracy: 77.615%\n",
      "Mean Average Error: 0.328\n",
      "Model F-1: 75.873%\n",
      "True Positive Rate by Label (rating 1): 57.666%\n",
      "True Positive Rate by Label (rating 2): 19.844%\n",
      "True Positive Rate by Label (rating 3): 92.482%\n",
      "=================================================\n",
      "word count = 300\n"
     ]
    },
    {
     "name": "stderr",
     "output_type": "stream",
     "text": [
      "                                                                                \r"
     ]
    },
    {
     "name": "stdout",
     "output_type": "stream",
     "text": [
      "Model accuracy: 79.154%\n",
      "Mean Average Error: 0.301\n",
      "Model F-1: 77.804%\n",
      "True Positive Rate by Label (rating 1): 70.619%\n",
      "True Positive Rate by Label (rating 2): 23.297%\n",
      "True Positive Rate by Label (rating 3): 90.972%\n",
      "=================================================\n",
      "word count = 200\n"
     ]
    },
    {
     "name": "stderr",
     "output_type": "stream",
     "text": [
      "                                                                                \r"
     ]
    },
    {
     "name": "stdout",
     "output_type": "stream",
     "text": [
      "Model accuracy: 79.769%\n",
      "Mean Average Error: 0.283\n",
      "Model F-1: 78.501%\n",
      "True Positive Rate by Label (rating 1): 73.183%\n",
      "True Positive Rate by Label (rating 2): 22.059%\n",
      "True Positive Rate by Label (rating 3): 90.914%\n",
      "=================================================\n",
      "word count = 100\n"
     ]
    },
    {
     "name": "stderr",
     "output_type": "stream",
     "text": [
      "                                                                                \r"
     ]
    },
    {
     "name": "stdout",
     "output_type": "stream",
     "text": [
      "Model accuracy: 79.692%\n",
      "Mean Average Error: 0.282\n",
      "Model F-1: 79.275%\n",
      "True Positive Rate by Label (rating 1): 61.864%\n",
      "True Positive Rate by Label (rating 2): 38.996%\n",
      "True Positive Rate by Label (rating 3): 91.719%\n",
      "=================================================\n",
      "word count = 500\n",
      "Model accuracy: 77.615%\n",
      "Mean Average Error: 0.335\n",
      "Model F-1: 75.969%\n",
      "True Positive Rate by Label (rating 1): 55.465%\n",
      "True Positive Rate by Label (rating 2): 23.887%\n",
      "True Positive Rate by Label (rating 3): 93.046%\n",
      "=================================================\n",
      "word count = 400\n"
     ]
    },
    {
     "name": "stderr",
     "output_type": "stream",
     "text": [
      "                                                                                \r"
     ]
    },
    {
     "name": "stdout",
     "output_type": "stream",
     "text": [
      "Model accuracy: 77.923%\n",
      "Mean Average Error: 0.310\n",
      "Model F-1: 76.635%\n",
      "True Positive Rate by Label (rating 1): 63.781%\n",
      "True Positive Rate by Label (rating 2): 22.939%\n",
      "True Positive Rate by Label (rating 3): 91.225%\n",
      "=================================================\n",
      "word count = 300\n"
     ]
    },
    {
     "name": "stderr",
     "output_type": "stream",
     "text": [
      "                                                                                \r"
     ]
    },
    {
     "name": "stdout",
     "output_type": "stream",
     "text": [
      "Model accuracy: 79.115%\n",
      "Mean Average Error: 0.300\n",
      "Model F-1: 77.570%\n",
      "True Positive Rate by Label (rating 1): 59.259%\n",
      "True Positive Rate by Label (rating 2): 26.296%\n",
      "True Positive Rate by Label (rating 3): 93.590%\n",
      "=================================================\n",
      "word count = 200\n"
     ]
    },
    {
     "name": "stderr",
     "output_type": "stream",
     "text": [
      "                                                                                \r"
     ]
    },
    {
     "name": "stdout",
     "output_type": "stream",
     "text": [
      "Model accuracy: 79.577%\n",
      "Mean Average Error: 0.289\n",
      "Model F-1: 78.537%\n",
      "True Positive Rate by Label (rating 1): 63.054%\n",
      "True Positive Rate by Label (rating 2): 30.566%\n",
      "True Positive Rate by Label (rating 3): 92.932%\n",
      "=================================================\n",
      "word count = 100\n"
     ]
    },
    {
     "name": "stderr",
     "output_type": "stream",
     "text": [
      "                                                                                \r"
     ]
    },
    {
     "name": "stdout",
     "output_type": "stream",
     "text": [
      "Model accuracy: 81.346%\n",
      "Mean Average Error: 0.248\n",
      "Model F-1: 80.903%\n",
      "True Positive Rate by Label (rating 1): 67.233%\n",
      "True Positive Rate by Label (rating 2): 35.385%\n",
      "True Positive Rate by Label (rating 3): 92.918%\n",
      "=================================================\n",
      "word count = 500\n"
     ]
    },
    {
     "name": "stderr",
     "output_type": "stream",
     "text": [
      "                                                                                \r"
     ]
    },
    {
     "name": "stdout",
     "output_type": "stream",
     "text": [
      "Model accuracy: 77.769%\n",
      "Mean Average Error: 0.324\n",
      "Model F-1: 76.404%\n",
      "True Positive Rate by Label (rating 1): 58.744%\n",
      "True Positive Rate by Label (rating 2): 25.191%\n",
      "True Positive Rate by Label (rating 3): 92.053%\n",
      "=================================================\n",
      "word count = 400\n"
     ]
    },
    {
     "name": "stderr",
     "output_type": "stream",
     "text": [
      "                                                                                \r"
     ]
    },
    {
     "name": "stdout",
     "output_type": "stream",
     "text": [
      "Model accuracy: 77.538%\n",
      "Mean Average Error: 0.331\n",
      "Model F-1: 76.286%\n",
      "True Positive Rate by Label (rating 1): 65.210%\n",
      "True Positive Rate by Label (rating 2): 21.094%\n",
      "True Positive Rate by Label (rating 3): 89.994%\n",
      "=================================================\n",
      "word count = 300\n"
     ]
    },
    {
     "name": "stderr",
     "output_type": "stream",
     "text": [
      "                                                                                \r"
     ]
    },
    {
     "name": "stdout",
     "output_type": "stream",
     "text": [
      "Model accuracy: 77.231%\n",
      "Mean Average Error: 0.325\n",
      "Model F-1: 76.207%\n",
      "True Positive Rate by Label (rating 1): 54.949%\n",
      "True Positive Rate by Label (rating 2): 32.472%\n",
      "True Positive Rate by Label (rating 3): 91.681%\n",
      "=================================================\n",
      "word count = 200\n"
     ]
    },
    {
     "name": "stderr",
     "output_type": "stream",
     "text": [
      "                                                                                \r"
     ]
    },
    {
     "name": "stdout",
     "output_type": "stream",
     "text": [
      "Model accuracy: 79.731%\n",
      "Mean Average Error: 0.287\n",
      "Model F-1: 78.760%\n",
      "True Positive Rate by Label (rating 1): 60.549%\n",
      "True Positive Rate by Label (rating 2): 31.518%\n",
      "True Positive Rate by Label (rating 3): 93.125%\n",
      "=================================================\n",
      "word count = 100\n"
     ]
    },
    {
     "name": "stderr",
     "output_type": "stream",
     "text": [
      "                                                                                \r"
     ]
    },
    {
     "name": "stdout",
     "output_type": "stream",
     "text": [
      "Model accuracy: 82.077%\n",
      "Mean Average Error: 0.238\n",
      "Model F-1: 81.569%\n",
      "True Positive Rate by Label (rating 1): 67.025%\n",
      "True Positive Rate by Label (rating 2): 38.060%\n",
      "True Positive Rate by Label (rating 3): 93.461%\n",
      "=================================================\n",
      "word count = 500\n"
     ]
    },
    {
     "name": "stderr",
     "output_type": "stream",
     "text": [
      "                                                                                \r"
     ]
    },
    {
     "name": "stdout",
     "output_type": "stream",
     "text": [
      "Model accuracy: 76.962%\n",
      "Mean Average Error: 0.341\n",
      "Model F-1: 75.281%\n",
      "True Positive Rate by Label (rating 1): 56.973%\n",
      "True Positive Rate by Label (rating 2): 23.048%\n",
      "True Positive Rate by Label (rating 3): 92.025%\n",
      "=================================================\n",
      "word count = 400\n",
      "Model accuracy: 77.962%\n",
      "Mean Average Error: 0.323\n",
      "Model F-1: 76.282%\n",
      "True Positive Rate by Label (rating 1): 68.348%\n",
      "True Positive Rate by Label (rating 2): 21.453%\n",
      "True Positive Rate by Label (rating 3): 90.553%\n",
      "=================================================\n",
      "word count = 300\n"
     ]
    },
    {
     "name": "stderr",
     "output_type": "stream",
     "text": [
      "                                                                                \r"
     ]
    },
    {
     "name": "stdout",
     "output_type": "stream",
     "text": [
      "Model accuracy: 78.923%\n",
      "Mean Average Error: 0.309\n",
      "Model F-1: 77.385%\n",
      "True Positive Rate by Label (rating 1): 75.387%\n",
      "True Positive Rate by Label (rating 2): 20.789%\n",
      "True Positive Rate by Label (rating 3): 89.425%\n",
      "=================================================\n",
      "word count = 200\n"
     ]
    },
    {
     "name": "stderr",
     "output_type": "stream",
     "text": [
      "                                                                                \r"
     ]
    },
    {
     "name": "stdout",
     "output_type": "stream",
     "text": [
      "Model accuracy: 79.577%\n",
      "Mean Average Error: 0.281\n",
      "Model F-1: 78.866%\n",
      "True Positive Rate by Label (rating 1): 61.436%\n",
      "True Positive Rate by Label (rating 2): 31.225%\n",
      "True Positive Rate by Label (rating 3): 92.792%\n",
      "=================================================\n",
      "word count = 100\n"
     ]
    },
    {
     "name": "stderr",
     "output_type": "stream",
     "text": [
      "                                                                                \r"
     ]
    },
    {
     "name": "stdout",
     "output_type": "stream",
     "text": [
      "Model accuracy: 81.885%\n",
      "Mean Average Error: 0.250\n",
      "Model F-1: 81.673%\n",
      "True Positive Rate by Label (rating 1): 69.799%\n",
      "True Positive Rate by Label (rating 2): 40.816%\n",
      "True Positive Rate by Label (rating 3): 91.700%\n",
      "=================================================\n",
      "word count = 500\n",
      "Model accuracy: 77.269%\n",
      "Mean Average Error: 0.340\n",
      "Model F-1: 75.947%\n",
      "True Positive Rate by Label (rating 1): 57.923%\n",
      "True Positive Rate by Label (rating 2): 26.136%\n",
      "True Positive Rate by Label (rating 3): 90.767%\n",
      "=================================================\n",
      "word count = 400\n"
     ]
    },
    {
     "name": "stderr",
     "output_type": "stream",
     "text": [
      "                                                                                \r"
     ]
    },
    {
     "name": "stdout",
     "output_type": "stream",
     "text": [
      "Model accuracy: 79.231%\n",
      "Mean Average Error: 0.295\n",
      "Model F-1: 77.964%\n",
      "True Positive Rate by Label (rating 1): 62.832%\n",
      "True Positive Rate by Label (rating 2): 26.766%\n",
      "True Positive Rate by Label (rating 3): 92.469%\n",
      "=================================================\n",
      "word count = 300\n"
     ]
    },
    {
     "name": "stderr",
     "output_type": "stream",
     "text": [
      "                                                                                \r"
     ]
    },
    {
     "name": "stdout",
     "output_type": "stream",
     "text": [
      "Model accuracy: 79.308%\n",
      "Mean Average Error: 0.301\n",
      "Model F-1: 77.996%\n",
      "True Positive Rate by Label (rating 1): 59.294%\n",
      "True Positive Rate by Label (rating 2): 30.909%\n",
      "True Positive Rate by Label (rating 3): 92.781%\n",
      "=================================================\n",
      "word count = 200\n"
     ]
    },
    {
     "name": "stderr",
     "output_type": "stream",
     "text": [
      "                                                                                \r"
     ]
    },
    {
     "name": "stdout",
     "output_type": "stream",
     "text": [
      "Model accuracy: 79.577%\n",
      "Mean Average Error: 0.278\n",
      "Model F-1: 79.003%\n",
      "True Positive Rate by Label (rating 1): 64.602%\n",
      "True Positive Rate by Label (rating 2): 37.966%\n",
      "True Positive Rate by Label (rating 3): 91.494%\n",
      "=================================================\n",
      "word count = 100\n"
     ]
    },
    {
     "name": "stderr",
     "output_type": "stream",
     "text": [
      "                                                                                \r"
     ]
    },
    {
     "name": "stdout",
     "output_type": "stream",
     "text": [
      "Model accuracy: 81.731%\n",
      "Mean Average Error: 0.247\n",
      "Model F-1: 81.171%\n",
      "True Positive Rate by Label (rating 1): 66.779%\n",
      "True Positive Rate by Label (rating 2): 35.178%\n",
      "True Positive Rate by Label (rating 3): 93.547%\n",
      "=================================================\n",
      "word count = 500\n"
     ]
    },
    {
     "name": "stderr",
     "output_type": "stream",
     "text": [
      "                                                                                \r"
     ]
    },
    {
     "name": "stdout",
     "output_type": "stream",
     "text": [
      "Model accuracy: 77.923%\n",
      "Mean Average Error: 0.318\n",
      "Model F-1: 76.200%\n",
      "True Positive Rate by Label (rating 1): 58.511%\n",
      "True Positive Rate by Label (rating 2): 21.033%\n",
      "True Positive Rate by Label (rating 3): 92.861%\n",
      "=================================================\n",
      "word count = 400\n"
     ]
    },
    {
     "name": "stderr",
     "output_type": "stream",
     "text": [
      "[Stage 2948:============================>                           (1 + 1) / 2]\r"
     ]
    },
    {
     "name": "stdout",
     "output_type": "stream",
     "text": [
      "Model accuracy: 79.538%\n",
      "Mean Average Error: 0.303\n",
      "Model F-1: 78.267%\n",
      "True Positive Rate by Label (rating 1): 60.179%\n",
      "True Positive Rate by Label (rating 2): 28.514%\n",
      "True Positive Rate by Label (rating 3): 92.686%\n",
      "=================================================\n",
      "word count = 300\n"
     ]
    },
    {
     "name": "stderr",
     "output_type": "stream",
     "text": [
      "                                                                                \r"
     ]
    },
    {
     "name": "stdout",
     "output_type": "stream",
     "text": [
      "Model accuracy: 78.962%\n",
      "Mean Average Error: 0.300\n",
      "Model F-1: 77.696%\n",
      "True Positive Rate by Label (rating 1): 66.372%\n",
      "True Positive Rate by Label (rating 2): 25.091%\n",
      "True Positive Rate by Label (rating 3): 91.420%\n",
      "=================================================\n",
      "word count = 200\n"
     ]
    },
    {
     "name": "stderr",
     "output_type": "stream",
     "text": [
      "                                                                                \r"
     ]
    },
    {
     "name": "stdout",
     "output_type": "stream",
     "text": [
      "Model accuracy: 78.962%\n",
      "Mean Average Error: 0.294\n",
      "Model F-1: 78.049%\n",
      "True Positive Rate by Label (rating 1): 59.609%\n",
      "True Positive Rate by Label (rating 2): 30.888%\n",
      "True Positive Rate by Label (rating 3): 93.052%\n",
      "=================================================\n",
      "word count = 100\n"
     ]
    },
    {
     "name": "stderr",
     "output_type": "stream",
     "text": [
      "                                                                                \r"
     ]
    },
    {
     "name": "stdout",
     "output_type": "stream",
     "text": [
      "Model accuracy: 81.885%\n",
      "Mean Average Error: 0.242\n",
      "Model F-1: 81.126%\n",
      "True Positive Rate by Label (rating 1): 72.991%\n",
      "True Positive Rate by Label (rating 2): 32.734%\n",
      "True Positive Rate by Label (rating 3): 92.746%\n",
      "=================================================\n",
      "word count = 500\n"
     ]
    },
    {
     "name": "stderr",
     "output_type": "stream",
     "text": [
      "                                                                                \r"
     ]
    },
    {
     "name": "stdout",
     "output_type": "stream",
     "text": [
      "Model accuracy: 77.962%\n",
      "Mean Average Error: 0.325\n",
      "Model F-1: 76.738%\n",
      "True Positive Rate by Label (rating 1): 57.527%\n",
      "True Positive Rate by Label (rating 2): 26.316%\n",
      "True Positive Rate by Label (rating 3): 91.421%\n",
      "=================================================\n",
      "word count = 400\n",
      "Model accuracy: 78.308%\n",
      "Mean Average Error: 0.312\n",
      "Model F-1: 76.778%\n",
      "True Positive Rate by Label (rating 1): 64.311%\n",
      "True Positive Rate by Label (rating 2): 25.589%\n",
      "True Positive Rate by Label (rating 3): 91.883%\n",
      "=================================================\n",
      "word count = 300\n"
     ]
    },
    {
     "name": "stderr",
     "output_type": "stream",
     "text": [
      "                                                                                \r"
     ]
    },
    {
     "name": "stdout",
     "output_type": "stream",
     "text": [
      "Model accuracy: 77.654%\n",
      "Mean Average Error: 0.318\n",
      "Model F-1: 76.362%\n",
      "True Positive Rate by Label (rating 1): 57.119%\n",
      "True Positive Rate by Label (rating 2): 29.181%\n",
      "True Positive Rate by Label (rating 3): 92.539%\n",
      "=================================================\n",
      "word count = 200\n"
     ]
    },
    {
     "name": "stderr",
     "output_type": "stream",
     "text": [
      "                                                                                \r"
     ]
    },
    {
     "name": "stdout",
     "output_type": "stream",
     "text": [
      "Model accuracy: 79.923%\n",
      "Mean Average Error: 0.287\n",
      "Model F-1: 78.730%\n",
      "True Positive Rate by Label (rating 1): 61.702%\n",
      "True Positive Rate by Label (rating 2): 32.472%\n",
      "True Positive Rate by Label (rating 3): 93.888%\n",
      "=================================================\n",
      "word count = 100\n"
     ]
    },
    {
     "name": "stderr",
     "output_type": "stream",
     "text": [
      "                                                                                \r"
     ]
    },
    {
     "name": "stdout",
     "output_type": "stream",
     "text": [
      "Model accuracy: 80.885%\n",
      "Mean Average Error: 0.250\n",
      "Model F-1: 80.193%\n",
      "True Positive Rate by Label (rating 1): 67.979%\n",
      "True Positive Rate by Label (rating 2): 31.915%\n",
      "True Positive Rate by Label (rating 3): 92.837%\n",
      "=================================================\n",
      "word count = 500\n"
     ]
    },
    {
     "name": "stderr",
     "output_type": "stream",
     "text": [
      "                                                                                \r"
     ]
    },
    {
     "name": "stdout",
     "output_type": "stream",
     "text": [
      "Model accuracy: 78.000%\n",
      "Mean Average Error: 0.319\n",
      "Model F-1: 76.741%\n",
      "True Positive Rate by Label (rating 1): 57.829%\n",
      "True Positive Rate by Label (rating 2): 23.790%\n",
      "True Positive Rate by Label (rating 3): 91.844%\n",
      "=================================================\n",
      "word count = 400\n"
     ]
    },
    {
     "name": "stderr",
     "output_type": "stream",
     "text": [
      "                                                                                \r"
     ]
    },
    {
     "name": "stdout",
     "output_type": "stream",
     "text": [
      "Model accuracy: 77.692%\n",
      "Mean Average Error: 0.315\n",
      "Model F-1: 76.375%\n",
      "True Positive Rate by Label (rating 1): 59.619%\n",
      "True Positive Rate by Label (rating 2): 28.859%\n",
      "True Positive Rate by Label (rating 3): 92.174%\n",
      "=================================================\n",
      "word count = 300\n"
     ]
    },
    {
     "name": "stderr",
     "output_type": "stream",
     "text": [
      "                                                                                \r"
     ]
    },
    {
     "name": "stdout",
     "output_type": "stream",
     "text": [
      "Model accuracy: 77.385%\n",
      "Mean Average Error: 0.316\n",
      "Model F-1: 76.536%\n",
      "True Positive Rate by Label (rating 1): 58.685%\n",
      "True Positive Rate by Label (rating 2): 31.047%\n",
      "True Positive Rate by Label (rating 3): 91.214%\n",
      "=================================================\n",
      "word count = 200\n"
     ]
    },
    {
     "name": "stderr",
     "output_type": "stream",
     "text": [
      "                                                                                \r"
     ]
    },
    {
     "name": "stdout",
     "output_type": "stream",
     "text": [
      "Model accuracy: 78.577%\n",
      "Mean Average Error: 0.302\n",
      "Model F-1: 77.881%\n",
      "True Positive Rate by Label (rating 1): 55.035%\n",
      "True Positive Rate by Label (rating 2): 35.743%\n",
      "True Positive Rate by Label (rating 3): 92.225%\n",
      "=================================================\n",
      "word count = 100\n"
     ]
    },
    {
     "name": "stderr",
     "output_type": "stream",
     "text": [
      "                                                                                \r"
     ]
    },
    {
     "name": "stdout",
     "output_type": "stream",
     "text": [
      "Model accuracy: 82.769%\n",
      "Mean Average Error: 0.232\n",
      "Model F-1: 82.541%\n",
      "True Positive Rate by Label (rating 1): 68.333%\n",
      "True Positive Rate by Label (rating 2): 44.223%\n",
      "True Positive Rate by Label (rating 3): 93.253%\n",
      "=================================================\n"
     ]
    }
   ],
   "source": [
    "# build a list of regrouped model accuracy and model mae\n",
    "import matplotlib.pyplot as plt\n",
    "\n",
    "count_range = [500, 400, 300, 200, 100]\n",
    "regrouped_x_features_size = []\n",
    "\n",
    "\n",
    "regrouped_y_accuracy_by_label_list = []\n",
    "regrouped_y_accuracy_list = []\n",
    "regrouped_y_mae_list = []\n",
    "\n",
    "for i in range(10):\n",
    "    y_accuracy = []\n",
    "    y_mae = []\n",
    "    accuracy_by_label_list = []\n",
    "    for count in count_range:\n",
    "        print(f'word count = {count}')\n",
    "        accuracy, mae, accuracy_by_label, features_size = regrouped_build_model(data, count)\n",
    "        if len(regrouped_x_features_size) < 5:\n",
    "            regrouped_x_features_size.append(features_size)\n",
    "        y_accuracy.append(accuracy)\n",
    "        y_mae.append(mae)\n",
    "        accuracy_by_label_list.append(accuracy_by_label)\n",
    "        print('=================================================')\n",
    "    regrouped_y_accuracy_list.append(y_accuracy)\n",
    "    regrouped_y_mae_list.append(y_mae)\n",
    "    regrouped_y_accuracy_by_label_list.append(accuracy_by_label_list)"
   ]
  },
  {
   "cell_type": "code",
   "execution_count": 46,
   "id": "f6a7a83b",
   "metadata": {
    "scrolled": true
   },
   "outputs": [
    {
     "data": {
      "image/png": "[encoded data removed]",
      "text/plain": [
       "<Figure size 720x288 with 2 Axes>"
      ]
     },
     "metadata": {
      "needs_background": "light"
     },
     "output_type": "display_data"
    }
   ],
   "source": [
    "# draw and compare original model accuracy and regrouped model accuracy\n",
    "fig11, (ax11, ax22) = plt.subplots(1,2, figsize=(10, 4))\n",
    "\n",
    "for y_accuracy in regrouped_y_accuracy_list:\n",
    "    ax11.plot(x_features_size, y_accuracy, '-bo')\n",
    "\n",
    "for y_accuracy in y_accuracy_list:\n",
    "    ax11.plot(x_features_size, y_accuracy, '-ro')\n",
    "    \n",
    "ax11.set_title('Compare Model Accuracy by # of Features')\n",
    "ax11.set(xlabel='# of features', ylabel='model accuracy')\n",
    "\n",
    "for y_mae in regrouped_y_mae_list:\n",
    "    ax22.plot(x_features_size, y_mae, '-bo')\n",
    "\n",
    "for y_mae in y_mae_list:\n",
    "    ax22.plot(x_features_size, y_mae, '-ro')\n",
    "    \n",
    "ax22.set_title('Compare Mean Absolute Error by # of Features')\n",
    "ax22.set(xlabel='# of features', ylabel='model mae')\n",
    "\n",
    "\n",
    "plt.tight_layout(w_pad=10, h_pad=1.0)\n",
    "fig11.savefig('Compare_model_evaluation.jpg')"
   ]
  },
  {
   "cell_type": "code",
   "execution_count": 48,
   "id": "2e567fd2",
   "metadata": {},
   "outputs": [],
   "source": [
    "# another regroup approach where 2-star & 3-star & 4-star are one group\n",
    "\n",
    "from sklearn.model_selection import train_test_split\n",
    "from pyspark.mllib.classification import LogisticRegressionWithLBFGS\n",
    "from pyspark.mllib.regression import LabeledPoint\n",
    "from pyspark.ml.evaluation import MulticlassClassificationEvaluator, MultilabelClassificationEvaluator\n",
    "from pyspark.mllib.evaluation import MultilabelMetrics\n",
    "from pyspark.sql.types import DoubleType\n",
    "import matplotlib.pyplot as plt\n",
    "\n",
    "\n",
    "# we select only the features whose frequency passes certain threshold, which can be arbitrary.\n",
    "# in this practice, we select unigram whose frequency is greater than 200, \n",
    "# and bigram whose frequence greater than 50, \n",
    "# and trigram whose frequence greater than 10\n",
    "def regrouped_build_data(data, selected_features):\n",
    "    selected_data = []\n",
    "    selected_data_no_length = []\n",
    "    for data_point in data:\n",
    "        label = data_point[1]\n",
    "        features = data_point[0]\n",
    "        new_features = []\n",
    "        for f in selected_features:\n",
    "            if f in features:\n",
    "                new_features.append(1.0)\n",
    "            else:\n",
    "                new_features.append(0.0)\n",
    "        # 0-4:\n",
    "        #     0 = 0\n",
    "        #     1 = 1\n",
    "        #     2 = 1\n",
    "        #     3 = 1\n",
    "        #     4 = 2\n",
    "\n",
    "        if label == 2.0: \n",
    "            label = 1.0\n",
    "        elif label == 3.0:\n",
    "            label = 1.0\n",
    "        elif label == 4.0: \n",
    "            label = 2.0\n",
    "        new_features.append(features['length'])\n",
    "        selected_data.append(LabeledPoint(label, new_features))\n",
    "    return selected_data\n",
    "\n",
    "def regrouped_build_model_2(data, count, iterations=10):\n",
    "    def build_features(features, count=100):\n",
    "        uni_features_dict, bi_features_dict, tri_features_dict = features\n",
    "        selected_uni_features = {k: v for k, v in sorted(uni_features_dict.items(), key=lambda item: -item[1]) if v > count}\n",
    "        selected_bi_features = {k: v for k, v in sorted(bi_features_dict.items(), key=lambda item: -item[1]) if v > count * 0.5}\n",
    "        selected_tri_features = {k: v for k, v in sorted(tri_features_dict.items(), key=lambda item: -item[1]) if v > count * 0.1}\n",
    "        \n",
    "        selected_features = [k for k in {**selected_uni_features, **selected_bi_features, **selected_tri_features}]\n",
    "        return selected_features\n",
    "\n",
    "    \n",
    "    \n",
    "    selected_features = build_features([uni_features_dict,\n",
    "                                        bi_features_dict,\n",
    "                                        tri_features_dict], count)\n",
    "    \n",
    "    selected_data = regrouped_build_data(data, selected_features)\n",
    "    train_data, test_data = train_test_split(selected_data, train_size=0.7, shuffle=True)\n",
    "\n",
    "    lrm = LogisticRegressionWithLBFGS.train(sc.parallelize(train_data), numClasses=5, iterations=iterations)    \n",
    "    test_data_df = sc.parallelize(test_data)\n",
    "    predictions = lrm.predict(test_data_df.map(lambda x: x.features))\n",
    "    labels_and_predictions = test_data_df.map(lambda x: x.label).zip(predictions)\n",
    "    \n",
    "    mae = labels_and_predictions.map(lambda x: x[0] - x[1] if x[0] > x[1] else x[1] - x[0]).sum() \\\n",
    "                                                / float(test_data_df.count())\n",
    "\n",
    "    label_and_prediction_list = labels_and_predictions.collect()\n",
    "\n",
    "    label_and_prediction_df = spark.createDataFrame(label_and_prediction_list, ['label', 'prediction'])\n",
    "    dataset = label_and_prediction_df.select(['label', 'prediction'])\\\n",
    "                                    .withColumn('prediction', label_and_prediction_df.prediction.cast(DoubleType()))\n",
    "    evaluator = MulticlassClassificationEvaluator()\n",
    "\n",
    "    evaluator.setPredictionCol(\"prediction\")\n",
    "    model_accuracy = evaluator.evaluate(dataset, {evaluator.metricName: \"accuracy\"}) * 100\n",
    "    print(\"Model accuracy: %.3f%%\" % (model_accuracy))\n",
    "    print('Mean Average Error: %.3f' % mae)\n",
    "    print(\"Model F-1: %.3f%%\" % (evaluator.evaluate(dataset, {evaluator.metricName: \"f1\"}) * 100))\n",
    "    \n",
    "    accuracy_by_label = []\n",
    "    for i in range(3):\n",
    "        label_accuracy = evaluator.evaluate(\n",
    "                                    dataset, \n",
    "                                    {evaluator.metricName: \"truePositiveRateByLabel\", \n",
    "                                     evaluator.metricLabel: float(i)}\n",
    "                                ) * 100\n",
    "        accuracy_by_label.append(label_accuracy)\n",
    "        print(f'True Positive Rate by Label (rating {i+1}): %.3f%%' % label_accuracy)\n",
    "    return model_accuracy, mae, accuracy_by_label, len(selected_features)\n"
   ]
  },
  {
   "cell_type": "code",
   "execution_count": 49,
   "id": "83444fce",
   "metadata": {},
   "outputs": [
    {
     "name": "stdout",
     "output_type": "stream",
     "text": [
      "word count = 500\n"
     ]
    },
    {
     "name": "stderr",
     "output_type": "stream",
     "text": [
      "                                                                                \r"
     ]
    },
    {
     "name": "stdout",
     "output_type": "stream",
     "text": [
      "Model accuracy: 67.462%\n",
      "Mean Average Error: 0.356\n",
      "Model F-1: 67.317%\n",
      "True Positive Rate by Label (rating 1): 56.764%\n",
      "True Positive Rate by Label (rating 2): 62.704%\n",
      "True Positive Rate by Label (rating 3): 75.085%\n",
      "=================================================\n",
      "word count = 400\n"
     ]
    },
    {
     "name": "stderr",
     "output_type": "stream",
     "text": [
      "                                                                                \r"
     ]
    },
    {
     "name": "stdout",
     "output_type": "stream",
     "text": [
      "Model accuracy: 68.192%\n",
      "Mean Average Error: 0.351\n",
      "Model F-1: 67.963%\n",
      "True Positive Rate by Label (rating 1): 59.269%\n",
      "True Positive Rate by Label (rating 2): 61.106%\n",
      "True Positive Rate by Label (rating 3): 77.234%\n",
      "=================================================\n",
      "word count = 300\n"
     ]
    },
    {
     "name": "stderr",
     "output_type": "stream",
     "text": [
      "[Stage 3482:============================>                           (1 + 1) / 2]\r"
     ]
    },
    {
     "name": "stdout",
     "output_type": "stream",
     "text": [
      "Model accuracy: 68.462%\n",
      "Mean Average Error: 0.347\n",
      "Model F-1: 68.257%\n",
      "True Positive Rate by Label (rating 1): 63.456%\n",
      "True Positive Rate by Label (rating 2): 59.728%\n",
      "True Positive Rate by Label (rating 3): 77.276%\n",
      "=================================================\n",
      "word count = 200\n"
     ]
    },
    {
     "name": "stderr",
     "output_type": "stream",
     "text": [
      "                                                                                \r"
     ]
    },
    {
     "name": "stdout",
     "output_type": "stream",
     "text": [
      "Model accuracy: 69.846%\n",
      "Mean Average Error: 0.327\n",
      "Model F-1: 69.696%\n",
      "True Positive Rate by Label (rating 1): 60.202%\n",
      "True Positive Rate by Label (rating 2): 64.609%\n",
      "True Positive Rate by Label (rating 3): 77.787%\n",
      "=================================================\n",
      "word count = 100\n"
     ]
    },
    {
     "name": "stderr",
     "output_type": "stream",
     "text": [
      "                                                                                \r"
     ]
    },
    {
     "name": "stdout",
     "output_type": "stream",
     "text": [
      "Model accuracy: 70.462%\n",
      "Mean Average Error: 0.311\n",
      "Model F-1: 70.256%\n",
      "True Positive Rate by Label (rating 1): 62.185%\n",
      "True Positive Rate by Label (rating 2): 63.653%\n",
      "True Positive Rate by Label (rating 3): 79.379%\n",
      "=================================================\n",
      "word count = 500\n"
     ]
    },
    {
     "name": "stderr",
     "output_type": "stream",
     "text": [
      "                                                                                \r"
     ]
    },
    {
     "name": "stdout",
     "output_type": "stream",
     "text": [
      "Model accuracy: 67.346%\n",
      "Mean Average Error: 0.359\n",
      "Model F-1: 67.126%\n",
      "True Positive Rate by Label (rating 1): 50.140%\n",
      "True Positive Rate by Label (rating 2): 64.368%\n",
      "True Positive Rate by Label (rating 3): 75.063%\n",
      "=================================================\n",
      "word count = 400\n"
     ]
    },
    {
     "name": "stderr",
     "output_type": "stream",
     "text": [
      "                                                                                \r"
     ]
    },
    {
     "name": "stdout",
     "output_type": "stream",
     "text": [
      "Model accuracy: 69.077%\n",
      "Mean Average Error: 0.339\n",
      "Model F-1: 68.981%\n",
      "True Positive Rate by Label (rating 1): 62.245%\n",
      "True Positive Rate by Label (rating 2): 63.969%\n",
      "True Positive Rate by Label (rating 3): 75.897%\n",
      "=================================================\n",
      "word count = 300\n"
     ]
    },
    {
     "name": "stderr",
     "output_type": "stream",
     "text": [
      "                                                                                \r"
     ]
    },
    {
     "name": "stdout",
     "output_type": "stream",
     "text": [
      "Model accuracy: 68.808%\n",
      "Mean Average Error: 0.341\n",
      "Model F-1: 68.474%\n",
      "True Positive Rate by Label (rating 1): 56.464%\n",
      "True Positive Rate by Label (rating 2): 60.588%\n",
      "True Positive Rate by Label (rating 3): 79.684%\n",
      "=================================================\n",
      "word count = 200\n"
     ]
    },
    {
     "name": "stderr",
     "output_type": "stream",
     "text": [
      "                                                                                \r"
     ]
    },
    {
     "name": "stdout",
     "output_type": "stream",
     "text": [
      "Model accuracy: 70.269%\n",
      "Mean Average Error: 0.319\n",
      "Model F-1: 70.215%\n",
      "True Positive Rate by Label (rating 1): 61.186%\n",
      "True Positive Rate by Label (rating 2): 66.145%\n",
      "True Positive Rate by Label (rating 3): 76.553%\n",
      "=================================================\n",
      "word count = 100\n"
     ]
    },
    {
     "name": "stderr",
     "output_type": "stream",
     "text": [
      "                                                                                \r"
     ]
    },
    {
     "name": "stdout",
     "output_type": "stream",
     "text": [
      "Model accuracy: 69.231%\n",
      "Mean Average Error: 0.331\n",
      "Model F-1: 69.273%\n",
      "True Positive Rate by Label (rating 1): 66.398%\n",
      "True Positive Rate by Label (rating 2): 66.248%\n",
      "True Positive Rate by Label (rating 3): 72.697%\n",
      "=================================================\n",
      "word count = 500\n"
     ]
    },
    {
     "name": "stderr",
     "output_type": "stream",
     "text": [
      "                                                                                \r"
     ]
    },
    {
     "name": "stdout",
     "output_type": "stream",
     "text": [
      "Model accuracy: 68.654%\n",
      "Mean Average Error: 0.348\n",
      "Model F-1: 68.383%\n",
      "True Positive Rate by Label (rating 1): 50.407%\n",
      "True Positive Rate by Label (rating 2): 66.604%\n",
      "True Positive Rate by Label (rating 3): 76.260%\n",
      "=================================================\n",
      "word count = 400\n"
     ]
    },
    {
     "name": "stderr",
     "output_type": "stream",
     "text": [
      "                                                                                \r"
     ]
    },
    {
     "name": "stdout",
     "output_type": "stream",
     "text": [
      "Model accuracy: 67.462%\n",
      "Mean Average Error: 0.362\n",
      "Model F-1: 67.276%\n",
      "True Positive Rate by Label (rating 1): 53.351%\n",
      "True Positive Rate by Label (rating 2): 64.695%\n",
      "True Positive Rate by Label (rating 3): 74.656%\n",
      "=================================================\n",
      "word count = 300\n"
     ]
    },
    {
     "name": "stderr",
     "output_type": "stream",
     "text": [
      "                                                                                \r"
     ]
    },
    {
     "name": "stdout",
     "output_type": "stream",
     "text": [
      "Model accuracy: 67.654%\n",
      "Mean Average Error: 0.353\n",
      "Model F-1: 67.489%\n",
      "True Positive Rate by Label (rating 1): 56.787%\n",
      "True Positive Rate by Label (rating 2): 63.207%\n",
      "True Positive Rate by Label (rating 3): 75.172%\n",
      "=================================================\n",
      "word count = 200\n"
     ]
    },
    {
     "name": "stderr",
     "output_type": "stream",
     "text": [
      "                                                                                \r"
     ]
    },
    {
     "name": "stdout",
     "output_type": "stream",
     "text": [
      "Model accuracy: 68.769%\n",
      "Mean Average Error: 0.332\n",
      "Model F-1: 68.725%\n",
      "True Positive Rate by Label (rating 1): 61.538%\n",
      "True Positive Rate by Label (rating 2): 65.659%\n",
      "True Positive Rate by Label (rating 3): 73.898%\n",
      "=================================================\n",
      "word count = 100\n"
     ]
    },
    {
     "name": "stderr",
     "output_type": "stream",
     "text": [
      "                                                                                \r"
     ]
    },
    {
     "name": "stdout",
     "output_type": "stream",
     "text": [
      "Model accuracy: 70.500%\n",
      "Mean Average Error: 0.313\n",
      "Model F-1: 70.403%\n",
      "True Positive Rate by Label (rating 1): 62.857%\n",
      "True Positive Rate by Label (rating 2): 65.092%\n",
      "True Positive Rate by Label (rating 3): 77.759%\n",
      "=================================================\n",
      "word count = 500\n"
     ]
    },
    {
     "name": "stderr",
     "output_type": "stream",
     "text": [
      "                                                                                \r"
     ]
    },
    {
     "name": "stdout",
     "output_type": "stream",
     "text": [
      "Model accuracy: 68.654%\n",
      "Mean Average Error: 0.348\n",
      "Model F-1: 68.403%\n",
      "True Positive Rate by Label (rating 1): 54.133%\n",
      "True Positive Rate by Label (rating 2): 63.320%\n",
      "True Positive Rate by Label (rating 3): 77.523%\n",
      "=================================================\n",
      "word count = 400\n"
     ]
    },
    {
     "name": "stderr",
     "output_type": "stream",
     "text": [
      "                                                                                \r"
     ]
    },
    {
     "name": "stdout",
     "output_type": "stream",
     "text": [
      "Model accuracy: 67.192%\n",
      "Mean Average Error: 0.365\n",
      "Model F-1: 67.017%\n",
      "True Positive Rate by Label (rating 1): 55.135%\n",
      "True Positive Rate by Label (rating 2): 62.895%\n",
      "True Positive Rate by Label (rating 3): 74.726%\n",
      "=================================================\n",
      "word count = 300\n"
     ]
    },
    {
     "name": "stderr",
     "output_type": "stream",
     "text": [
      "                                                                                \r"
     ]
    },
    {
     "name": "stdout",
     "output_type": "stream",
     "text": [
      "Model accuracy: 68.500%\n",
      "Mean Average Error: 0.348\n",
      "Model F-1: 68.331%\n",
      "True Positive Rate by Label (rating 1): 55.978%\n",
      "True Positive Rate by Label (rating 2): 64.408%\n",
      "True Positive Rate by Label (rating 3): 76.014%\n",
      "=================================================\n",
      "word count = 200\n"
     ]
    },
    {
     "name": "stderr",
     "output_type": "stream",
     "text": [
      "                                                                                \r"
     ]
    },
    {
     "name": "stdout",
     "output_type": "stream",
     "text": [
      "Model accuracy: 69.346%\n",
      "Mean Average Error: 0.325\n",
      "Model F-1: 69.036%\n",
      "True Positive Rate by Label (rating 1): 63.202%\n",
      "True Positive Rate by Label (rating 2): 59.542%\n",
      "True Positive Rate by Label (rating 3): 79.766%\n",
      "=================================================\n",
      "word count = 100\n"
     ]
    },
    {
     "name": "stderr",
     "output_type": "stream",
     "text": [
      "                                                                                \r"
     ]
    },
    {
     "name": "stdout",
     "output_type": "stream",
     "text": [
      "Model accuracy: 70.115%\n",
      "Mean Average Error: 0.320\n",
      "Model F-1: 70.017%\n",
      "True Positive Rate by Label (rating 1): 61.697%\n",
      "True Positive Rate by Label (rating 2): 65.322%\n",
      "True Positive Rate by Label (rating 3): 77.179%\n",
      "=================================================\n",
      "word count = 500\n"
     ]
    },
    {
     "name": "stderr",
     "output_type": "stream",
     "text": [
      "                                                                                \r"
     ]
    },
    {
     "name": "stdout",
     "output_type": "stream",
     "text": [
      "Model accuracy: 66.885%\n",
      "Mean Average Error: 0.362\n",
      "Model F-1: 66.669%\n",
      "True Positive Rate by Label (rating 1): 54.354%\n",
      "True Positive Rate by Label (rating 2): 61.968%\n",
      "True Positive Rate by Label (rating 3): 75.430%\n",
      "=================================================\n",
      "word count = 400\n"
     ]
    },
    {
     "name": "stderr",
     "output_type": "stream",
     "text": [
      "                                                                                \r"
     ]
    },
    {
     "name": "stdout",
     "output_type": "stream",
     "text": [
      "Model accuracy: 67.538%\n",
      "Mean Average Error: 0.358\n",
      "Model F-1: 67.416%\n",
      "True Positive Rate by Label (rating 1): 53.209%\n",
      "True Positive Rate by Label (rating 2): 64.436%\n",
      "True Positive Rate by Label (rating 3): 74.449%\n",
      "=================================================\n",
      "word count = 300\n"
     ]
    },
    {
     "name": "stderr",
     "output_type": "stream",
     "text": [
      "                                                                                \r"
     ]
    },
    {
     "name": "stdout",
     "output_type": "stream",
     "text": [
      "Model accuracy: 69.308%\n",
      "Mean Average Error: 0.337\n",
      "Model F-1: 69.147%\n",
      "True Positive Rate by Label (rating 1): 60.053%\n",
      "True Positive Rate by Label (rating 2): 63.733%\n",
      "True Positive Rate by Label (rating 3): 77.104%\n",
      "=================================================\n",
      "word count = 200\n"
     ]
    },
    {
     "name": "stderr",
     "output_type": "stream",
     "text": [
      "                                                                                \r"
     ]
    },
    {
     "name": "stdout",
     "output_type": "stream",
     "text": [
      "Model accuracy: 69.462%\n",
      "Mean Average Error: 0.333\n",
      "Model F-1: 69.358%\n",
      "True Positive Rate by Label (rating 1): 63.198%\n",
      "True Positive Rate by Label (rating 2): 63.037%\n",
      "True Positive Rate by Label (rating 3): 76.846%\n",
      "=================================================\n",
      "word count = 100\n"
     ]
    },
    {
     "name": "stderr",
     "output_type": "stream",
     "text": [
      "                                                                                \r"
     ]
    },
    {
     "name": "stdout",
     "output_type": "stream",
     "text": [
      "Model accuracy: 68.538%\n",
      "Mean Average Error: 0.335\n",
      "Model F-1: 68.546%\n",
      "True Positive Rate by Label (rating 1): 59.654%\n",
      "True Positive Rate by Label (rating 2): 67.590%\n",
      "True Positive Rate by Label (rating 3): 72.051%\n",
      "=================================================\n",
      "word count = 500\n"
     ]
    },
    {
     "name": "stderr",
     "output_type": "stream",
     "text": [
      "                                                                                \r"
     ]
    },
    {
     "name": "stdout",
     "output_type": "stream",
     "text": [
      "Model accuracy: 67.692%\n",
      "Mean Average Error: 0.356\n",
      "Model F-1: 67.550%\n",
      "True Positive Rate by Label (rating 1): 52.394%\n",
      "True Positive Rate by Label (rating 2): 65.179%\n",
      "True Positive Rate by Label (rating 3): 74.507%\n",
      "=================================================\n",
      "word count = 400\n",
      "Model accuracy: 67.077%\n",
      "Mean Average Error: 0.363\n",
      "Model F-1: 66.783%\n",
      "True Positive Rate by Label (rating 1): 56.728%\n",
      "True Positive Rate by Label (rating 2): 59.560%\n",
      "True Positive Rate by Label (rating 3): 77.106%\n",
      "=================================================\n",
      "word count = 300\n"
     ]
    },
    {
     "name": "stderr",
     "output_type": "stream",
     "text": [
      "                                                                                \r"
     ]
    },
    {
     "name": "stdout",
     "output_type": "stream",
     "text": [
      "Model accuracy: 68.769%\n",
      "Mean Average Error: 0.343\n",
      "Model F-1: 68.656%\n",
      "True Positive Rate by Label (rating 1): 62.778%\n",
      "True Positive Rate by Label (rating 2): 62.463%\n",
      "True Positive Rate by Label (rating 3): 75.755%\n",
      "=================================================\n",
      "word count = 200\n"
     ]
    },
    {
     "name": "stderr",
     "output_type": "stream",
     "text": [
      "                                                                                \r"
     ]
    },
    {
     "name": "stdout",
     "output_type": "stream",
     "text": [
      "Model accuracy: 71.385%\n",
      "Mean Average Error: 0.307\n",
      "Model F-1: 71.176%\n",
      "True Positive Rate by Label (rating 1): 65.591%\n",
      "True Positive Rate by Label (rating 2): 62.988%\n",
      "True Positive Rate by Label (rating 3): 80.316%\n",
      "=================================================\n",
      "word count = 100\n"
     ]
    },
    {
     "name": "stderr",
     "output_type": "stream",
     "text": [
      "                                                                                \r"
     ]
    },
    {
     "name": "stdout",
     "output_type": "stream",
     "text": [
      "Model accuracy: 68.462%\n",
      "Mean Average Error: 0.333\n",
      "Model F-1: 68.366%\n",
      "True Positive Rate by Label (rating 1): 56.461%\n",
      "True Positive Rate by Label (rating 2): 63.883%\n",
      "True Positive Rate by Label (rating 3): 75.865%\n",
      "=================================================\n",
      "word count = 500\n",
      "Model accuracy: 68.269%\n",
      "Mean Average Error: 0.349\n",
      "Model F-1: 68.003%\n",
      "True Positive Rate by Label (rating 1): 53.351%\n",
      "True Positive Rate by Label (rating 2): 62.660%\n",
      "True Positive Rate by Label (rating 3): 77.558%\n",
      "=================================================\n",
      "word count = 400\n"
     ]
    },
    {
     "name": "stderr",
     "output_type": "stream",
     "text": [
      "                                                                                \r"
     ]
    },
    {
     "name": "stdout",
     "output_type": "stream",
     "text": [
      "Model accuracy: 68.538%\n",
      "Mean Average Error: 0.345\n",
      "Model F-1: 68.453%\n",
      "True Positive Rate by Label (rating 1): 57.064%\n",
      "True Positive Rate by Label (rating 2): 64.931%\n",
      "True Positive Rate by Label (rating 3): 74.939%\n",
      "=================================================\n",
      "word count = 300\n"
     ]
    },
    {
     "name": "stderr",
     "output_type": "stream",
     "text": [
      "                                                                                \r"
     ]
    },
    {
     "name": "stdout",
     "output_type": "stream",
     "text": [
      "Model accuracy: 68.346%\n",
      "Mean Average Error: 0.347\n",
      "Model F-1: 68.219%\n",
      "True Positive Rate by Label (rating 1): 56.168%\n",
      "True Positive Rate by Label (rating 2): 66.110%\n",
      "True Positive Rate by Label (rating 3): 74.518%\n",
      "=================================================\n",
      "word count = 200\n"
     ]
    },
    {
     "name": "stderr",
     "output_type": "stream",
     "text": [
      "                                                                                \r"
     ]
    },
    {
     "name": "stdout",
     "output_type": "stream",
     "text": [
      "Model accuracy: 69.538%\n",
      "Mean Average Error: 0.331\n",
      "Model F-1: 69.387%\n",
      "True Positive Rate by Label (rating 1): 59.892%\n",
      "True Positive Rate by Label (rating 2): 63.584%\n",
      "True Positive Rate by Label (rating 3): 77.703%\n",
      "=================================================\n",
      "word count = 100\n"
     ]
    },
    {
     "name": "stderr",
     "output_type": "stream",
     "text": [
      "                                                                                \r"
     ]
    },
    {
     "name": "stdout",
     "output_type": "stream",
     "text": [
      "Model accuracy: 69.115%\n",
      "Mean Average Error: 0.331\n",
      "Model F-1: 68.935%\n",
      "True Positive Rate by Label (rating 1): 62.016%\n",
      "True Positive Rate by Label (rating 2): 62.190%\n",
      "True Positive Rate by Label (rating 3): 77.730%\n",
      "=================================================\n",
      "word count = 500\n",
      "Model accuracy: 68.115%\n",
      "Mean Average Error: 0.354\n",
      "Model F-1: 67.925%\n",
      "True Positive Rate by Label (rating 1): 57.702%\n",
      "True Positive Rate by Label (rating 2): 62.181%\n",
      "True Positive Rate by Label (rating 3): 76.480%\n",
      "=================================================\n",
      "word count = 400\n"
     ]
    },
    {
     "name": "stderr",
     "output_type": "stream",
     "text": [
      "                                                                                \r"
     ]
    },
    {
     "name": "stdout",
     "output_type": "stream",
     "text": [
      "Model accuracy: 68.192%\n",
      "Mean Average Error: 0.350\n",
      "Model F-1: 68.073%\n",
      "True Positive Rate by Label (rating 1): 57.743%\n",
      "True Positive Rate by Label (rating 2): 63.985%\n",
      "True Positive Rate by Label (rating 3): 75.319%\n",
      "=================================================\n",
      "word count = 300\n"
     ]
    },
    {
     "name": "stderr",
     "output_type": "stream",
     "text": [
      "                                                                                \r"
     ]
    },
    {
     "name": "stdout",
     "output_type": "stream",
     "text": [
      "Model accuracy: 68.231%\n",
      "Mean Average Error: 0.351\n",
      "Model F-1: 67.970%\n",
      "True Positive Rate by Label (rating 1): 59.459%\n",
      "True Positive Rate by Label (rating 2): 60.291%\n",
      "True Positive Rate by Label (rating 3): 77.750%\n",
      "=================================================\n",
      "word count = 200\n"
     ]
    },
    {
     "name": "stderr",
     "output_type": "stream",
     "text": [
      "                                                                                \r"
     ]
    },
    {
     "name": "stdout",
     "output_type": "stream",
     "text": [
      "Model accuracy: 69.500%\n",
      "Mean Average Error: 0.328\n",
      "Model F-1: 69.312%\n",
      "True Positive Rate by Label (rating 1): 60.800%\n",
      "True Positive Rate by Label (rating 2): 62.788%\n",
      "True Positive Rate by Label (rating 3): 78.143%\n",
      "=================================================\n",
      "word count = 100\n"
     ]
    },
    {
     "name": "stderr",
     "output_type": "stream",
     "text": [
      "                                                                                \r"
     ]
    },
    {
     "name": "stdout",
     "output_type": "stream",
     "text": [
      "Model accuracy: 68.577%\n",
      "Mean Average Error: 0.335\n",
      "Model F-1: 68.454%\n",
      "True Positive Rate by Label (rating 1): 65.147%\n",
      "True Positive Rate by Label (rating 2): 61.281%\n",
      "True Positive Rate by Label (rating 3): 76.122%\n",
      "=================================================\n",
      "word count = 500\n"
     ]
    },
    {
     "name": "stderr",
     "output_type": "stream",
     "text": [
      "                                                                                \r"
     ]
    },
    {
     "name": "stdout",
     "output_type": "stream",
     "text": [
      "Model accuracy: 68.346%\n",
      "Mean Average Error: 0.349\n",
      "Model F-1: 68.058%\n",
      "True Positive Rate by Label (rating 1): 54.155%\n",
      "True Positive Rate by Label (rating 2): 62.797%\n",
      "True Positive Rate by Label (rating 3): 77.806%\n",
      "=================================================\n",
      "word count = 400\n"
     ]
    },
    {
     "name": "stderr",
     "output_type": "stream",
     "text": [
      "                                                                                \r"
     ]
    },
    {
     "name": "stdout",
     "output_type": "stream",
     "text": [
      "Model accuracy: 67.731%\n",
      "Mean Average Error: 0.355\n",
      "Model F-1: 67.603%\n",
      "True Positive Rate by Label (rating 1): 61.918%\n",
      "True Positive Rate by Label (rating 2): 62.243%\n",
      "True Positive Rate by Label (rating 3): 74.592%\n",
      "=================================================\n",
      "word count = 300\n"
     ]
    },
    {
     "name": "stderr",
     "output_type": "stream",
     "text": [
      "                                                                                \r"
     ]
    },
    {
     "name": "stdout",
     "output_type": "stream",
     "text": [
      "Model accuracy: 68.577%\n",
      "Mean Average Error: 0.339\n",
      "Model F-1: 68.380%\n",
      "True Positive Rate by Label (rating 1): 63.492%\n",
      "True Positive Rate by Label (rating 2): 60.445%\n",
      "True Positive Rate by Label (rating 3): 77.273%\n",
      "=================================================\n",
      "word count = 200\n"
     ]
    },
    {
     "name": "stderr",
     "output_type": "stream",
     "text": [
      "                                                                                \r"
     ]
    },
    {
     "name": "stdout",
     "output_type": "stream",
     "text": [
      "Model accuracy: 70.308%\n",
      "Mean Average Error: 0.324\n",
      "Model F-1: 70.099%\n",
      "True Positive Rate by Label (rating 1): 60.870%\n",
      "True Positive Rate by Label (rating 2): 63.619%\n",
      "True Positive Rate by Label (rating 3): 79.044%\n",
      "=================================================\n",
      "word count = 100\n"
     ]
    },
    {
     "name": "stderr",
     "output_type": "stream",
     "text": [
      "                                                                                \r"
     ]
    },
    {
     "name": "stdout",
     "output_type": "stream",
     "text": [
      "Model accuracy: 70.462%\n",
      "Mean Average Error: 0.310\n",
      "Model F-1: 70.371%\n",
      "True Positive Rate by Label (rating 1): 62.117%\n",
      "True Positive Rate by Label (rating 2): 65.213%\n",
      "True Positive Rate by Label (rating 3): 77.656%\n",
      "=================================================\n",
      "word count = 500\n"
     ]
    },
    {
     "name": "stderr",
     "output_type": "stream",
     "text": [
      "                                                                                \r"
     ]
    },
    {
     "name": "stdout",
     "output_type": "stream",
     "text": [
      "Model accuracy: 68.808%\n",
      "Mean Average Error: 0.342\n",
      "Model F-1: 68.658%\n",
      "True Positive Rate by Label (rating 1): 60.322%\n",
      "True Positive Rate by Label (rating 2): 63.173%\n",
      "True Positive Rate by Label (rating 3): 76.411%\n",
      "=================================================\n",
      "word count = 400\n"
     ]
    },
    {
     "name": "stderr",
     "output_type": "stream",
     "text": [
      "                                                                                \r"
     ]
    },
    {
     "name": "stdout",
     "output_type": "stream",
     "text": [
      "Model accuracy: 68.269%\n",
      "Mean Average Error: 0.349\n",
      "Model F-1: 68.166%\n",
      "True Positive Rate by Label (rating 1): 62.500%\n",
      "True Positive Rate by Label (rating 2): 63.037%\n",
      "True Positive Rate by Label (rating 3): 74.850%\n",
      "=================================================\n",
      "word count = 300\n"
     ]
    },
    {
     "name": "stderr",
     "output_type": "stream",
     "text": [
      "                                                                                \r"
     ]
    },
    {
     "name": "stdout",
     "output_type": "stream",
     "text": [
      "Model accuracy: 68.231%\n",
      "Mean Average Error: 0.351\n",
      "Model F-1: 68.097%\n",
      "True Positive Rate by Label (rating 1): 59.079%\n",
      "True Positive Rate by Label (rating 2): 64.019%\n",
      "True Positive Rate by Label (rating 3): 75.022%\n",
      "=================================================\n",
      "word count = 200\n"
     ]
    },
    {
     "name": "stderr",
     "output_type": "stream",
     "text": [
      "                                                                                \r"
     ]
    },
    {
     "name": "stdout",
     "output_type": "stream",
     "text": [
      "Model accuracy: 70.462%\n",
      "Mean Average Error: 0.315\n",
      "Model F-1: 70.228%\n",
      "True Positive Rate by Label (rating 1): 61.436%\n",
      "True Positive Rate by Label (rating 2): 62.766%\n",
      "True Positive Rate by Label (rating 3): 80.000%\n",
      "=================================================\n",
      "word count = 100\n"
     ]
    },
    {
     "name": "stderr",
     "output_type": "stream",
     "text": [
      "                                                                                \r"
     ]
    },
    {
     "name": "stdout",
     "output_type": "stream",
     "text": [
      "Model accuracy: 70.192%\n",
      "Mean Average Error: 0.320\n",
      "Model F-1: 70.020%\n",
      "True Positive Rate by Label (rating 1): 63.395%\n",
      "True Positive Rate by Label (rating 2): 63.559%\n",
      "True Positive Rate by Label (rating 3): 78.467%\n",
      "=================================================\n"
     ]
    }
   ],
   "source": [
    "# have 10 runs and evaluation of model built with the second regrouped approach\n",
    "import matplotlib.pyplot as plt\n",
    "\n",
    "count_range = [500, 400, 300, 200, 100]\n",
    "regrouped_x_features_size_2 = []\n",
    "\n",
    "\n",
    "regrouped_y_accuracy_by_label_list_2 = []\n",
    "regrouped_y_accuracy_list_2 = []\n",
    "regrouped_y_mae_list_2 = []\n",
    "\n",
    "for i in range(10):\n",
    "    y_accuracy = []\n",
    "    y_mae = []\n",
    "    accuracy_by_label_list = []\n",
    "    for count in count_range:\n",
    "        print(f'word count = {count}')\n",
    "        accuracy, mae, accuracy_by_label, features_size = regrouped_build_model_2(data, count)\n",
    "        if len(regrouped_x_features_size_2) < 5:\n",
    "            regrouped_x_features_size_2.append(features_size)\n",
    "        y_accuracy.append(accuracy)\n",
    "        y_mae.append(mae)\n",
    "        accuracy_by_label_list.append(accuracy_by_label)\n",
    "        print('=================================================')\n",
    "    regrouped_y_accuracy_list_2.append(y_accuracy)\n",
    "    regrouped_y_mae_list_2.append(y_mae)\n",
    "    regrouped_y_accuracy_by_label_list_2.append(accuracy_by_label_list)"
   ]
  },
  {
   "cell_type": "code",
   "execution_count": 50,
   "id": "32e6b6b1",
   "metadata": {},
   "outputs": [
    {
     "data": {
      "image/png": "[encoded data removed]",
      "text/plain": [
       "<Figure size 720x288 with 2 Axes>"
      ]
     },
     "metadata": {
      "needs_background": "light"
     },
     "output_type": "display_data"
    }
   ],
   "source": [
    "# draw and compare the model accuracy and mae of original model and the second regrouped model\n",
    "\n",
    "fig111, (ax111, ax222) = plt.subplots(1,2, figsize=(10, 4))\n",
    "\n",
    "\n",
    "for y_accuracy in regrouped_y_accuracy_list_2:\n",
    "    ax111.plot(regrouped_x_features_size_2, y_accuracy, '-bo')\n",
    "\n",
    "for y_accuracy in y_accuracy_list:\n",
    "    ax111.plot(regrouped_x_features_size_2, y_accuracy, '-ro')\n",
    "    \n",
    "ax111.set_title('Compare Model Accuracy by # of Features')\n",
    "ax111.set(xlabel='# of features', ylabel='model accuracy')\n",
    "\n",
    "for y_mae in regrouped_y_mae_list_2:\n",
    "    ax222.plot(regrouped_x_features_size_2, y_mae, '-bo')\n",
    "\n",
    "for y_mae in y_mae_list:\n",
    "    ax222.plot(regrouped_x_features_size_2, y_mae, '-ro')\n",
    "    \n",
    "ax222.set_title('Compare Mean Absolute Error by # of Features')\n",
    "ax222.set(xlabel='# of features', ylabel='model mae')\n",
    "\n",
    "\n",
    "plt.tight_layout(w_pad=10, h_pad=1.0)\n",
    "fig111.savefig('compare_model_evaluation_2.jpg')"
   ]
  },
  {
   "cell_type": "code",
   "execution_count": 53,
   "id": "a1210364",
   "metadata": {},
   "outputs": [
    {
     "data": {
      "image/png": "[encoded data removed]",
      "text/plain": [
       "<Figure size 720x432 with 1 Axes>"
      ]
     },
     "metadata": {
      "needs_background": "light"
     },
     "output_type": "display_data"
    }
   ],
   "source": [
    "# compare the first regrouped true positive rate by label and the second regrouped true positive rate by label\n",
    "def build_tpr_by_label(y_accuracy_by_label_list):\n",
    "    y_accuracy_by_label_list1 = []\n",
    "    for i in range(len(y_accuracy_by_label_list)):\n",
    "        sub_list = [0] * len(y_accuracy_by_label_list[i][0])\n",
    "        for j in range(len(y_accuracy_by_label_list[i])):\n",
    "\n",
    "            for k in range(len(y_accuracy_by_label_list[i][j])):\n",
    "                sub_list[k] += y_accuracy_by_label_list[i][j][k]\n",
    "        sub_list = [d / 5 for d in sub_list]\n",
    "        y_accuracy_by_label_list1.append(sub_list)\n",
    "    return y_accuracy_by_label_list1\n",
    "\n",
    "fig33, ax33 = plt.subplots(1,1, figsize=(10, 6))\n",
    "for y_label in build_tpr_by_label(regrouped_y_accuracy_by_label_list):\n",
    "    ax33.plot([1,2,3], y_label, '-bo')\n",
    "\n",
    "for y_label in build_tpr_by_label(regrouped_y_accuracy_by_label_list_2):\n",
    "    ax33.plot([1,2,3], y_label, '-ro')\n",
    "    \n",
    "ax33.set_title('Compare True Positive Rate by Label')\n",
    "ax33.set(xlabel='Label', ylabel='True Positive Rate')\n",
    "fig33.savefig('Compare_model_evaluation_by_label.jpg')"
   ]
  },
  {
   "cell_type": "code",
   "execution_count": null,
   "id": "582c8e1d",
   "metadata": {},
   "outputs": [],
   "source": []
  }
 ],
 "metadata": {
  "kernelspec": {
   "display_name": "Python [conda env:bigdata]",
   "language": "python",
   "name": "conda-env-bigdata-py"
  },
  "language_info": {
   "codemirror_mode": {
    "name": "ipython",
    "version": 3
   },
   "file_extension": ".py",
   "mimetype": "text/x-python",
   "name": "python",
   "nbconvert_exporter": "python",
   "pygments_lexer": "ipython3",
   "version": "3.7.10"
  }
 },
 "nbformat": 4,
 "nbformat_minor": 5
}
