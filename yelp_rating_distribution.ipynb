{
 "cells": [
  {
   "cell_type": "code",
   "execution_count": 1,
   "id": "edcd17c7",
   "metadata": {},
   "outputs": [
    {
     "name": "stderr",
     "output_type": "stream",
     "text": [
      "Using Spark's default log4j profile: org/apache/spark/log4j-defaults.properties\n",
      "Setting default log level to \"WARN\".\n",
      "To adjust logging level use sc.setLogLevel(newLevel). For SparkR, use setLogLevel(newLevel).\n",
      "21/12/16 19:46:14 WARN NativeCodeLoader: Unable to load native-hadoop library for your platform... using builtin-java classes where applicable\n"
     ]
    },
    {
     "data": {
      "text/html": [
       "\n",
       "        <div>\n",
       "            <p><b>SparkContext</b></p>\n",
       "\n",
       "            <p><a href=\"http://jupyter-jg6604:4040\">Spark UI</a></p>\n",
       "\n",
       "            <dl>\n",
       "              <dt>Version</dt>\n",
       "                <dd><code>v3.2.0</code></dd>\n",
       "              <dt>Master</dt>\n",
       "                <dd><code>local[*]</code></dd>\n",
       "              <dt>AppName</dt>\n",
       "                <dd><code>final_project_yelp_review_distribution</code></dd>\n",
       "            </dl>\n",
       "        </div>\n",
       "        "
      ],
      "text/plain": [
       "<SparkContext master=local[*] appName=final_project_yelp_review_distribution>"
      ]
     },
     "execution_count": 1,
     "metadata": {},
     "output_type": "execute_result"
    }
   ],
   "source": [
    "# start a Spak session\n",
    "from pyspark.sql import SparkSession\n",
    "spark = SparkSession.builder \\\n",
    "    .master(\"local[*]\") \\\n",
    "    .appName(\"final_project_yelp_review_distribution\") \\\n",
    "    .getOrCreate()\n",
    "\n",
    "# get a spark context from the session, and set verbose logging\n",
    "sc = spark.sparkContext\n",
    "sc.setLogLevel(\"ERROR\")\n",
    "sc"
   ]
  },
  {
   "cell_type": "code",
   "execution_count": 2,
   "id": "128462ce",
   "metadata": {},
   "outputs": [
    {
     "name": "stderr",
     "output_type": "stream",
     "text": [
      "                                                                                \r"
     ]
    },
    {
     "name": "stdout",
     "output_type": "stream",
     "text": [
      "+--------------------+--------------------+--------------------+--------------------+-----------+--------------------+-------+-------------+---------------+--------------------+-----------+------------+-----+-----+\n",
      "|             address|          attributes|         business_id|          categories|       city|               hours|is_open|     latitude|      longitude|                name|postal_code|review_count|stars|state|\n",
      "+--------------------+--------------------+--------------------+--------------------+-----------+--------------------+-------+-------------+---------------+--------------------+-----------+------------+-----+-----+\n",
      "|        921 Pearl St|{null, null, 'bee...|6iYb2HFDywm3zjuRg...|Gastropubs, Food,...|    Boulder|{11:0-23:0, 11:0-...|      1|   40.0175444|   -105.2833481| Oskar Blues Taproom|      80302|          86|  4.0|   CO|\n",
      "| 7000 NE Airport Way|{null, null, u'be...|tCbdrRPZA0oiIYSmH...|Salad, Soup, Sand...|   Portland|{5:0-18:0, 5:0-18...|      1|45.5889058992|-122.5933307507|Flying Elephants ...|      97218|         126|  4.0|   OR|\n",
      "|  4720 Hawthorne Ave|{null, null, null...|bvN78flM8NLprQ1a1...|Antiques, Fashion...|   Portland|{11:0-18:0, null,...|      1|45.5119069956|-122.6136928797|      The Reclaimory|      97214|          13|  4.5|   OR|\n",
      "|  2566 Enterprise Rd|{null, null, null...|oaepsyvc0J17qwi8c...|Beauty & Spas, Ha...|Orange City|                null|      1|   28.9144823|    -81.2959787|         Great Clips|      32763|           8|  3.0|   FL|\n",
      "| 1046 Memorial Dr SE|{null, null, null...|PE9uqAjdw0E4-8mjG...|Gyms, Active Life...|    Atlanta|{16:0-19:0, 16:0-...|      1|   33.7470274|    -84.3534244|   Crossfit Terminus|      30316|          14|  4.0|   GA|\n",
      "|        3755 Main St|{null, null, u'no...|D4JtQNTI4X3Kcbzac...|   Restaurants, Thai|  Vancouver|{17:0-21:0, 17:0-...|      1|   49.2513423|    -123.101333| Bob Likes Thai Food|        V5V|         169|  3.5|   BC|\n",
      "|   2511 Edgewater Dr|{True, null, null...|t35jsh9YnMtttm69U...|Dentists, Health ...|    Orlando|{8:0-17:30, 0:0-0...|      1|    28.573998|    -81.3892841| Escott Orthodontics|      32804|           7|  4.5|   FL|\n",
      "|       740 S High St|                null|jFYIsSb7r1QeESVUn...|Breakfast & Brunc...|   Columbus|{null, null, 8:0-...|      1| 39.947006523|     -82.997471|     Boxwood Biscuit|      43206|          11|  4.5|   OH|\n",
      "|7801 N Lamar Blvd...|{null, null, null...|N3_Gs3DnX4k9SgpwJ...|Shopping, Jewelry...|     Austin|{12:15-17:0, 12:1...|      1|    30.346169|     -97.711458|Lane Wells Jewelr...|      78752|          30|  5.0|   TX|\n",
      "|615 W Slaughter L...|{null, null, null...|tXvdYGvlEceDljN8g...|Barbers, Beauty &...|     Austin|{9:0-19:0, 9:0-17...|      0|   30.1727062|    -97.7999199|Capital City Barb...|      78748|           5|  4.0|   TX|\n",
      "+--------------------+--------------------+--------------------+--------------------+-----------+--------------------+-------+-------------+---------------+--------------------+-----------+------------+-----+-----+\n",
      "only showing top 10 rows\n",
      "\n",
      "root\n",
      " |-- address: string (nullable = true)\n",
      " |-- attributes: struct (nullable = true)\n",
      " |    |-- AcceptsInsurance: string (nullable = true)\n",
      " |    |-- AgesAllowed: string (nullable = true)\n",
      " |    |-- Alcohol: string (nullable = true)\n",
      " |    |-- Ambience: string (nullable = true)\n",
      " |    |-- BYOB: string (nullable = true)\n",
      " |    |-- BYOBCorkage: string (nullable = true)\n",
      " |    |-- BestNights: string (nullable = true)\n",
      " |    |-- BikeParking: string (nullable = true)\n",
      " |    |-- BusinessAcceptsBitcoin: string (nullable = true)\n",
      " |    |-- BusinessAcceptsCreditCards: string (nullable = true)\n",
      " |    |-- BusinessParking: string (nullable = true)\n",
      " |    |-- ByAppointmentOnly: string (nullable = true)\n",
      " |    |-- Caters: string (nullable = true)\n",
      " |    |-- CoatCheck: string (nullable = true)\n",
      " |    |-- Corkage: string (nullable = true)\n",
      " |    |-- DietaryRestrictions: string (nullable = true)\n",
      " |    |-- DogsAllowed: string (nullable = true)\n",
      " |    |-- DriveThru: string (nullable = true)\n",
      " |    |-- GoodForDancing: string (nullable = true)\n",
      " |    |-- GoodForKids: string (nullable = true)\n",
      " |    |-- GoodForMeal: string (nullable = true)\n",
      " |    |-- HairSpecializesIn: string (nullable = true)\n",
      " |    |-- HappyHour: string (nullable = true)\n",
      " |    |-- HasTV: string (nullable = true)\n",
      " |    |-- Music: string (nullable = true)\n",
      " |    |-- NoiseLevel: string (nullable = true)\n",
      " |    |-- Open24Hours: string (nullable = true)\n",
      " |    |-- OutdoorSeating: string (nullable = true)\n",
      " |    |-- RestaurantsAttire: string (nullable = true)\n",
      " |    |-- RestaurantsCounterService: string (nullable = true)\n",
      " |    |-- RestaurantsDelivery: string (nullable = true)\n",
      " |    |-- RestaurantsGoodForGroups: string (nullable = true)\n",
      " |    |-- RestaurantsPriceRange2: string (nullable = true)\n",
      " |    |-- RestaurantsReservations: string (nullable = true)\n",
      " |    |-- RestaurantsTableService: string (nullable = true)\n",
      " |    |-- RestaurantsTakeOut: string (nullable = true)\n",
      " |    |-- Smoking: string (nullable = true)\n",
      " |    |-- WheelchairAccessible: string (nullable = true)\n",
      " |    |-- WiFi: string (nullable = true)\n",
      " |-- business_id: string (nullable = true)\n",
      " |-- categories: string (nullable = true)\n",
      " |-- city: string (nullable = true)\n",
      " |-- hours: struct (nullable = true)\n",
      " |    |-- Friday: string (nullable = true)\n",
      " |    |-- Monday: string (nullable = true)\n",
      " |    |-- Saturday: string (nullable = true)\n",
      " |    |-- Sunday: string (nullable = true)\n",
      " |    |-- Thursday: string (nullable = true)\n",
      " |    |-- Tuesday: string (nullable = true)\n",
      " |    |-- Wednesday: string (nullable = true)\n",
      " |-- is_open: long (nullable = true)\n",
      " |-- latitude: double (nullable = true)\n",
      " |-- longitude: double (nullable = true)\n",
      " |-- name: string (nullable = true)\n",
      " |-- postal_code: string (nullable = true)\n",
      " |-- review_count: long (nullable = true)\n",
      " |-- stars: double (nullable = true)\n",
      " |-- state: string (nullable = true)\n",
      "\n"
     ]
    }
   ],
   "source": [
    "df = spark.read\\\n",
    "    .option(\"header\",\"true\")\\\n",
    "    .option(\"inferSchema\",\"true\")\\\n",
    "    .json('shared/student-data/yelp/yelp_academic_dataset_business.json')\n",
    "\n",
    "df.show(10)\n",
    "df.printSchema()"
   ]
  },
  {
   "cell_type": "code",
   "execution_count": 3,
   "id": "38381ab7",
   "metadata": {
    "scrolled": true
   },
   "outputs": [
    {
     "name": "stdout",
     "output_type": "stream",
     "text": [
      "+--------------------+--------------------+--------------------+--------------------+-----------+--------------------+-------+-------------+---------------+--------------------+-----------+------------+-----+-----+\n",
      "|             address|          attributes|         business_id|          categories|       city|               hours|is_open|     latitude|      longitude|                name|postal_code|review_count|stars|state|\n",
      "+--------------------+--------------------+--------------------+--------------------+-----------+--------------------+-------+-------------+---------------+--------------------+-----------+------------+-----+-----+\n",
      "|        921 Pearl St|{null, null, 'bee...|6iYb2HFDywm3zjuRg...|Gastropubs, Food,...|    Boulder|{11:0-23:0, 11:0-...|      1|   40.0175444|   -105.2833481| Oskar Blues Taproom|      80302|          86|  4.0|   CO|\n",
      "| 7000 NE Airport Way|{null, null, u'be...|tCbdrRPZA0oiIYSmH...|Salad, Soup, Sand...|   Portland|{5:0-18:0, 5:0-18...|      1|45.5889058992|-122.5933307507|Flying Elephants ...|      97218|         126|  4.0|   OR|\n",
      "|        3755 Main St|{null, null, u'no...|D4JtQNTI4X3Kcbzac...|   Restaurants, Thai|  Vancouver|{17:0-21:0, 17:0-...|      1|   49.2513423|    -123.101333| Bob Likes Thai Food|        V5V|         169|  3.5|   BC|\n",
      "|       740 S High St|                null|jFYIsSb7r1QeESVUn...|Breakfast & Brunc...|   Columbus|{null, null, 8:0-...|      1| 39.947006523|     -82.997471|     Boxwood Biscuit|      43206|          11|  4.5|   OH|\n",
      "|       474 Lowell St|{null, null, u'no...|HPA_qyMEddpAEtFof...|Food, Pizza, Rest...|    Peabody|{11:0-22:0, 11:0-...|      1|    42.541155|     -70.973438| Mr G's Pizza & Subs|      01960|          39|  4.0|   MA|\n",
      "|   247 E Michigan St|{null, null, null...|ufCxltuh56FF4-ZFZ...|Restaurants, Amer...|    Orlando|{11:0-18:0, null,...|      1|   28.5132647|    -81.3747072|      Sister Honey's|      32806|         135|  4.5|   FL|\n",
      "|     1050 Century Dr|{null, null, null...|GfWJ19Js7wX9rwaHQ...|Restaurants, Amer...|    Orlando|{7:0-22:0, 0:0-0:...|      1|   28.3504984|     -81.542819|Everything POP Sh...|      32830|           7|  3.0|   FL|\n",
      "|  350 W Sand Lake Rd|{null, null, 'non...|dmbbf3AqeG61_QHRZ...|Automotive, Ameri...|Pine Castle|                null|      1|   28.4503025|    -81.3805873|            RaceTrac|      32809|           5|  3.5|   FL|\n",
      "|Hyatt Regency Gra...|{null, null, 'ful...|ynTjh_FdhbG5hY69H...|Hotels, American ...|    Orlando|{7:0-22:0, 7:0-22...|      0|   28.3819454|     -81.510327|  Cascade Restaurant|      32836|          18|  3.5|   FL|\n",
      "|340-350 Longwood Ave|{null, null, 'ful...|hcRxdDg7DYryCxCoI...|Restaurants, Shop...|     Boston|{6:30-22:0, 6:30-...|      1|    42.338544|     -71.106842|   Longwood Galleria|      02215|          24|  2.5|   MA|\n",
      "+--------------------+--------------------+--------------------+--------------------+-----------+--------------------+-------+-------------+---------------+--------------------+-----------+------------+-----+-----+\n",
      "only showing top 10 rows\n",
      "\n"
     ]
    }
   ],
   "source": [
    "#filter businesses only are restaurants\n",
    "from pyspark.sql.functions import expr, lit, col\n",
    "df1=df.filter(col(\"categories\").contains(\"Restaurants\"))\n",
    "\n",
    "df1.show(10)"
   ]
  },
  {
   "cell_type": "code",
   "execution_count": 4,
   "id": "b3be915f",
   "metadata": {},
   "outputs": [
    {
     "name": "stderr",
     "output_type": "stream",
     "text": [
      "                                                                                \r"
     ]
    },
    {
     "data": {
      "text/plain": [
       "50763"
      ]
     },
     "execution_count": 4,
     "metadata": {},
     "output_type": "execute_result"
    }
   ],
   "source": [
    "df1.count()"
   ]
  },
  {
   "cell_type": "code",
   "execution_count": null,
   "id": "ee12a40e",
   "metadata": {},
   "outputs": [],
   "source": [
    "#from pyspark.sql.functions import expr, lit, col\n",
    "#df1=df.filter(col(\"categories\").contains(\"Restaurants\")|col(\"categories\").contains(\"Restaurant\"))\n",
    "\n",
    "#df1.show()"
   ]
  },
  {
   "cell_type": "code",
   "execution_count": null,
   "id": "de0f29e3",
   "metadata": {},
   "outputs": [],
   "source": [
    "#df1.count()"
   ]
  },
  {
   "cell_type": "code",
   "execution_count": 5,
   "id": "0b91962b",
   "metadata": {},
   "outputs": [
    {
     "name": "stderr",
     "output_type": "stream",
     "text": [
      "                                                                                \r"
     ]
    },
    {
     "name": "stdout",
     "output_type": "stream",
     "text": [
      "+-----+-----+---------------+------------+\n",
      "|stars|state|           city|review_count|\n",
      "+-----+-----+---------------+------------+\n",
      "|  5.0|   BC|   Bowen Island|           8|\n",
      "|  5.0|   BC|        Burnaby|           7|\n",
      "|  5.0|   BC|        Burnaby|           7|\n",
      "|  5.0|   BC|        Burnaby|           6|\n",
      "|  5.0|   BC|        Burnaby|           5|\n",
      "|  5.0|   BC|      Coquitlam|          11|\n",
      "|  5.0|   BC|      Coquitlam|           6|\n",
      "|  5.0|   BC|          Delta|          11|\n",
      "|  5.0|   BC|          Delta|           5|\n",
      "|  5.0|   BC|New Westminster|           7|\n",
      "|  5.0|   BC|North Vancouver|          20|\n",
      "|  5.0|   BC|North Vancouver|          18|\n",
      "|  5.0|   BC|North Vancouver|          11|\n",
      "|  5.0|   BC|North Vancouver|          10|\n",
      "|  5.0|   BC|North Vancouver|           7|\n",
      "|  5.0|   BC|North Vancouver|           6|\n",
      "|  5.0|   BC|North Vancouver|           5|\n",
      "|  5.0|   BC|North Vancouver|           5|\n",
      "|  5.0|   BC| Port Coquitlam|           5|\n",
      "|  5.0|   BC|     Port Moody|          47|\n",
      "+-----+-----+---------------+------------+\n",
      "only showing top 20 rows\n",
      "\n"
     ]
    }
   ],
   "source": [
    "from pyspark.sql.functions import asc, desc\n",
    "df1.select('stars','state','city','review_count')\\\n",
    "   .sort(desc(\"stars\"),asc(\"state\"),asc('city'),desc(\"review_count\"))\\\n",
    "   .show()"
   ]
  },
  {
   "cell_type": "code",
   "execution_count": 6,
   "id": "462a4b72",
   "metadata": {},
   "outputs": [
    {
     "name": "stderr",
     "output_type": "stream",
     "text": [
      "[Stage 7:=============================>                             (1 + 1) / 2]\r"
     ]
    },
    {
     "name": "stdout",
     "output_type": "stream",
     "text": [
      "+-----+------------+-----+------------+--------------------+\n",
      "|state|        city|stars|review_count|                name|\n",
      "+-----+------------+-----+------------+--------------------+\n",
      "|  ABE|   Vancouver|  4.5|          14| Kitanoya Guu Garlic|\n",
      "|   BC|     BURNABY|  3.5|          59|                IHOP|\n",
      "|   BC|     BURNABY|  2.5|          31|                IHOP|\n",
      "|   BC|Bowen Island|  5.0|           8|    Shika Provisions|\n",
      "|   BC|Bowen Island|  4.5|          26|Cocoa West Chocol...|\n",
      "|   BC|Bowen Island|  4.5|          13|Barcelona Tapas &...|\n",
      "|   BC|Bowen Island|  4.0|          52|  Tuscany Restaurant|\n",
      "|   BC|Bowen Island|  4.0|          40|       The Snug Cafe|\n",
      "|   BC|Bowen Island|  4.0|          30|Artisan Eats Cafe...|\n",
      "|   BC|Bowen Island|  4.0|          24|    Bowen Island Pub|\n",
      "|   BC|Bowen Island|  4.0|          22|     Rustique Bistro|\n",
      "|   BC|Bowen Island|  4.0|          16|    Miksa Restaurant|\n",
      "|   BC|Bowen Island|  4.0|           9|     Branch on Bowen|\n",
      "|   BC|Bowen Island|  4.0|           6|         Sushi to Go|\n",
      "|   BC|Bowen Island|  3.5|          51|Doc Morgan's Pub ...|\n",
      "|   BC|Bowen Island|  3.5|           7|Lime and Moon Pie...|\n",
      "|   BC|Bowen Island|  3.5|           6|            Leftbank|\n",
      "|   BC|     Burnaby|  5.0|           7| Active Body Burnaby|\n",
      "|   BC|     Burnaby|  5.0|           7|Five Loaves Two Fish|\n",
      "|   BC|     Burnaby|  5.0|           6|SOCRATES in the H...|\n",
      "+-----+------------+-----+------------+--------------------+\n",
      "only showing top 20 rows\n",
      "\n"
     ]
    },
    {
     "name": "stderr",
     "output_type": "stream",
     "text": [
      "                                                                                \r"
     ]
    }
   ],
   "source": [
    "#Yelp User can choose a specific location(state,city)\n",
    "#choose the highest stars, then the highest review count\n",
    "#finally find the perfect restaurant name\n",
    "from pyspark.sql.functions import asc, desc\n",
    "df1.select('state','city','stars','review_count','name')\\\n",
    "  .sort(asc(\"state\"),asc('city'),desc('stars'),desc(\"review_count\"))\\\n",
    "  .show()"
   ]
  },
  {
   "cell_type": "code",
   "execution_count": 7,
   "id": "77a5bbc1",
   "metadata": {},
   "outputs": [
    {
     "name": "stderr",
     "output_type": "stream",
     "text": [
      "[Stage 8:=============================>                             (1 + 1) / 2]\r"
     ]
    },
    {
     "name": "stdout",
     "output_type": "stream",
     "text": [
      "+-----+-----+---------------+-----+\n",
      "|stars|state|           city|count|\n",
      "+-----+-----+---------------+-----+\n",
      "|  5.0|   OR|       Portland|  351|\n",
      "|  5.0|   TX|         Austin|  255|\n",
      "|  5.0|   FL|        Orlando|   85|\n",
      "|  5.0|   GA|        Atlanta|   72|\n",
      "|  5.0|   BC|      Vancouver|   66|\n",
      "|  5.0|   OH|       Columbus|   59|\n",
      "|  5.0|   MA|         Boston|   38|\n",
      "|  5.0|   OR|      Beaverton|   21|\n",
      "|  5.0|   WA|      Vancouver|   21|\n",
      "|  5.0|   CO|        Boulder|   17|\n",
      "|  5.0|   MA|      Cambridge|   13|\n",
      "|  5.0|   FL|      Kissimmee|   11|\n",
      "|  5.0|   GA|        Decatur|    9|\n",
      "|  5.0|   FL|        Sanford|    9|\n",
      "|  5.0|   OR|         Tigard|    8|\n",
      "|  5.0|   BC|North Vancouver|    8|\n",
      "|  5.0|   MA|          Salem|    8|\n",
      "|  5.0|   FL|    Winter Park|    8|\n",
      "|  5.0|   MA|     Somerville|    7|\n",
      "|  5.0|   FL|          Cocoa|    7|\n",
      "+-----+-----+---------------+-----+\n",
      "only showing top 20 rows\n",
      "\n"
     ]
    },
    {
     "name": "stderr",
     "output_type": "stream",
     "text": [
      "                                                                                \r"
     ]
    }
   ],
   "source": [
    "# A rating distribution by stars for each state, each city\n",
    "#count means the number of restaurants which has a specific star in that area\n",
    "from pyspark.sql.functions import asc, desc\n",
    "df1.groupBy('stars','state','city').count().sort(desc(\"stars\"),desc('count')).show()"
   ]
  },
  {
   "cell_type": "code",
   "execution_count": 8,
   "id": "a22c2730",
   "metadata": {},
   "outputs": [
    {
     "name": "stderr",
     "output_type": "stream",
     "text": [
      "[Stage 11:>                                                         (0 + 2) / 2]\r"
     ]
    },
    {
     "name": "stdout",
     "output_type": "stream",
     "text": [
      "+-----+-----+-----+\n",
      "|stars|state|count|\n",
      "+-----+-----+-----+\n",
      "|  5.0|   OR|  413|\n",
      "|  5.0|   TX|  279|\n",
      "|  5.0|   MA|  193|\n",
      "|  5.0|   FL|  184|\n",
      "|  5.0|   GA|  108|\n",
      "|  5.0|   BC|  100|\n",
      "|  5.0|   OH|   91|\n",
      "|  5.0|   CO|   23|\n",
      "|  5.0|   WA|   21|\n",
      "|  4.5|   OR| 1581|\n",
      "|  4.5|   FL| 1242|\n",
      "|  4.5|   MA| 1157|\n",
      "|  4.5|   TX| 1016|\n",
      "|  4.5|   BC|  681|\n",
      "|  4.5|   GA|  610|\n",
      "|  4.5|   OH|  575|\n",
      "|  4.5|   CO|  118|\n",
      "|  4.5|   WA|  109|\n",
      "|  4.5|  ABE|    1|\n",
      "|  4.0|   MA| 2706|\n",
      "+-----+-----+-----+\n",
      "only showing top 20 rows\n",
      "\n"
     ]
    },
    {
     "name": "stderr",
     "output_type": "stream",
     "text": [
      "                                                                                \r"
     ]
    }
   ],
   "source": [
    "# A rating distribution by stars for each state, I'll do a data visualization of this distribution by states by stars\n",
    "#the data visualization is via d3.js, see code details from the link below\n",
    "#https://observablehq.com/d/b2caae081096ca21?ui=classic\n",
    "#count means the number of restaurants which has a specific star in that area\n",
    "from pyspark.sql.functions import asc, desc\n",
    "df1.groupBy('stars','state').count().sort(desc(\"stars\"),desc('count')).show()"
   ]
  },
  {
   "cell_type": "code",
   "execution_count": 9,
   "id": "bf2bc959",
   "metadata": {},
   "outputs": [
    {
     "name": "stderr",
     "output_type": "stream",
     "text": [
      "[Stage 14:=============================>                            (1 + 1) / 2]\r"
     ]
    },
    {
     "name": "stdout",
     "output_type": "stream",
     "text": [
      "+-----+---------+-----------+------------------+\n",
      "|state|     city|postal_code|total_review_count|\n",
      "+-----+---------+-----------+------------------+\n",
      "|   TX|   Austin|      78704|            124492|\n",
      "|   FL|  Orlando|      32819|            121451|\n",
      "|   TX|   Austin|      78701|            120005|\n",
      "|   OR| Portland|      97214|            104339|\n",
      "|   MA|   Boston|      02116|             93835|\n",
      "|   OR| Portland|      97209|             74662|\n",
      "|   OR| Portland|      97204|             65349|\n",
      "|   MA|   Boston|      02113|             64217|\n",
      "|   TX|   Austin|      78702|             63891|\n",
      "|   MA|Cambridge|      02138|             58856|\n",
      "|   MA|Cambridge|      02139|             58794|\n",
      "|   OR| Portland|      97205|             57987|\n",
      "|   GA|  Atlanta|      30309|             54481|\n",
      "|   OR| Portland|      97202|             53466|\n",
      "|   GA|  Atlanta|      30308|             51272|\n",
      "|   GA|  Atlanta|      30318|             50933|\n",
      "|   OH| Columbus|      43215|             49479|\n",
      "|   FL|  Orlando|      32803|             49345|\n",
      "|   TX|   Austin|      78758|             48169|\n",
      "|   MA|   Boston|      02111|             46514|\n",
      "+-----+---------+-----------+------------------+\n",
      "only showing top 20 rows\n",
      "\n"
     ]
    },
    {
     "name": "stderr",
     "output_type": "stream",
     "text": [
      "                                                                                \r"
     ]
    }
   ],
   "source": [
    "#Business chooses a high-volume location(specific postal_code) to open a restaurant.\n",
    "#Business can see the higest review count means the specific location for restaurants has a big quantity of customers\n",
    "#It's a good idea to open a new restaurant in that area.\n",
    "from pyspark.sql.functions import asc, desc\n",
    "df1.groupBy('state','city','postal_code').sum('review_count')\\\n",
    "   .withColumnRenamed('sum(review_count)', 'total_review_count')\\\n",
    "   .sort(desc('total_review_count')).show(20)"
   ]
  },
  {
   "cell_type": "code",
   "execution_count": 10,
   "id": "dbd70e68",
   "metadata": {},
   "outputs": [
    {
     "name": "stderr",
     "output_type": "stream",
     "text": [
      "[Stage 17:>                                                         (0 + 2) / 2]\r"
     ]
    },
    {
     "name": "stdout",
     "output_type": "stream",
     "text": [
      "+-----+--------------------------+-----------------------+-------+-------------------+------------------+--------------------+------------------------+-----+----------------------+--------------------+--------------+\n",
      "|stars|BusinessAcceptsCreditCards|RestaurantsReservations|   WiFi|RestaurantsDelivery|RestaurantsTakeOut|     BusinessParking|RestaurantsGoodForGroups|HasTV|RestaurantsPriceRange2|         GoodForMeal|OutdoorSeating|\n",
      "+-----+--------------------------+-----------------------+-------+-------------------+------------------+--------------------+------------------------+-----+----------------------+--------------------+--------------+\n",
      "|  5.0|                      True|                  False|   null|               null|              True|{'garage': False,...|                    True| null|                     2|                null|          null|\n",
      "|  5.0|                      null|                   null|   null|               null|              null|{'garage': False,...|                    null| null|                  null|                null|          null|\n",
      "|  5.0|                      True|                  False|u'free'|              False|              True|{'garage': False,...|                    null|False|                  null|                null|          True|\n",
      "|  5.0|                     False|                  False|   'no'|               True|              True|{'garage': False,...|                    True|False|                     1|{'dessert': False...|          True|\n",
      "|  5.0|                     False|                   True|   null|               True|              True|{'garage': False,...|                    True| null|                     1|                null|          True|\n",
      "|  5.0|                      True|                  False|   null|              False|              True|{'garage': False,...|                    True| True|                     1|                null|          True|\n",
      "|  5.0|                      True|                  False|  u'no'|               True|              True|{'garage': False,...|                    True|False|                     1|{'dessert': False...|          True|\n",
      "|  5.0|                      null|                   null|   null|               null|              null|                null|                    null| null|                  null|                null|          null|\n",
      "|  5.0|                      null|                  False|u'free'|              False|              True|{'garage': False,...|                   False|False|                     2|{'dessert': False...|          True|\n",
      "|  5.0|                      null|                   null|u'free'|               null|              null|{'garage': False,...|                    null| null|                  null|                null|          null|\n",
      "|  5.0|                      True|                   null|   null|               True|              True|{'garage': None, ...|                    null| null|                     2|                null|          True|\n",
      "|  5.0|                      True|                   null|   null|               null|              True|                null|                    null| null|                  null|                null|          null|\n",
      "|  5.0|                      True|                   null|u'free'|               True|              True|{'garage': False,...|                    null| null|                     1|{'dessert': False...|          True|\n",
      "|  5.0|                      null|                   null|   null|               True|              True|                null|                    null| null|                  null|                null|          null|\n",
      "|  5.0|                      True|                  False|   null|               True|              True|{'garage': False,...|                    True|False|                     2|{'dessert': False...|          True|\n",
      "|  5.0|                      True|                  False|  u'no'|              False|              True|{'garage': False,...|                    null|False|                  null|                null|          True|\n",
      "|  5.0|                      True|                  False|  u'no'|              False|              True|{'garage': False,...|                    null|False|                  null|                null|          True|\n",
      "|  5.0|                      null|                   null|   null|               True|              True|                null|                    null| null|                  null|                null|          True|\n",
      "|  5.0|                      True|                  False|u'free'|               True|              True|                None|                    True|False|                     2|{'dessert': False...|          True|\n",
      "|  5.0|                      null|                  False|  u'no'|              False|              True|{'garage': False,...|                    True|False|                     2|{'dessert': False...|          True|\n",
      "+-----+--------------------------+-----------------------+-------+-------------------+------------------+--------------------+------------------------+-----+----------------------+--------------------+--------------+\n",
      "only showing top 20 rows\n",
      "\n"
     ]
    },
    {
     "name": "stderr",
     "output_type": "stream",
     "text": [
      "                                                                                \r"
     ]
    }
   ],
   "source": [
    "# sort by stars, find each restuarant's attributes characteristics\n",
    "from pyspark.sql.functions import asc, desc\n",
    "df1.select('stars','attributes.BusinessAcceptsCreditCards','attributes.RestaurantsReservations',\\\n",
    "           'attributes.WiFi','attributes.RestaurantsDelivery','attributes.RestaurantsTakeOut',\\\n",
    "          'attributes.BusinessParking','attributes.RestaurantsGoodForGroups',\\\n",
    "          'attributes.HasTV','attributes.RestaurantsPriceRange2',\\\n",
    "          'attributes.GoodForMeal','attributes.OutdoorSeating').sort(desc('stars')).show(20)"
   ]
  },
  {
   "cell_type": "code",
   "execution_count": 11,
   "id": "882d22d8",
   "metadata": {},
   "outputs": [
    {
     "name": "stderr",
     "output_type": "stream",
     "text": [
      "[Stage 18:>                                                         (0 + 2) / 2]\r"
     ]
    },
    {
     "name": "stdout",
     "output_type": "stream",
     "text": [
      "+-----+--------------------------+-----+\n",
      "|stars|BusinessAcceptsCreditCards|count|\n",
      "+-----+--------------------------+-----+\n",
      "|  5.0|                      True| 1000|\n",
      "|  5.0|                      null|  352|\n",
      "|  5.0|                     False|   60|\n",
      "|  4.5|                      True| 5621|\n",
      "|  4.5|                      null| 1181|\n",
      "+-----+--------------------------+-----+\n",
      "only showing top 5 rows\n",
      "\n"
     ]
    },
    {
     "name": "stderr",
     "output_type": "stream",
     "text": [
      "                                                                                \r"
     ]
    }
   ],
   "source": [
    "#Most 5 star restaurants do accept creditCards\n",
    "df1.groupBy('stars','attributes.BusinessAcceptsCreditCards').count().sort(desc('stars'),desc('count')).show(5)"
   ]
  },
  {
   "cell_type": "code",
   "execution_count": 12,
   "id": "62b2a46d",
   "metadata": {},
   "outputs": [
    {
     "name": "stderr",
     "output_type": "stream",
     "text": [
      "[Stage 21:>                                                         (0 + 2) / 2]\r"
     ]
    },
    {
     "name": "stdout",
     "output_type": "stream",
     "text": [
      "+-----+-----------------------+-----+\n",
      "|stars|RestaurantsReservations|count|\n",
      "+-----+-----------------------+-----+\n",
      "|  5.0|                  False|  626|\n",
      "|  5.0|                   null|  598|\n",
      "|  5.0|                   True|  186|\n",
      "|  5.0|                   None|    2|\n",
      "|  4.5|                  False| 4069|\n",
      "+-----+-----------------------+-----+\n",
      "only showing top 5 rows\n",
      "\n"
     ]
    },
    {
     "name": "stderr",
     "output_type": "stream",
     "text": [
      "                                                                                \r"
     ]
    }
   ],
   "source": [
    "#most 5 star restaurants don't need reservations\n",
    "df1.groupBy('stars','attributes.RestaurantsReservations').count().sort(desc('stars'),desc('count')).show(5)"
   ]
  },
  {
   "cell_type": "code",
   "execution_count": 13,
   "id": "c813585b",
   "metadata": {},
   "outputs": [
    {
     "name": "stderr",
     "output_type": "stream",
     "text": [
      "[Stage 24:=============================>                            (1 + 1) / 2]\r"
     ]
    },
    {
     "name": "stdout",
     "output_type": "stream",
     "text": [
      "+-----+-------+-----+\n",
      "|stars|   WiFi|count|\n",
      "+-----+-------+-----+\n",
      "|  5.0|   null|  552|\n",
      "|  5.0|u'free'|  428|\n",
      "|  5.0|  u'no'|  313|\n",
      "|  5.0|   'no'|   79|\n",
      "|  5.0| 'free'|   36|\n",
      "+-----+-------+-----+\n",
      "only showing top 5 rows\n",
      "\n"
     ]
    },
    {
     "name": "stderr",
     "output_type": "stream",
     "text": [
      "                                                                                \r"
     ]
    }
   ],
   "source": [
    "#most 5 star restaurants are WiFi free\n",
    "df1.groupBy('stars','attributes.WiFi').count().sort(desc('stars'),desc('count')).show(5)"
   ]
  },
  {
   "cell_type": "code",
   "execution_count": 14,
   "id": "7c036424",
   "metadata": {},
   "outputs": [
    {
     "name": "stderr",
     "output_type": "stream",
     "text": [
      "[Stage 27:>                                                         (0 + 2) / 2]\r"
     ]
    },
    {
     "name": "stdout",
     "output_type": "stream",
     "text": [
      "+-----+-------------------+-----+\n",
      "|stars|RestaurantsDelivery|count|\n",
      "+-----+-------------------+-----+\n",
      "|  5.0|               True|  553|\n",
      "|  5.0|              False|  469|\n",
      "|  5.0|               null|  318|\n",
      "|  5.0|               None|   72|\n",
      "|  4.5|               True| 3198|\n",
      "+-----+-------------------+-----+\n",
      "only showing top 5 rows\n",
      "\n"
     ]
    },
    {
     "name": "stderr",
     "output_type": "stream",
     "text": [
      "                                                                                \r"
     ]
    }
   ],
   "source": [
    "#most 5 star restaurants provide delivery\n",
    "df1.groupBy('stars','attributes.RestaurantsDelivery').count().sort(desc('stars'),desc('count')).show(5)"
   ]
  },
  {
   "cell_type": "code",
   "execution_count": 15,
   "id": "5ee3e814",
   "metadata": {},
   "outputs": [
    {
     "name": "stderr",
     "output_type": "stream",
     "text": [
      "[Stage 30:=============================>                            (1 + 1) / 2]\r"
     ]
    },
    {
     "name": "stdout",
     "output_type": "stream",
     "text": [
      "+-----+------------------+-----+\n",
      "|stars|RestaurantsTakeOut|count|\n",
      "+-----+------------------+-----+\n",
      "|  5.0|              True| 1063|\n",
      "|  5.0|              null|  229|\n",
      "|  5.0|             False|   86|\n",
      "|  5.0|              None|   34|\n",
      "|  4.5|              True| 6012|\n",
      "+-----+------------------+-----+\n",
      "only showing top 5 rows\n",
      "\n"
     ]
    },
    {
     "name": "stderr",
     "output_type": "stream",
     "text": [
      "                                                                                \r"
     ]
    }
   ],
   "source": [
    "#most 5 star restaurants provide food takeout\n",
    "df1.groupBy('stars','attributes.RestaurantsTakeOut').count().sort(desc('stars'),desc('count')).show(5)"
   ]
  },
  {
   "cell_type": "code",
   "execution_count": 16,
   "id": "ce642501",
   "metadata": {},
   "outputs": [
    {
     "name": "stderr",
     "output_type": "stream",
     "text": [
      "[Stage 33:=============================>                            (1 + 1) / 2]\r"
     ]
    },
    {
     "name": "stdout",
     "output_type": "stream",
     "text": [
      "+-----+------------------------+-----+\n",
      "|stars|RestaurantsGoodForGroups|count|\n",
      "+-----+------------------------+-----+\n",
      "|  5.0|                    null|  861|\n",
      "|  5.0|                    True|  430|\n",
      "|  5.0|                   False|  121|\n",
      "|  4.5|                    True| 4129|\n",
      "|  4.5|                    null| 1923|\n",
      "+-----+------------------------+-----+\n",
      "only showing top 5 rows\n",
      "\n"
     ]
    },
    {
     "name": "stderr",
     "output_type": "stream",
     "text": [
      "                                                                                \r"
     ]
    }
   ],
   "source": [
    "##most 5 star restaurants are good for groups\n",
    "df1.groupBy('stars','attributes.RestaurantsGoodForGroups').count().sort(desc('stars'),desc('count')).show(5)"
   ]
  },
  {
   "cell_type": "code",
   "execution_count": 17,
   "id": "7df97426",
   "metadata": {},
   "outputs": [
    {
     "name": "stderr",
     "output_type": "stream",
     "text": [
      "[Stage 36:=============================>                            (1 + 1) / 2]\r"
     ]
    },
    {
     "name": "stdout",
     "output_type": "stream",
     "text": [
      "+-----+----------------------+-----+\n",
      "|stars|RestaurantsPriceRange2|count|\n",
      "+-----+----------------------+-----+\n",
      "|  5.0|                  null|  715|\n",
      "|  5.0|                     1|  447|\n",
      "|  5.0|                     2|  225|\n",
      "|  5.0|                     3|   17|\n",
      "|  5.0|                     4|    8|\n",
      "+-----+----------------------+-----+\n",
      "only showing top 5 rows\n",
      "\n"
     ]
    },
    {
     "name": "stderr",
     "output_type": "stream",
     "text": [
      "                                                                                \r"
     ]
    }
   ],
   "source": [
    "#most 5 star restaurants price are in range 1\n",
    "df1.groupBy('stars','attributes.RestaurantsPriceRange2').count().sort(desc('stars'),desc('count')).show(5)"
   ]
  },
  {
   "cell_type": "code",
   "execution_count": 18,
   "id": "85409582",
   "metadata": {},
   "outputs": [
    {
     "name": "stderr",
     "output_type": "stream",
     "text": [
      "[Stage 39:>                                                         (0 + 2) / 2]\r"
     ]
    },
    {
     "name": "stdout",
     "output_type": "stream",
     "text": [
      "+-----+-----+-----+\n",
      "|stars|HasTV|count|\n",
      "+-----+-----+-----+\n",
      "|  5.0| null|  568|\n",
      "|  5.0|False|  523|\n",
      "|  5.0| True|  321|\n",
      "|  4.5| True| 3009|\n",
      "|  4.5|False| 2684|\n",
      "+-----+-----+-----+\n",
      "only showing top 5 rows\n",
      "\n"
     ]
    },
    {
     "name": "stderr",
     "output_type": "stream",
     "text": [
      "                                                                                \r"
     ]
    }
   ],
   "source": [
    "#most 5 star restaurants don't have TV\n",
    "df1.groupBy('stars','attributes.HasTV').count().sort(desc('stars'),desc('count')).show(5)"
   ]
  },
  {
   "cell_type": "code",
   "execution_count": 19,
   "id": "94336806",
   "metadata": {},
   "outputs": [
    {
     "name": "stderr",
     "output_type": "stream",
     "text": [
      "[Stage 42:>                                                         (0 + 2) / 2]\r"
     ]
    },
    {
     "name": "stdout",
     "output_type": "stream",
     "text": [
      "+-----+--------------+-----+\n",
      "|stars|OutdoorSeating|count|\n",
      "+-----+--------------+-----+\n",
      "|  5.0|          True|  575|\n",
      "|  5.0|          null|  470|\n",
      "|  5.0|         False|  299|\n",
      "|  5.0|          None|   68|\n",
      "|  4.5|          True| 3148|\n",
      "+-----+--------------+-----+\n",
      "only showing top 5 rows\n",
      "\n"
     ]
    },
    {
     "name": "stderr",
     "output_type": "stream",
     "text": [
      "                                                                                \r"
     ]
    }
   ],
   "source": [
    "#most 5 star restaurants have outdoor seating\n",
    "df1.groupBy('stars','attributes.OutdoorSeating').count().sort(desc('stars'),desc('count')).show(5)"
   ]
  },
  {
   "cell_type": "code",
   "execution_count": 20,
   "id": "b7644899",
   "metadata": {},
   "outputs": [
    {
     "name": "stderr",
     "output_type": "stream",
     "text": [
      "[Stage 45:>                                                         (0 + 2) / 2]\r"
     ]
    },
    {
     "name": "stdout",
     "output_type": "stream",
     "text": [
      "+-----+-----------+-----+\n",
      "|stars|GoodForKids|count|\n",
      "+-----+-----------+-----+\n",
      "|  5.0|       null|  845|\n",
      "|  5.0|       True|  507|\n",
      "|  5.0|      False|   60|\n",
      "|  4.5|       True| 4373|\n",
      "|  4.5|       null| 2026|\n",
      "+-----+-----------+-----+\n",
      "only showing top 5 rows\n",
      "\n"
     ]
    },
    {
     "name": "stderr",
     "output_type": "stream",
     "text": [
      "                                                                                \r"
     ]
    }
   ],
   "source": [
    "#most 5 star restaurants are good for kids\n",
    "df1.groupBy('stars','attributes.GoodForKids').count().sort(desc('stars'),desc('count')).show(5)"
   ]
  },
  {
   "cell_type": "code",
   "execution_count": 21,
   "id": "a5137de7",
   "metadata": {},
   "outputs": [
    {
     "name": "stderr",
     "output_type": "stream",
     "text": [
      "[Stage 48:>                                                         (0 + 2) / 2]\r"
     ]
    },
    {
     "name": "stdout",
     "output_type": "stream",
     "text": [
      "+-----+----------+-----+\n",
      "|stars|NoiseLevel|count|\n",
      "+-----+----------+-----+\n",
      "|  5.0|      null| 1015|\n",
      "|  5.0|u'average'|  191|\n",
      "|  5.0|  u'quiet'|  136|\n",
      "|  5.0| 'average'|   44|\n",
      "|  5.0|   'quiet'|   17|\n",
      "+-----+----------+-----+\n",
      "only showing top 5 rows\n",
      "\n"
     ]
    },
    {
     "name": "stderr",
     "output_type": "stream",
     "text": [
      "                                                                                \r"
     ]
    }
   ],
   "source": [
    "#most 5 star restaurants noiselevel is average\n",
    "df1.groupBy('stars','attributes.NoiseLevel').count().sort(desc('stars'),desc('count')).show(5)"
   ]
  },
  {
   "cell_type": "code",
   "execution_count": 22,
   "id": "8ba78f84",
   "metadata": {},
   "outputs": [
    {
     "name": "stderr",
     "output_type": "stream",
     "text": [
      "[Stage 51:>                                                         (0 + 2) / 2]\r"
     ]
    },
    {
     "name": "stdout",
     "output_type": "stream",
     "text": [
      "+-----+-----------------------+-----+\n",
      "|stars|RestaurantsTableService|count|\n",
      "+-----+-----------------------+-----+\n",
      "|  5.0|                   null|  768|\n",
      "|  5.0|                  False|  466|\n",
      "|  5.0|                   True|  178|\n",
      "|  4.5|                   null| 3320|\n",
      "|  4.5|                  False| 1986|\n",
      "+-----+-----------------------+-----+\n",
      "only showing top 5 rows\n",
      "\n"
     ]
    },
    {
     "name": "stderr",
     "output_type": "stream",
     "text": [
      "                                                                                \r"
     ]
    }
   ],
   "source": [
    "#most 5 star restaurants don't have table service\n",
    "df1.groupBy('stars','attributes.RestaurantsTableService').count().sort(desc('stars'),desc('count')).show(5)\n"
   ]
  },
  {
   "cell_type": "code",
   "execution_count": 23,
   "id": "ed8a8528",
   "metadata": {},
   "outputs": [
    {
     "name": "stderr",
     "output_type": "stream",
     "text": [
      "                                                                                \r"
     ]
    },
    {
     "name": "stdout",
     "output_type": "stream",
     "text": [
      "+-----+----------+-----+\n",
      "|stars|NoiseLevel|count|\n",
      "+-----+----------+-----+\n",
      "|  5.0|      null| 1015|\n",
      "|  5.0|u'average'|  191|\n",
      "|  5.0|  u'quiet'|  136|\n",
      "|  5.0| 'average'|   44|\n",
      "|  5.0|   'quiet'|   17|\n",
      "+-----+----------+-----+\n",
      "only showing top 5 rows\n",
      "\n"
     ]
    }
   ],
   "source": [
    "df1.groupBy('stars','attributes.NoiseLevel').count().sort(desc('stars'),desc('count')).show(5)"
   ]
  },
  {
   "cell_type": "code",
   "execution_count": 24,
   "id": "9491d982",
   "metadata": {},
   "outputs": [
    {
     "name": "stderr",
     "output_type": "stream",
     "text": [
      "[Stage 57:>                                                         (0 + 2) / 2]\r"
     ]
    },
    {
     "name": "stdout",
     "output_type": "stream",
     "text": [
      "+-----+----------------+-----+\n",
      "|stars|         Alcohol|count|\n",
      "+-----+----------------+-----+\n",
      "|  5.0|            null|  597|\n",
      "|  5.0|         u'none'|  494|\n",
      "|  5.0|u'beer_and_wine'|  130|\n",
      "|  5.0|     u'full_bar'|   91|\n",
      "|  5.0|          'none'|   89|\n",
      "+-----+----------------+-----+\n",
      "only showing top 5 rows\n",
      "\n"
     ]
    },
    {
     "name": "stderr",
     "output_type": "stream",
     "text": [
      "                                                                                \r"
     ]
    }
   ],
   "source": [
    "df1.groupBy('stars','attributes.Alcohol').count().sort(desc('stars'),desc('count')).show(5)"
   ]
  },
  {
   "cell_type": "code",
   "execution_count": 25,
   "id": "4ca87964",
   "metadata": {},
   "outputs": [
    {
     "name": "stderr",
     "output_type": "stream",
     "text": [
      "[Stage 60:>                                                         (0 + 2) / 2]\r"
     ]
    },
    {
     "name": "stdout",
     "output_type": "stream",
     "text": [
      "+-----+--------------------+-----+\n",
      "|stars|WheelchairAccessible|count|\n",
      "+-----+--------------------+-----+\n",
      "|  5.0|                null|  723|\n",
      "|  5.0|                True|  602|\n",
      "|  5.0|               False|   87|\n",
      "|  4.5|                null| 4003|\n",
      "|  4.5|                True| 2842|\n",
      "+-----+--------------------+-----+\n",
      "only showing top 5 rows\n",
      "\n"
     ]
    },
    {
     "name": "stderr",
     "output_type": "stream",
     "text": [
      "                                                                                \r"
     ]
    }
   ],
   "source": [
    "df1.groupBy('stars','attributes.WheelchairAccessible').count().sort(desc('stars'),desc('count')).show(5)\n"
   ]
  },
  {
   "cell_type": "code",
   "execution_count": 26,
   "id": "2b01db65",
   "metadata": {},
   "outputs": [
    {
     "name": "stderr",
     "output_type": "stream",
     "text": [
      "[Stage 63:>                                                         (0 + 2) / 2]\r"
     ]
    },
    {
     "name": "stdout",
     "output_type": "stream",
     "text": [
      "+-----+-----------+-----+\n",
      "|stars|DogsAllowed|count|\n",
      "+-----+-----------+-----+\n",
      "|  5.0|       null|  942|\n",
      "|  5.0|       True|  271|\n",
      "|  5.0|      False|  199|\n",
      "|  4.5|       null| 4491|\n",
      "|  4.5|      False| 1718|\n",
      "+-----+-----------+-----+\n",
      "only showing top 5 rows\n",
      "\n"
     ]
    },
    {
     "name": "stderr",
     "output_type": "stream",
     "text": [
      "                                                                                \r"
     ]
    }
   ],
   "source": [
    "df1.groupBy('stars','attributes.DogsAllowed').count().sort(desc('stars'),desc('count')).show(5)"
   ]
  },
  {
   "cell_type": "code",
   "execution_count": 27,
   "id": "a1358b08",
   "metadata": {},
   "outputs": [
    {
     "name": "stderr",
     "output_type": "stream",
     "text": [
      "[Stage 66:=============================>                            (1 + 1) / 2]\r"
     ]
    },
    {
     "name": "stdout",
     "output_type": "stream",
     "text": [
      "+-----+--------------------------+-----------------------+-------+-------------------+------------------+--------------------+------------------------+-----+----------------------+--------------------+--------------+-----+\n",
      "|stars|BusinessAcceptsCreditCards|RestaurantsReservations|   WiFi|RestaurantsDelivery|RestaurantsTakeOut|     BusinessParking|RestaurantsGoodForGroups|HasTV|RestaurantsPriceRange2|         GoodForMeal|OutdoorSeating|count|\n",
      "+-----+--------------------------+-----------------------+-------+-------------------+------------------+--------------------+------------------------+-----+----------------------+--------------------+--------------+-----+\n",
      "|  5.0|                      True|                  False|  u'no'|              False|              True|{'garage': False,...|                    True|False|                     1|{'dessert': False...|          True|    3|\n",
      "|  5.0|                      True|                  False|u'free'|               True|              True|{'garage': False,...|                    True| True|                     1|{'dessert': False...|          True|    3|\n",
      "|  5.0|                      True|                  False|   'no'|               True|              True|{'garage': False,...|                    True|False|                     1|{'dessert': False...|          True|    2|\n",
      "|  5.0|                      True|                  False| 'free'|              False|              True|{'garage': False,...|                    True|False|                     1|{'dessert': False...|         False|    2|\n",
      "|  5.0|                      True|                  False|   'no'|               True|              True|{'garage': False,...|                    True| True|                     1|{'dessert': False...|          True|    2|\n",
      "+-----+--------------------------+-----------------------+-------+-------------------+------------------+--------------------+------------------------+-----+----------------------+--------------------+--------------+-----+\n",
      "only showing top 5 rows\n",
      "\n"
     ]
    },
    {
     "name": "stderr",
     "output_type": "stream",
     "text": [
      "                                                                                \r"
     ]
    }
   ],
   "source": [
    "#common attributes for most 5 star restaurants\n",
    "from pyspark.sql.functions import asc, desc\n",
    "df1.groupBy('stars','attributes.BusinessAcceptsCreditCards','attributes.RestaurantsReservations',\\\n",
    "           'attributes.WiFi','attributes.RestaurantsDelivery','attributes.RestaurantsTakeOut',\\\n",
    "          'attributes.BusinessParking','attributes.RestaurantsGoodForGroups',\\\n",
    "          'attributes.HasTV','attributes.RestaurantsPriceRange2',\\\n",
    "          'attributes.GoodForMeal','attributes.OutdoorSeating').count().sort(desc('stars'),desc('count'))\\\n",
    ".filter((col(\"BusinessAcceptsCreditCards\")!=\"null\") & (col(\"RestaurantsReservations\")!=\"null\")\\\n",
    "       & (col(\"WiFi\")!=\"null\")&(col(\"RestaurantsTakeOut\")!=\"null\")\\\n",
    "       & (col(\"RestaurantsDelivery\")!=\"null\")&(col(\"BusinessParking\")!=\"null\")\\\n",
    "       & (col(\"RestaurantsGoodForGroups\")!=\"null\")&(col(\"HasTV\")!=\"null\")\\\n",
    "       & (col(\"RestaurantsPriceRange2\")!=\"null\")&(col(\"GoodForMeal\")!=\"null\")\\\n",
    "       & (col(\"OutdoorSeating\")!=\"null\")).show(5)"
   ]
  },
  {
   "cell_type": "code",
   "execution_count": null,
   "id": "fb8067e1",
   "metadata": {},
   "outputs": [],
   "source": [
    "#https://observablehq.com/d/756aaa88cd766c30?ui=classic\n",
    "#the link above is for top rated restaurant common characteristics graph visualization"
   ]
  },
  {
   "cell_type": "code",
   "execution_count": 28,
   "id": "54667ed7",
   "metadata": {},
   "outputs": [
    {
     "name": "stderr",
     "output_type": "stream",
     "text": [
      "[Stage 69:>                                                         (0 + 2) / 2]\r"
     ]
    },
    {
     "name": "stdout",
     "output_type": "stream",
     "text": [
      "+-----+------------------+\n",
      "|state|total_review_count|\n",
      "+-----+------------------+\n",
      "|   MA|           1321763|\n",
      "|   OR|            886301|\n",
      "|   TX|            824359|\n",
      "|   GA|            767356|\n",
      "|   FL|            739760|\n",
      "|   BC|            412818|\n",
      "|   OH|            287914|\n",
      "|   CO|             87300|\n",
      "|   WA|             67453|\n",
      "|   KS|                28|\n",
      "|   NH|                17|\n",
      "|  ABE|                14|\n",
      "|   KY|                11|\n",
      "|   WY|                 9|\n",
      "|   VA|                 7|\n",
      "|   MN|                 6|\n",
      "+-----+------------------+\n",
      "\n"
     ]
    },
    {
     "name": "stderr",
     "output_type": "stream",
     "text": [
      "                                                                                \r"
     ]
    }
   ],
   "source": [
    "# We can compare review count(rating count) for each states\n",
    "from pyspark.sql.functions import asc, desc\n",
    "df1.groupBy('state').sum('review_count')\\\n",
    "   .withColumnRenamed('sum(review_count)', 'total_review_count')\\\n",
    "   .sort(desc('total_review_count')).show()"
   ]
  },
  {
   "cell_type": "code",
   "execution_count": 29,
   "id": "bb877451",
   "metadata": {},
   "outputs": [
    {
     "name": "stderr",
     "output_type": "stream",
     "text": [
      "[Stage 72:=============================>                            (1 + 1) / 2]\r"
     ]
    },
    {
     "name": "stdout",
     "output_type": "stream",
     "text": [
      "+-----+--------------------+-----+\n",
      "|stars|          categories|count|\n",
      "+-----+--------------------+-----+\n",
      "|  5.0|Restaurants, Mexican|   10|\n",
      "|  5.0|Mexican, Restaurants|    8|\n",
      "|  5.0|  Restaurants, Pizza|    8|\n",
      "|  5.0|  Cafes, Restaurants|    5|\n",
      "|  5.0|  Pizza, Restaurants|    5|\n",
      "|  5.0| Indian, Restaurants|    5|\n",
      "|  5.0|Restaurants, Food...|    5|\n",
      "|  5.0|Middle Eastern, R...|    4|\n",
      "|  5.0|Restaurants, Sand...|    4|\n",
      "|  5.0|Restaurants, Amer...|    4|\n",
      "|  5.0|         Restaurants|    4|\n",
      "|  5.0|Restaurants, Viet...|    3|\n",
      "|  5.0|Restaurants, Food...|    3|\n",
      "|  5.0|Food, Coffee & Te...|    3|\n",
      "|  5.0|Restaurants, Mexi...|    3|\n",
      "|  5.0|Italian, Restaura...|    3|\n",
      "|  5.0|Food Stands, Rest...|    3|\n",
      "|  5.0|Food, Food Trucks...|    3|\n",
      "|  5.0|Restaurants, Lati...|    3|\n",
      "|  5.0|   Thai, Restaurants|    2|\n",
      "+-----+--------------------+-----+\n",
      "only showing top 20 rows\n",
      "\n"
     ]
    },
    {
     "name": "stderr",
     "output_type": "stream",
     "text": [
      "                                                                                \r"
     ]
    }
   ],
   "source": [
    "#count by categories, we see Mexican, Pizza ,cafe are top 3 popular categories\n",
    "df1.groupBy('stars','categories').count().sort(desc('stars'),desc('count')).show(20)"
   ]
  },
  {
   "cell_type": "code",
   "execution_count": null,
   "id": "b5f29c91",
   "metadata": {},
   "outputs": [],
   "source": []
  }
 ],
 "metadata": {
  "kernelspec": {
   "display_name": "Python [conda env:bigdata]",
   "language": "python",
   "name": "conda-env-bigdata-py"
  },
  "language_info": {
   "codemirror_mode": {
    "name": "ipython",
    "version": 3
   },
   "file_extension": ".py",
   "mimetype": "text/x-python",
   "name": "python",
   "nbconvert_exporter": "python",
   "pygments_lexer": "ipython3",
   "version": "3.7.10"
  }
 },
 "nbformat": 4,
 "nbformat_minor": 5
}
