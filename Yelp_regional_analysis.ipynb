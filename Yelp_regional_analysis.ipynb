{
 "cells": [
  {
   "cell_type": "code",
   "execution_count": 36,
   "id": "2d1eeb25",
   "metadata": {},
   "outputs": [
    {
     "name": "stderr",
     "output_type": "stream",
     "text": [
      "[nltk_data] Downloading package stopwords to /home/jovyan/nltk_data...\n",
      "[nltk_data]   Package stopwords is already up-to-date!\n",
      "[nltk_data] Downloading package punkt to /home/jovyan/nltk_data...\n",
      "[nltk_data]   Package punkt is already up-to-date!\n"
     ]
    }
   ],
   "source": [
    "import pyspark.sql.functions as f\n",
    "import re\n",
    "import pandas as pd\n",
    "import matplotlib.pyplot as plt\n",
    "import numpy as np\n",
    "import nltk\n",
    "nltk.download('stopwords')\n",
    "nltk.download('punkt')\n",
    "\n",
    "\n",
    "import re\n",
    "import string\n",
    "from collections import Counter\n",
    "from nltk import word_tokenize\n",
    "from pyspark.sql import SparkSession\n",
    "from sklearn.feature_extraction.text import CountVectorizer\n",
    "from pyspark.sql.types import StructType,StructField, StringType,IntegerType,BooleanType,DoubleType\n",
    "from pyspark.sql.functions import sum, col, desc, udf, concat, lower\n"
   ]
  },
  {
   "cell_type": "code",
   "execution_count": 2,
   "id": "69b638f9",
   "metadata": {},
   "outputs": [
    {
     "name": "stderr",
     "output_type": "stream",
     "text": [
      "Using Spark's default log4j profile: org/apache/spark/log4j-defaults.properties\n",
      "Setting default log level to \"WARN\".\n",
      "To adjust logging level use sc.setLogLevel(newLevel). For SparkR, use setLogLevel(newLevel).\n",
      "21/12/19 01:43:55 WARN NativeCodeLoader: Unable to load native-hadoop library for your platform... using builtin-java classes where applicable\n"
     ]
    }
   ],
   "source": [
    "spark = SparkSession.builder\\\n",
    "        .master('local[*]')\\\n",
    "        .appName(\"\\Yelp_regional_analysis\")\\\n",
    "        .getOrCreate()"
   ]
  },
  {
   "cell_type": "code",
   "execution_count": 3,
   "id": "ac1a9522",
   "metadata": {},
   "outputs": [
    {
     "data": {
      "text/html": [
       "\n",
       "            <div>\n",
       "                <p><b>SparkSession - in-memory</b></p>\n",
       "                \n",
       "        <div>\n",
       "            <p><b>SparkContext</b></p>\n",
       "\n",
       "            <p><a href=\"http://jupyter-hn958:4040\">Spark UI</a></p>\n",
       "\n",
       "            <dl>\n",
       "              <dt>Version</dt>\n",
       "                <dd><code>v3.2.0</code></dd>\n",
       "              <dt>Master</dt>\n",
       "                <dd><code>local[*]</code></dd>\n",
       "              <dt>AppName</dt>\n",
       "                <dd><code>\\Yelp_regional_analysis</code></dd>\n",
       "            </dl>\n",
       "        </div>\n",
       "        \n",
       "            </div>\n",
       "        "
      ],
      "text/plain": [
       "<pyspark.sql.session.SparkSession at 0x7f79a02e4610>"
      ]
     },
     "execution_count": 3,
     "metadata": {},
     "output_type": "execute_result"
    }
   ],
   "source": [
    "spark"
   ]
  },
  {
   "cell_type": "markdown",
   "id": "df2e3ff5",
   "metadata": {},
   "source": [
    "## **Data Preprocessing**"
   ]
  },
  {
   "cell_type": "code",
   "execution_count": 4,
   "id": "45c22896",
   "metadata": {},
   "outputs": [
    {
     "name": "stderr",
     "output_type": "stream",
     "text": [
      "                                                                                \r"
     ]
    }
   ],
   "source": [
    "df_yelp_review = spark.read.json(\"shared/student-data/yelp/yelp_academic_dataset_review.json\")"
   ]
  },
  {
   "cell_type": "code",
   "execution_count": 5,
   "id": "a8ed5ffc",
   "metadata": {},
   "outputs": [
    {
     "name": "stdout",
     "output_type": "stream",
     "text": [
      "+--------------------+----+-----+---------------+--------------------+------+\n",
      "|         business_id|cool|funny|reviewer_rating|              review|useful|\n",
      "+--------------------+----+-----+---------------+--------------------+------+\n",
      "|buF9druCkbuXLX526...|   1|    1|            4.0|Apparently Prides...|     3|\n",
      "|RA4V8pr014UyUbDvI...|   0|    0|            4.0|This store is pre...|     1|\n",
      "|_sS2LBIGNT5NQb6PD...|   0|    0|            5.0|I called WVM on t...|     0|\n",
      "|0AzLzHfOJgL7ROwhd...|   1|    1|            2.0|I've stayed at ma...|     1|\n",
      "|8zehGz9jnxPqXtOc7...|   0|    0|            4.0|The food is alway...|     0|\n",
      "+--------------------+----+-----+---------------+--------------------+------+\n",
      "only showing top 5 rows\n",
      "\n"
     ]
    }
   ],
   "source": [
    "#Load review data and cut out unused info\n",
    "cols_to_drop = ['date','review_id','user_id']\n",
    "df_yelp_review = df_yelp_review.drop(*cols_to_drop)\\\n",
    "                .withColumnRenamed('stars','reviewer_rating')\\\n",
    "                .withColumnRenamed('text','review')\n",
    "df_yelp_review.show(n = 5)"
   ]
  },
  {
   "cell_type": "code",
   "execution_count": 6,
   "id": "571bde2f",
   "metadata": {},
   "outputs": [
    {
     "name": "stderr",
     "output_type": "stream",
     "text": [
      "21/12/19 01:45:13 WARN package: Truncated the string representation of a plan since it was too large. This behavior can be adjusted by setting 'spark.sql.debug.maxToStringFields'.\n"
     ]
    },
    {
     "name": "stdout",
     "output_type": "stream",
     "text": [
      "+--------------------+--------------------+-----------+--------------------+------------+-----+-----+\n",
      "|         business_id|          categories|       city|                name|review_count|stars|state|\n",
      "+--------------------+--------------------+-----------+--------------------+------------+-----+-----+\n",
      "|6iYb2HFDywm3zjuRg...|Gastropubs, Food,...|    Boulder| Oskar Blues Taproom|          86|  4.0|   CO|\n",
      "|tCbdrRPZA0oiIYSmH...|Salad, Soup, Sand...|   Portland|Flying Elephants ...|         126|  4.0|   OR|\n",
      "|bvN78flM8NLprQ1a1...|Antiques, Fashion...|   Portland|      The Reclaimory|          13|  4.5|   OR|\n",
      "|oaepsyvc0J17qwi8c...|Beauty & Spas, Ha...|Orange City|         Great Clips|           8|  3.0|   FL|\n",
      "|PE9uqAjdw0E4-8mjG...|Gyms, Active Life...|    Atlanta|   Crossfit Terminus|          14|  4.0|   GA|\n",
      "+--------------------+--------------------+-----------+--------------------+------------+-----+-----+\n",
      "only showing top 5 rows\n",
      "\n"
     ]
    },
    {
     "name": "stderr",
     "output_type": "stream",
     "text": [
      "[Stage 4:=============================>                             (1 + 1) / 2]\r"
     ]
    },
    {
     "name": "stdout",
     "output_type": "stream",
     "text": [
      "Total number of business ratings:  160585\n"
     ]
    },
    {
     "name": "stderr",
     "output_type": "stream",
     "text": [
      "                                                                                \r"
     ]
    }
   ],
   "source": [
    "#Load business data and cut out unused info\n",
    "df_yelp_business = spark.read.json(\"shared/student-data/yelp/yelp_academic_dataset_business.json\")\n",
    "cols_to_drop = ['address','hours','is_open','latitude','longitude','postal_code','attributes']\n",
    "df_yelp_business = df_yelp_business.drop(*cols_to_drop)\n",
    "df_yelp_business.show(n=5)\n",
    "print(\"Total number of business ratings: \", df_yelp_business.count())"
   ]
  },
  {
   "cell_type": "code",
   "execution_count": 7,
   "id": "dbcd03ee",
   "metadata": {},
   "outputs": [
    {
     "name": "stdout",
     "output_type": "stream",
     "text": [
      "+--------------------+--------------------+---------+--------------------+------------+-----+-----+\n",
      "|         business_id|          categories|     city|                name|review_count|stars|state|\n",
      "+--------------------+--------------------+---------+--------------------+------------+-----+-----+\n",
      "|6iYb2HFDywm3zjuRg...|Gastropubs, Food,...|  Boulder| Oskar Blues Taproom|          86|  4.0|   CO|\n",
      "|tCbdrRPZA0oiIYSmH...|Salad, Soup, Sand...| Portland|Flying Elephants ...|         126|  4.0|   OR|\n",
      "|D4JtQNTI4X3Kcbzac...|   Restaurants, Thai|Vancouver| Bob Likes Thai Food|         169|  3.5|   BC|\n",
      "|jFYIsSb7r1QeESVUn...|Breakfast & Brunc...| Columbus|     Boxwood Biscuit|          11|  4.5|   OH|\n",
      "|HPA_qyMEddpAEtFof...|Food, Pizza, Rest...|  Peabody| Mr G's Pizza & Subs|          39|  4.0|   MA|\n",
      "+--------------------+--------------------+---------+--------------------+------------+-----+-----+\n",
      "only showing top 5 rows\n",
      "\n"
     ]
    },
    {
     "name": "stderr",
     "output_type": "stream",
     "text": [
      "[Stage 8:>                                                          (0 + 2) / 2]\r"
     ]
    },
    {
     "name": "stdout",
     "output_type": "stream",
     "text": [
      "Total number of restaurants ratings:  50793\n"
     ]
    },
    {
     "name": "stderr",
     "output_type": "stream",
     "text": [
      "                                                                                \r"
     ]
    }
   ],
   "source": [
    "#Filter information, so only resturuants info are showing\n",
    "df_yelp_business = df_yelp_business.filter(df_yelp_business.categories.contains('Restaurant'))\n",
    "df_yelp_business.show(n=5)\n",
    "print(\"Total number of restaurants ratings: \", df_yelp_business.count())"
   ]
  },
  {
   "cell_type": "code",
   "execution_count": 10,
   "id": "847221db",
   "metadata": {},
   "outputs": [
    {
     "name": "stderr",
     "output_type": "stream",
     "text": [
      "[Stage 11:>                                                         (0 + 2) / 2]\r"
     ]
    },
    {
     "name": "stdout",
     "output_type": "stream",
     "text": [
      "+---------+-----+\n",
      "|     city|count|\n",
      "+---------+-----+\n",
      "| Portland| 5737|\n",
      "|Vancouver| 5029|\n",
      "|   Austin| 4965|\n",
      "|  Atlanta| 4180|\n",
      "|  Orlando| 3749|\n",
      "|   Boston| 2846|\n",
      "| Columbus| 2634|\n",
      "| Richmond|  901|\n",
      "|Cambridge|  775|\n",
      "|Kissimmee|  700|\n",
      "+---------+-----+\n",
      "only showing top 10 rows\n",
      "\n"
     ]
    },
    {
     "name": "stderr",
     "output_type": "stream",
     "text": [
      "                                                                                \r"
     ]
    }
   ],
   "source": [
    "#Find the most common locations of the Restaurant rating given in the dataset\n",
    "#This step helps us to determine which city to pick for the regional analysis\n",
    "df_yelp_business.groupBy('city').count().sort(desc('count')).show(n = 10)"
   ]
  },
  {
   "cell_type": "markdown",
   "id": "ecbc6205",
   "metadata": {},
   "source": [
    "### **Atlanta analysis**"
   ]
  },
  {
   "cell_type": "code",
   "execution_count": 55,
   "id": "07968ee7",
   "metadata": {},
   "outputs": [
    {
     "name": "stderr",
     "output_type": "stream",
     "text": [
      "                                                                                \r"
     ]
    },
    {
     "name": "stdout",
     "output_type": "stream",
     "text": [
      "Atlanta businesses type\n"
     ]
    },
    {
     "data": {
      "text/plain": [
       "<AxesSubplot:xlabel='Businesses type', ylabel='number'>"
      ]
     },
     "execution_count": 55,
     "metadata": {},
     "output_type": "execute_result"
    },
    {
     "data": {
      "image/png": "[encoded data removed]",
      "text/plain": [
       "<Figure size 720x720 with 1 Axes>"
      ]
     },
     "metadata": {
      "needs_background": "light"
     },
     "output_type": "display_data"
    }
   ],
   "source": [
    "atl_bus = df_yelp_business.filter(df_yelp_business.city.contains('Atlanta'))\\\n",
    "                        .orderBy('review_count',ascending = False)\n",
    "\n",
    "atl_bus = atl_bus.withColumn('categ',f.translate(f.col('categories'),\"[,&()],\",\"\"))\n",
    "atl_bus = atl_bus.withColumn('new categ',f.lower('categ'))\n",
    "atl_bus = atl_bus.drop('categories')\n",
    "atl_bus = atl_bus.drop('categ')\n",
    "\n",
    "pd_atl_bus = atl_bus.withColumn('category count',f.explode(f.split('new categ',\" \")))\\\n",
    "            .groupBy('category count')\\\n",
    "            .count()\\\n",
    "            .sort(desc('count'))\\\n",
    "            .toPandas()\n",
    "\n",
    "#To get rid of space and 'service'\n",
    "pd_atl_bus = pd_atl_bus[2:20]\n",
    "print('Atlanta businesses type')\n",
    "pd_atl_bus.plot(x= \"category count\",y = \"count\",\n",
    "              figsize =[10,10],kind ='bar',\n",
    "             fontsize = 15, xlabel = 'Businesses type',\n",
    "                ylabel = 'number')"
   ]
  },
  {
   "cell_type": "markdown",
   "id": "ae7d3ca3",
   "metadata": {},
   "source": [
    "###### The bar chart above shows all of the business types in Atlanta given in the dataset.\n",
    "###### There could be overlap of the bars due to synonyms in categories, such as 'restaruants' and 'food'.\n",
    "######  But this is a general distribution of different businesses in the city.\n",
    "######  We will analyze more data in the restaurant category."
   ]
  },
  {
   "cell_type": "code",
   "execution_count": 15,
   "id": "2bff95e5",
   "metadata": {
    "scrolled": true
   },
   "outputs": [
    {
     "name": "stderr",
     "output_type": "stream",
     "text": [
      "/opt/conda/envs/bigdata/lib/python3.7/site-packages/ipykernel_launcher.py:12: FutureWarning: Passing a negative integer is deprecated in version 1.0 and will not be supported in future version. Instead, use None to not limit the column width.\n",
      "  if sys.path[0] == '':\n"
     ]
    },
    {
     "data": {
      "text/html": [
       "<div>\n",
       "<style scoped>\n",
       "    .dataframe tbody tr th:only-of-type {\n",
       "        vertical-align: middle;\n",
       "    }\n",
       "\n",
       "    .dataframe tbody tr th {\n",
       "        vertical-align: top;\n",
       "    }\n",
       "\n",
       "    .dataframe thead th {\n",
       "        text-align: right;\n",
       "    }\n",
       "</style>\n",
       "<table border=\"1\" class=\"dataframe\">\n",
       "  <thead>\n",
       "    <tr style=\"text-align: right;\">\n",
       "      <th></th>\n",
       "      <th>name</th>\n",
       "      <th>review_count</th>\n",
       "      <th>stars</th>\n",
       "      <th>categories</th>\n",
       "    </tr>\n",
       "  </thead>\n",
       "  <tbody>\n",
       "    <tr>\n",
       "      <th>0</th>\n",
       "      <td>Mary Mac's Tea Room</td>\n",
       "      <td>3861</td>\n",
       "      <td>4.0</td>\n",
       "      <td>Venues &amp; Event Spaces, Event Planning &amp; Services, Comfort Food, Southern, Restaurants, Nightlife, Tea Rooms, Food, Bars</td>\n",
       "    </tr>\n",
       "    <tr>\n",
       "      <th>1</th>\n",
       "      <td>Fox Bros. Bar-B-Q</td>\n",
       "      <td>3825</td>\n",
       "      <td>4.5</td>\n",
       "      <td>Southern, Restaurants, Barbeque, American (Traditional)</td>\n",
       "    </tr>\n",
       "    <tr>\n",
       "      <th>2</th>\n",
       "      <td>Atlanta Breakfast Club</td>\n",
       "      <td>3761</td>\n",
       "      <td>4.5</td>\n",
       "      <td>Restaurants, Breakfast &amp; Brunch, American (Traditional), Southern, Coffee &amp; Tea, American (New), Food</td>\n",
       "    </tr>\n",
       "    <tr>\n",
       "      <th>3</th>\n",
       "      <td>Poor Calvin's</td>\n",
       "      <td>3379</td>\n",
       "      <td>4.5</td>\n",
       "      <td>Southern, Nightlife, Thai, Food, American (New), Ethnic Food, Restaurants, Beer, Wine &amp; Spirits, Asian Fusion, Bars, Comfort Food, Specialty Food, Seafood</td>\n",
       "    </tr>\n",
       "    <tr>\n",
       "      <th>4</th>\n",
       "      <td>Antico Pizza</td>\n",
       "      <td>3135</td>\n",
       "      <td>4.0</td>\n",
       "      <td>Italian, Pizza, Restaurants</td>\n",
       "    </tr>\n",
       "    <tr>\n",
       "      <th>5</th>\n",
       "      <td>Two Urban Licks</td>\n",
       "      <td>2730</td>\n",
       "      <td>4.0</td>\n",
       "      <td>Bars, American (New), Nightlife, Southern, Restaurants</td>\n",
       "    </tr>\n",
       "    <tr>\n",
       "      <th>6</th>\n",
       "      <td>South City Kitchen Midtown</td>\n",
       "      <td>2618</td>\n",
       "      <td>4.5</td>\n",
       "      <td>Restaurants, American (New), Southern, Breakfast &amp; Brunch, Gluten-Free</td>\n",
       "    </tr>\n",
       "    <tr>\n",
       "      <th>7</th>\n",
       "      <td>Fat Matt's Rib Shack</td>\n",
       "      <td>2165</td>\n",
       "      <td>4.0</td>\n",
       "      <td>Restaurants, Barbeque, Fast Food, Nightlife, Southern, Beer Bar, Bars, American (Traditional)</td>\n",
       "    </tr>\n",
       "    <tr>\n",
       "      <th>8</th>\n",
       "      <td>FLIP burger boutique</td>\n",
       "      <td>1909</td>\n",
       "      <td>4.0</td>\n",
       "      <td>Burgers, Specialty Food, Restaurants, Barbeque, Food, Nightlife, Bars, American (New)</td>\n",
       "    </tr>\n",
       "    <tr>\n",
       "      <th>9</th>\n",
       "      <td>Canoe</td>\n",
       "      <td>1844</td>\n",
       "      <td>4.5</td>\n",
       "      <td>Seafood, Restaurants, Breakfast &amp; Brunch, American (New)</td>\n",
       "    </tr>\n",
       "  </tbody>\n",
       "</table>\n",
       "</div>"
      ],
      "text/plain": [
       "                         name  review_count  stars  \\\n",
       "0  Mary Mac's Tea Room         3861          4.0     \n",
       "1  Fox Bros. Bar-B-Q           3825          4.5     \n",
       "2  Atlanta Breakfast Club      3761          4.5     \n",
       "3  Poor Calvin's               3379          4.5     \n",
       "4  Antico Pizza                3135          4.0     \n",
       "5  Two Urban Licks             2730          4.0     \n",
       "6  South City Kitchen Midtown  2618          4.5     \n",
       "7  Fat Matt's Rib Shack        2165          4.0     \n",
       "8  FLIP burger boutique        1909          4.0     \n",
       "9  Canoe                       1844          4.5     \n",
       "\n",
       "                                                                                                                                                   categories  \n",
       "0  Venues & Event Spaces, Event Planning & Services, Comfort Food, Southern, Restaurants, Nightlife, Tea Rooms, Food, Bars                                     \n",
       "1  Southern, Restaurants, Barbeque, American (Traditional)                                                                                                     \n",
       "2  Restaurants, Breakfast & Brunch, American (Traditional), Southern, Coffee & Tea, American (New), Food                                                       \n",
       "3  Southern, Nightlife, Thai, Food, American (New), Ethnic Food, Restaurants, Beer, Wine & Spirits, Asian Fusion, Bars, Comfort Food, Specialty Food, Seafood  \n",
       "4  Italian, Pizza, Restaurants                                                                                                                                 \n",
       "5  Bars, American (New), Nightlife, Southern, Restaurants                                                                                                      \n",
       "6  Restaurants, American (New), Southern, Breakfast & Brunch, Gluten-Free                                                                                      \n",
       "7  Restaurants, Barbeque, Fast Food, Nightlife, Southern, Beer Bar, Bars, American (Traditional)                                                               \n",
       "8  Burgers, Specialty Food, Restaurants, Barbeque, Food, Nightlife, Bars, American (New)                                                                       \n",
       "9  Seafood, Restaurants, Breakfast & Brunch, American (New)                                                                                                    "
      ]
     },
     "execution_count": 15,
     "metadata": {},
     "output_type": "execute_result"
    }
   ],
   "source": [
    "#Filter \"city\" so we obtain the restaurant ratings in Atlanta \n",
    "#Then filter the star rating with number of review count to find highly rated popular resturuants\n",
    "\n",
    "atl_restr_data = df_yelp_business.filter(df_yelp_business.city.contains('Atlanta'))\\\n",
    "                .filter(df_yelp_business.stars > 3.9)\\\n",
    "                .orderBy('review_count',ascending=False)\n",
    "col_sel = ['name','review_count','stars','categories']\n",
    "atl_restr_data_table = atl_restr_data.select(*col_sel)\n",
    "\n",
    "#Top 10 highly rated popular restr in Atlanta is showing below\n",
    "pd_atl_restr_data_table = atl_restr_data_table.toPandas()\n",
    "pd.set_option(\"display.max_colwidth\",-1)\n",
    "pd_atl_restr_data_table.head(10)"
   ]
  },
  {
   "cell_type": "markdown",
   "id": "fdeda2be",
   "metadata": {},
   "source": [
    "##### Above is a table of the most popular highly rated (> 4.0 stars) restaurants in Atlanta"
   ]
  },
  {
   "cell_type": "code",
   "execution_count": 16,
   "id": "73e2c2f5",
   "metadata": {},
   "outputs": [],
   "source": [
    "#Clean column \"categories\"\n",
    "\n",
    "atl_restr_data = atl_restr_data.withColumn('new_categories',f.regexp_replace(f.col('categories'),\"[,&()]\",\"\"))\n",
    "atl_restr_data = atl_restr_data.withColumn('new_categories1',f.lower(f.col('new_categories')))\n",
    "atl_restr_data = atl_restr_data.withColumn('new_categories2',f.regexp_replace(f.col('new_categories1'),\"restaurants\",\"\"))\n",
    "atl_restr_data = atl_restr_data.withColumn('new_categories3',f.regexp_replace(f.col('new_categories2'),\"food\",\"\"))\n",
    "atl_restr_data = atl_restr_data.withColumn('new_categories4',f.regexp_replace(f.col('new_categories3'),\"nightlife\",\"\"))\n",
    "atl_restr_data = atl_restr_data.withColumn('new categories',f.regexp_replace(f.col('new_categories4'),\"new\",\"\"))\n",
    "\n",
    "col_to_drop = ['categories','new_categories',\n",
    "               'new_categories1','new_categories2',\n",
    "               'new_categories3','new_categories4']\n",
    "atl_restr_data = atl_restr_data.drop(*col_to_drop)\n",
    "\n",
    "#pd_atl_restr_data = atl_restr_data.toPandas()\n",
    "#pd_atl_restr_data.head(3)"
   ]
  },
  {
   "cell_type": "code",
   "execution_count": 17,
   "id": "b4ee0d58",
   "metadata": {},
   "outputs": [
    {
     "name": "stderr",
     "output_type": "stream",
     "text": [
      "                                                                                \r"
     ]
    },
    {
     "data": {
      "text/html": [
       "<div>\n",
       "<style scoped>\n",
       "    .dataframe tbody tr th:only-of-type {\n",
       "        vertical-align: middle;\n",
       "    }\n",
       "\n",
       "    .dataframe tbody tr th {\n",
       "        vertical-align: top;\n",
       "    }\n",
       "\n",
       "    .dataframe thead th {\n",
       "        text-align: right;\n",
       "    }\n",
       "</style>\n",
       "<table border=\"1\" class=\"dataframe\">\n",
       "  <thead>\n",
       "    <tr style=\"text-align: right;\">\n",
       "      <th></th>\n",
       "      <th>word</th>\n",
       "      <th>count</th>\n",
       "    </tr>\n",
       "  </thead>\n",
       "  <tbody>\n",
       "    <tr>\n",
       "      <th>1</th>\n",
       "      <td>bars</td>\n",
       "      <td>670</td>\n",
       "    </tr>\n",
       "    <tr>\n",
       "      <th>2</th>\n",
       "      <td>american</td>\n",
       "      <td>478</td>\n",
       "    </tr>\n",
       "    <tr>\n",
       "      <th>3</th>\n",
       "      <td>sandwiches</td>\n",
       "      <td>227</td>\n",
       "    </tr>\n",
       "    <tr>\n",
       "      <th>4</th>\n",
       "      <td>brunch</td>\n",
       "      <td>192</td>\n",
       "    </tr>\n",
       "    <tr>\n",
       "      <th>5</th>\n",
       "      <td>breakfast</td>\n",
       "      <td>192</td>\n",
       "    </tr>\n",
       "    <tr>\n",
       "      <th>6</th>\n",
       "      <td>traditional</td>\n",
       "      <td>184</td>\n",
       "    </tr>\n",
       "    <tr>\n",
       "      <th>7</th>\n",
       "      <td>tea</td>\n",
       "      <td>164</td>\n",
       "    </tr>\n",
       "    <tr>\n",
       "      <th>8</th>\n",
       "      <td>coffee</td>\n",
       "      <td>162</td>\n",
       "    </tr>\n",
       "    <tr>\n",
       "      <th>9</th>\n",
       "      <td>services</td>\n",
       "      <td>153</td>\n",
       "    </tr>\n",
       "    <tr>\n",
       "      <th>10</th>\n",
       "      <td>event</td>\n",
       "      <td>150</td>\n",
       "    </tr>\n",
       "    <tr>\n",
       "      <th>11</th>\n",
       "      <td>cafes</td>\n",
       "      <td>140</td>\n",
       "    </tr>\n",
       "    <tr>\n",
       "      <th>12</th>\n",
       "      <td>sea</td>\n",
       "      <td>117</td>\n",
       "    </tr>\n",
       "    <tr>\n",
       "      <th>13</th>\n",
       "      <td>burgers</td>\n",
       "      <td>117</td>\n",
       "    </tr>\n",
       "    <tr>\n",
       "      <th>14</th>\n",
       "      <td>planning</td>\n",
       "      <td>117</td>\n",
       "    </tr>\n",
       "    <tr>\n",
       "      <th>15</th>\n",
       "      <td>salad</td>\n",
       "      <td>112</td>\n",
       "    </tr>\n",
       "    <tr>\n",
       "      <th>16</th>\n",
       "      <td>southern</td>\n",
       "      <td>110</td>\n",
       "    </tr>\n",
       "    <tr>\n",
       "      <th>17</th>\n",
       "      <td>desserts</td>\n",
       "      <td>100</td>\n",
       "    </tr>\n",
       "    <tr>\n",
       "      <th>18</th>\n",
       "      <td>pizza</td>\n",
       "      <td>99</td>\n",
       "    </tr>\n",
       "    <tr>\n",
       "      <th>19</th>\n",
       "      <td>mexican</td>\n",
       "      <td>99</td>\n",
       "    </tr>\n",
       "    <tr>\n",
       "      <th>20</th>\n",
       "      <td>cocktail</td>\n",
       "      <td>93</td>\n",
       "    </tr>\n",
       "    <tr>\n",
       "      <th>21</th>\n",
       "      <td>italian</td>\n",
       "      <td>92</td>\n",
       "    </tr>\n",
       "    <tr>\n",
       "      <th>22</th>\n",
       "      <td>specialty</td>\n",
       "      <td>91</td>\n",
       "    </tr>\n",
       "    <tr>\n",
       "      <th>23</th>\n",
       "      <td>chicken</td>\n",
       "      <td>90</td>\n",
       "    </tr>\n",
       "    <tr>\n",
       "      <th>24</th>\n",
       "      <td>wine</td>\n",
       "      <td>89</td>\n",
       "    </tr>\n",
       "    <tr>\n",
       "      <th>25</th>\n",
       "      <td>asian</td>\n",
       "      <td>87</td>\n",
       "    </tr>\n",
       "    <tr>\n",
       "      <th>26</th>\n",
       "      <td>caterers</td>\n",
       "      <td>81</td>\n",
       "    </tr>\n",
       "    <tr>\n",
       "      <th>27</th>\n",
       "      <td>fusion</td>\n",
       "      <td>80</td>\n",
       "    </tr>\n",
       "    <tr>\n",
       "      <th>28</th>\n",
       "      <td>bakeries</td>\n",
       "      <td>78</td>\n",
       "    </tr>\n",
       "    <tr>\n",
       "      <th>29</th>\n",
       "      <td>japanese</td>\n",
       "      <td>77</td>\n",
       "    </tr>\n",
       "  </tbody>\n",
       "</table>\n",
       "</div>"
      ],
      "text/plain": [
       "           word  count\n",
       "1   bars         670  \n",
       "2   american     478  \n",
       "3   sandwiches   227  \n",
       "4   brunch       192  \n",
       "5   breakfast    192  \n",
       "6   traditional  184  \n",
       "7   tea          164  \n",
       "8   coffee       162  \n",
       "9   services     153  \n",
       "10  event        150  \n",
       "11  cafes        140  \n",
       "12  sea          117  \n",
       "13  burgers      117  \n",
       "14  planning     117  \n",
       "15  salad        112  \n",
       "16  southern     110  \n",
       "17  desserts     100  \n",
       "18  pizza        99   \n",
       "19  mexican      99   \n",
       "20  cocktail     93   \n",
       "21  italian      92   \n",
       "22  specialty    91   \n",
       "23  chicken      90   \n",
       "24  wine         89   \n",
       "25  asian        87   \n",
       "26  caterers     81   \n",
       "27  fusion       80   \n",
       "28  bakeries     78   \n",
       "29  japanese     77   "
      ]
     },
     "execution_count": 17,
     "metadata": {},
     "output_type": "execute_result"
    }
   ],
   "source": [
    "#word count to find the most popular type of food in Atlanta\n",
    "pd_temp_atl = atl_restr_data.withColumn('word',f.explode(f.split('new categories',' ')))\\\n",
    "                            .groupBy('word')\\\n",
    "                            .count()\\\n",
    "                            .sort(desc('count'))\\\n",
    "                            .toPandas()\n",
    "#Top 20 food categories in Atlanta\n",
    "pd_temp_atl[1:30]"
   ]
  },
  {
   "cell_type": "code",
   "execution_count": 19,
   "id": "54365c11",
   "metadata": {},
   "outputs": [
    {
     "data": {
      "text/plain": [
       "<AxesSubplot:xlabel='Type of food', ylabel='count'>"
      ]
     },
     "execution_count": 19,
     "metadata": {},
     "output_type": "execute_result"
    },
    {
     "data": {
      "image/png": "[encoded data removed]",
      "text/plain": [
       "<Figure size 720x720 with 1 Axes>"
      ]
     },
     "metadata": {
      "needs_background": "light"
     },
     "output_type": "display_data"
    }
   ],
   "source": [
    "#Visualization of popular food category in Atlanta\n",
    "pd_temp_atl = pd_temp_atl.iloc[1:30]                 #Get rid of space\n",
    "pd_temp_atl.plot(x ='word',y='count',\n",
    "                 xlabel = 'Type of food',ylabel ='count',\n",
    "                 fontsize = 15, figsize = (10,10),\n",
    "                 kind ='bar')"
   ]
  },
  {
   "cell_type": "markdown",
   "id": "718ed2f3",
   "metadata": {},
   "source": [
    "##### The bar chart above shows the most popular food type among the highly rated restaurants."
   ]
  },
  {
   "cell_type": "code",
   "execution_count": 8,
   "id": "3a9f7093",
   "metadata": {},
   "outputs": [
    {
     "name": "stderr",
     "output_type": "stream",
     "text": [
      "                                                                                \r"
     ]
    }
   ],
   "source": [
    "#Join review and atl_restr_data to find Atlanta resturuant review\n",
    "atl_restr = df_yelp_business.filter(df_yelp_business.city.contains('Atlanta'))\\\n",
    "                .orderBy('review_count',ascending=False)\n",
    "atl_restr_review = atl_restr\\\n",
    "                        .join(df_yelp_review, atl_restr.business_id == df_yelp_review.business_id,\"inner\")\\\n",
    "                        .drop(\"business_id\")\n",
    "pd_atl_restr_review = atl_restr_review.toPandas()\n",
    "\n",
    "#Reorder the columns\n",
    "atl_restr_review = atl_restr_review.select('city','state','name','stars','review_count',\n",
    "                                                   'categories','reviewer_rating','review',\n",
    "                                                   'useful','cool','funny')\n",
    "pd_atl_restr_review = pd_atl_restr_review[['city','state','name','stars','review_count',\n",
    "                                                   'categories','reviewer_rating','review',\n",
    "                                                   'useful','cool','funny']]"
   ]
  },
  {
   "cell_type": "code",
   "execution_count": 9,
   "id": "4856cbd5",
   "metadata": {},
   "outputs": [
    {
     "data": {
      "text/html": [
       "<div>\n",
       "<style scoped>\n",
       "    .dataframe tbody tr th:only-of-type {\n",
       "        vertical-align: middle;\n",
       "    }\n",
       "\n",
       "    .dataframe tbody tr th {\n",
       "        vertical-align: top;\n",
       "    }\n",
       "\n",
       "    .dataframe thead th {\n",
       "        text-align: right;\n",
       "    }\n",
       "</style>\n",
       "<table border=\"1\" class=\"dataframe\">\n",
       "  <thead>\n",
       "    <tr style=\"text-align: right;\">\n",
       "      <th></th>\n",
       "      <th>review</th>\n",
       "    </tr>\n",
       "  </thead>\n",
       "  <tbody>\n",
       "    <tr>\n",
       "      <th>4</th>\n",
       "      <td>Service poor , music loud . Not the place it u...</td>\n",
       "    </tr>\n",
       "    <tr>\n",
       "      <th>62</th>\n",
       "      <td>This is more of a customer service review.. I ...</td>\n",
       "    </tr>\n",
       "    <tr>\n",
       "      <th>73</th>\n",
       "      <td>I had never had Greek before and I was really ...</td>\n",
       "    </tr>\n",
       "  </tbody>\n",
       "</table>\n",
       "</div>"
      ],
      "text/plain": [
       "                                               review\n",
       "4   Service poor , music loud . Not the place it u...\n",
       "62  This is more of a customer service review.. I ...\n",
       "73  I had never had Greek before and I was really ..."
      ]
     },
     "execution_count": 9,
     "metadata": {},
     "output_type": "execute_result"
    }
   ],
   "source": [
    "#Filter out low rating reviews (1 star)\n",
    "pd_atl_restr_review_low = pd_atl_restr_review.loc[pd_atl_restr_review['reviewer_rating'] < 1.1]\\\n",
    "                                                .filter(['review'])\n",
    "pd_atl_restr_review_low.head(3)\n"
   ]
  },
  {
   "cell_type": "code",
   "execution_count": 10,
   "id": "d398b15f",
   "metadata": {},
   "outputs": [],
   "source": [
    "#Clean string\n",
    "user_defined_stopwords = ['us',\n",
    "                          'one',\n",
    "                          'back',\n",
    "                          'get',\n",
    "                          'like',\n",
    "                          'would',\n",
    "                          'go',\n",
    "                          'said',\n",
    "                          'could',\n",
    "                          'im',\n",
    "                          'dont',\n",
    "                          'didnt',\n",
    "                          'went',\n",
    "                          'really',\n",
    "                          'also',\n",
    "                          'ive',\n",
    "                          'even']\n",
    "stopwords = nltk.corpus.stopwords.words('english') + list(string.punctuation)+ user_defined_stopwords\n",
    "def preprocess(x):\n",
    "    x = re.sub('[^a-z\\s]','',x.lower())\n",
    "    x = [w for w in x.split() if w not in set(stopwords)]\n",
    "    return ' '.join(x)\n"
   ]
  },
  {
   "cell_type": "code",
   "execution_count": 11,
   "id": "33148a77",
   "metadata": {},
   "outputs": [
    {
     "data": {
      "text/html": [
       "<div>\n",
       "<style scoped>\n",
       "    .dataframe tbody tr th:only-of-type {\n",
       "        vertical-align: middle;\n",
       "    }\n",
       "\n",
       "    .dataframe tbody tr th {\n",
       "        vertical-align: top;\n",
       "    }\n",
       "\n",
       "    .dataframe thead th {\n",
       "        text-align: right;\n",
       "    }\n",
       "</style>\n",
       "<table border=\"1\" class=\"dataframe\">\n",
       "  <thead>\n",
       "    <tr style=\"text-align: right;\">\n",
       "      <th></th>\n",
       "      <th>review</th>\n",
       "      <th>new_review</th>\n",
       "    </tr>\n",
       "  </thead>\n",
       "  <tbody>\n",
       "    <tr>\n",
       "      <th>4</th>\n",
       "      <td>Service poor , music loud . Not the place it u...</td>\n",
       "      <td>service poor music loud place use sitting bar ...</td>\n",
       "    </tr>\n",
       "    <tr>\n",
       "      <th>62</th>\n",
       "      <td>This is more of a customer service review.. I ...</td>\n",
       "      <td>customer service review walked sat bar pm plac...</td>\n",
       "    </tr>\n",
       "    <tr>\n",
       "      <th>73</th>\n",
       "      <td>I had never had Greek before and I was really ...</td>\n",
       "      <td>never greek excited kyma made reservation wish...</td>\n",
       "    </tr>\n",
       "  </tbody>\n",
       "</table>\n",
       "</div>"
      ],
      "text/plain": [
       "                                               review  \\\n",
       "4   Service poor , music loud . Not the place it u...   \n",
       "62  This is more of a customer service review.. I ...   \n",
       "73  I had never had Greek before and I was really ...   \n",
       "\n",
       "                                           new_review  \n",
       "4   service poor music loud place use sitting bar ...  \n",
       "62  customer service review walked sat bar pm plac...  \n",
       "73  never greek excited kyma made reservation wish...  "
      ]
     },
     "execution_count": 11,
     "metadata": {},
     "output_type": "execute_result"
    }
   ],
   "source": [
    "#Clean the string in 1 star rating review\n",
    "pd_atl_restr_review_low['new_review'] = pd_atl_restr_review_low['review'].apply(preprocess)\n",
    "pd_atl_restr_review_low.head(3)"
   ]
  },
  {
   "cell_type": "code",
   "execution_count": 17,
   "id": "1c06ca70",
   "metadata": {},
   "outputs": [
    {
     "data": {
      "text/html": [
       "<div>\n",
       "<style scoped>\n",
       "    .dataframe tbody tr th:only-of-type {\n",
       "        vertical-align: middle;\n",
       "    }\n",
       "\n",
       "    .dataframe tbody tr th {\n",
       "        vertical-align: top;\n",
       "    }\n",
       "\n",
       "    .dataframe thead th {\n",
       "        text-align: right;\n",
       "    }\n",
       "</style>\n",
       "<table border=\"1\" class=\"dataframe\">\n",
       "  <thead>\n",
       "    <tr style=\"text-align: right;\">\n",
       "      <th></th>\n",
       "      <th>review words</th>\n",
       "      <th>bigrams</th>\n",
       "    </tr>\n",
       "  </thead>\n",
       "  <tbody>\n",
       "    <tr>\n",
       "      <th>4</th>\n",
       "      <td>(service, poor)</td>\n",
       "      <td>1.0</td>\n",
       "    </tr>\n",
       "    <tr>\n",
       "      <th>4</th>\n",
       "      <td>(poor, music)</td>\n",
       "      <td>1.0</td>\n",
       "    </tr>\n",
       "    <tr>\n",
       "      <th>4</th>\n",
       "      <td>(music, loud)</td>\n",
       "      <td>1.0</td>\n",
       "    </tr>\n",
       "    <tr>\n",
       "      <th>4</th>\n",
       "      <td>(loud, place)</td>\n",
       "      <td>1.0</td>\n",
       "    </tr>\n",
       "    <tr>\n",
       "      <th>4</th>\n",
       "      <td>(place, use)</td>\n",
       "      <td>1.0</td>\n",
       "    </tr>\n",
       "    <tr>\n",
       "      <th>...</th>\n",
       "      <td>...</td>\n",
       "      <td>...</td>\n",
       "    </tr>\n",
       "    <tr>\n",
       "      <th>600531</th>\n",
       "      <td>(attitudes, reason)</td>\n",
       "      <td>1.0</td>\n",
       "    </tr>\n",
       "    <tr>\n",
       "      <th>600531</th>\n",
       "      <td>(reason, food)</td>\n",
       "      <td>1.0</td>\n",
       "    </tr>\n",
       "    <tr>\n",
       "      <th>600531</th>\n",
       "      <td>(food, good)</td>\n",
       "      <td>1.0</td>\n",
       "    </tr>\n",
       "    <tr>\n",
       "      <th>600531</th>\n",
       "      <td>(good, shouldnt)</td>\n",
       "      <td>1.0</td>\n",
       "    </tr>\n",
       "    <tr>\n",
       "      <th>600531</th>\n",
       "      <td>(shouldnt, ordeal)</td>\n",
       "      <td>1.0</td>\n",
       "    </tr>\n",
       "  </tbody>\n",
       "</table>\n",
       "<p>4025065 rows × 2 columns</p>\n",
       "</div>"
      ],
      "text/plain": [
       "               review words  bigrams\n",
       "4           (service, poor)      1.0\n",
       "4             (poor, music)      1.0\n",
       "4             (music, loud)      1.0\n",
       "4             (loud, place)      1.0\n",
       "4              (place, use)      1.0\n",
       "...                     ...      ...\n",
       "600531  (attitudes, reason)      1.0\n",
       "600531       (reason, food)      1.0\n",
       "600531         (food, good)      1.0\n",
       "600531     (good, shouldnt)      1.0\n",
       "600531   (shouldnt, ordeal)      1.0\n",
       "\n",
       "[4025065 rows x 2 columns]"
      ]
     },
     "execution_count": 17,
     "metadata": {},
     "output_type": "execute_result"
    }
   ],
   "source": [
    "#Bigram of low rating reviews\n",
    "bigram_freq = lambda s:list(nltk.FreqDist(nltk.bigrams(s.split(\" \"))).items())\n",
    "\n",
    "out = pd_atl_restr_review_low['new_review'].apply(bigram_freq).explode()\n",
    "out = pd.DataFrame(out.to_list(),index = out.index,columns = [\"review words\",\"bigrams\"])\n",
    "out"
   ]
  },
  {
   "cell_type": "code",
   "execution_count": 14,
   "id": "a893bb5a",
   "metadata": {},
   "outputs": [],
   "source": [
    "#Plot of word frequencies in low rating reviews\n",
    "unigram_count = pd_atl_restr_review_low.new_review.str.split(expand = True).stack().value_counts().reset_index()\n",
    "unigram_count.columns = ['word','frequency']\n",
    "unigram_count = unigram_count[0:9]"
   ]
  },
  {
   "cell_type": "code",
   "execution_count": 15,
   "id": "2e3dc4b3",
   "metadata": {},
   "outputs": [
    {
     "data": {
      "image/png": "[encoded data removed]",
      "text/plain": [
       "<Figure size 720x504 with 1 Axes>"
      ]
     },
     "metadata": {},
     "output_type": "display_data"
    }
   ],
   "source": [
    "#Most common words used in 1 star review\n",
    "def func(pct, allvalues):\n",
    "    absolute = int(pct / 100.*np.sum(allvalues))\n",
    "    return \"{:.1f}%\\n({:d})\".format(pct, absolute)\n",
    " \n",
    "colors = ( \"orange\", \"cyan\", \"brown\",\n",
    "          \"grey\", \"indigo\", \"beige\",\n",
    "          \"blue\",\"red\",\"olive\",\"bisque\")\n",
    "fig, ax = plt.subplots(figsize =(10, 7))\n",
    "autotexts = ax.pie(unigram_count['frequency'],\n",
    "                autopct = lambda pct: func(pct, unigram_count['frequency']),                                  \n",
    "                labels = unigram_count['word'],\n",
    "                shadow = True,\n",
    "                colors = colors,\n",
    "                startangle = 90,\n",
    "                textprops = dict(color =\"black\"))\n",
    " \n",
    "plt.show()"
   ]
  },
  {
   "cell_type": "code",
   "execution_count": 19,
   "id": "e8e28cf2",
   "metadata": {},
   "outputs": [],
   "source": [
    "#Filter out high rating reviews(5 stars)\n",
    "pd_atl_restr_review_high = pd_atl_restr_review.loc[pd_atl_restr_review['reviewer_rating'] > 4.9]\\\n",
    "                                                .filter(['review'])\n",
    "pd_atl_restr_review_high['new_review'] = pd_atl_restr_review_high['review'].apply(preprocess)"
   ]
  },
  {
   "cell_type": "code",
   "execution_count": 34,
   "id": "3403ad37",
   "metadata": {},
   "outputs": [],
   "source": [
    "pd_atl_restr_review_high['new_review'] = pd_atl_restr_review_high['new_review'].astype('str')"
   ]
  },
  {
   "cell_type": "code",
   "execution_count": 35,
   "id": "3bf9895a",
   "metadata": {},
   "outputs": [
    {
     "name": "stdout",
     "output_type": "stream",
     "text": [
      "<class 'pandas.core.frame.DataFrame'>\n",
      "Int64Index: 229809 entries, 0 to 600527\n",
      "Data columns (total 2 columns):\n",
      " #   Column      Non-Null Count   Dtype \n",
      "---  ------      --------------   ----- \n",
      " 0   review      229809 non-null  object\n",
      " 1   new_review  229809 non-null  object\n",
      "dtypes: object(2)\n",
      "memory usage: 5.3+ MB\n"
     ]
    }
   ],
   "source": [
    "pd_atl_restr_review_high.info()"
   ]
  },
  {
   "cell_type": "code",
   "execution_count": null,
   "id": "1c40af7e",
   "metadata": {},
   "outputs": [],
   "source": [
    "#Bigram of high rating reviews\n",
    "#bigram_freq = lambda s:list(nltk.FreqDist(nltk.bigrams(s.split(\" \"))).items())\n",
    "\n",
    "#out = pd_atl_restr_review_high['new_review'].apply(bigram_freq).explode()\n",
    "#out = pd.DataFrame(out.to_list(),index = out.index,columns = [\"review words\",\"bigrams\"])\n",
    "#out\n",
    "txt = pd_atl_restr_review_high.new_review\n",
    "words = nltk.tokenize.word_tokenize(txt)\n",
    "bigrm = list(nltk.bigrams(words))\n",
    "word_dist = nltk.FreqDist([' '.join(x)for x in bigram])\n",
    "rslt = pd.DataFrame(word_dist.most_common(10),\n",
    "                   columns=['Bigram','Frequency'])"
   ]
  },
  {
   "cell_type": "code",
   "execution_count": 17,
   "id": "71624e9a",
   "metadata": {},
   "outputs": [],
   "source": [
    "#Word count in high rating reviews\n",
    "unigram_count = pd_atl_restr_review_high.new_review.str.split(expand = True).stack().value_counts().reset_index()\n",
    "unigram_count.columns = ['word','frequency']"
   ]
  },
  {
   "cell_type": "code",
   "execution_count": 20,
   "id": "0d9514af",
   "metadata": {},
   "outputs": [
    {
     "data": {
      "image/png": "[encoded data removed]",
      "text/plain": [
       "<Figure size 720x504 with 1 Axes>"
      ]
     },
     "metadata": {},
     "output_type": "display_data"
    }
   ],
   "source": [
    "#Most common words used in 5 star review\n",
    "unigram_count = unigram_count[0:10]\n",
    "\n",
    "def func(pct, allvalues):\n",
    "    absolute = int(pct / 100.*np.sum(allvalues))\n",
    "    return \"{:.1f}%\\n({:d})\".format(pct, absolute)\n",
    " \n",
    "colors = ( \"orange\", \"cyan\", \"brown\",\n",
    "          \"grey\", \"indigo\", \"beige\",\n",
    "          \"blue\",\"red\",\"olive\",\"bisque\")\n",
    "fig, ax = plt.subplots(figsize =(10, 7))\n",
    "autotexts = ax.pie(unigram_count['frequency'],\n",
    "                autopct = lambda pct: func(pct, unigram_count['frequency']),                                  \n",
    "                labels = unigram_count['word'],\n",
    "                shadow = True,\n",
    "                colors = colors,\n",
    "                startangle = 90,\n",
    "                textprops = dict(color =\"black\"))\n",
    " \n",
    "plt.show()"
   ]
  },
  {
   "cell_type": "markdown",
   "id": "3824480b",
   "metadata": {},
   "source": [
    "## Jinya Ramen bar"
   ]
  },
  {
   "cell_type": "markdown",
   "id": "4f1a7432",
   "metadata": {},
   "source": [
    "Anything below this line are not included in the final report, as this is my personal discovery. \n",
    "Jinya Ramen bar is a chain restaurants aross North America. The shop located in Atlanta has the highest average rating overall. About 870 people rated 4.5 stars and more than 88% of the reviewers rated 4 stars and above. I tried this ramen bar personally a few years ago, and it was the best ramen bar I have ever tried. Better than any famous ramen shop I tried in NYC (Ippudo, Ichiran, Tamashi, etc.). If you have a change to visit Atlanta, I highly recommand you to try it out!\n",
    "\n",
    "For anyone who notice this message.\n",
    "Mary Nie"
   ]
  },
  {
   "cell_type": "code",
   "execution_count": 56,
   "id": "868ec440",
   "metadata": {},
   "outputs": [
    {
     "name": "stderr",
     "output_type": "stream",
     "text": [
      "                                                                                \r"
     ]
    },
    {
     "name": "stdout",
     "output_type": "stream",
     "text": [
      "+----------------------+\n",
      "|business_id           |\n",
      "+----------------------+\n",
      "|57d0Gmx4JKuKQWyJYu0yfg|\n",
      "+----------------------+\n",
      "\n"
     ]
    },
    {
     "name": "stderr",
     "output_type": "stream",
     "text": [
      "                                                                                \r"
     ]
    }
   ],
   "source": [
    "#Reload the yelp business dataset so we have the full information\n",
    "df_yelp_business = spark.read.json(\"shared/student-data/yelp/yelp_academic_dataset_business.json\")\n",
    "cols_to_drop = ['is_open','latitude','longitude','attributes']\n",
    "df_yelp_business = df_yelp_business.drop(*cols_to_drop)\n",
    "\n",
    "#Find JINYA ramen bar business id\n",
    "Jinya_atl = df_yelp_business.filter(df_yelp_business.city.contains('Atlanta'))\\\n",
    "                            .filter(df_yelp_business.name.contains(\"JINYA\"))\\\n",
    "                            .orderBy('review_count',ascending=False)\n",
    "Jinya_atl.select('business_id').show(truncate = 0)"
   ]
  },
  {
   "cell_type": "code",
   "execution_count": 47,
   "id": "ef0e9cbd",
   "metadata": {},
   "outputs": [
    {
     "name": "stdout",
     "output_type": "stream",
     "text": [
      "+-------------+-----+--------------------+------------+-----+\n",
      "|         city|state|                name|review_count|stars|\n",
      "+-------------+-----+--------------------+------------+-----+\n",
      "|       Austin|   TX|JINYA Ramen Bar -...|         779|  3.5|\n",
      "|      Orlando|   FL|JINYA Ramen Bar -...|         515|  4.0|\n",
      "|    Vancouver|   BC|     JINYA Ramen Bar|         340|  3.5|\n",
      "|    Vancouver|   BC| JINYA Ramen Express|          12|  3.0|\n",
      "|Sandy Springs|   GA|     JINYA Ramen Bar|        1246|  4.5|\n",
      "|      Atlanta|   GA|JINYA Ramen Bar -...|         870|  4.5|\n",
      "|    Vancouver|   BC|     JINYA Ramen Bar|         196|  3.5|\n",
      "|    Vancouver|   BC|     JINYA Ramen Bar|         307|  3.5|\n",
      "|      Burnaby|   BC|     JINYA Ramen Bar|         222|  3.0|\n",
      "+-------------+-----+--------------------+------------+-----+\n",
      "\n"
     ]
    }
   ],
   "source": [
    "#Find all JINYA shop in the dataset\n",
    "Jinya = df_yelp_business.filter(df_yelp_business.name.contains(\"JINYA\"))\n",
    "Jinya.select('city','state','name','review_count','stars').show()"
   ]
  },
  {
   "cell_type": "markdown",
   "id": "32840cf1",
   "metadata": {},
   "source": [
    "##### **JINYA ramen bar is a chain ramen bar with various locations across North America**"
   ]
  },
  {
   "cell_type": "code",
   "execution_count": 51,
   "id": "2f98c8e4",
   "metadata": {
    "scrolled": true
   },
   "outputs": [
    {
     "name": "stdout",
     "output_type": "stream",
     "text": [
      "+--------------------------+------------------------+-------+-----+-----------+\n",
      "|name                      |address                 |city   |state|postal_code|\n",
      "+--------------------------+------------------------+-------+-----+-----------+\n",
      "|JINYA Ramen Bar - Buckhead|3714 Roswell Rd, Unit 35|Atlanta|GA   |30342      |\n",
      "+--------------------------+------------------------+-------+-----+-----------+\n",
      "\n"
     ]
    }
   ],
   "source": [
    "#Find JINYA Atalanta information\n",
    "\n",
    "Jinya_atl.select('name','address','city','state','postal_code').show(truncate =0)"
   ]
  },
  {
   "cell_type": "code",
   "execution_count": 52,
   "id": "35da2865",
   "metadata": {},
   "outputs": [
    {
     "name": "stdout",
     "output_type": "stream",
     "text": [
      "+-----------------------------------------------------------------------------+\n",
      "|hours                                                                        |\n",
      "+-----------------------------------------------------------------------------+\n",
      "|{11:0-22:0, 11:0-21:0, 11:0-22:0, 11:0-21:0, 11:0-21:0, 11:0-21:0, 11:0-21:0}|\n",
      "+-----------------------------------------------------------------------------+\n",
      "\n"
     ]
    }
   ],
   "source": [
    "#Find open hours of the address above\n",
    "Jinya_atl.select('hours').show(truncate =0)"
   ]
  },
  {
   "cell_type": "code",
   "execution_count": 23,
   "id": "12199858",
   "metadata": {},
   "outputs": [],
   "source": [
    "#Find reviews of JINYA Atlanta\n",
    "Jinya_rev = df_yelp_review.filter(df_yelp_review.business_id.contains(\"57d0Gmx4JKuKQWyJYu0yfg\"))"
   ]
  },
  {
   "cell_type": "code",
   "execution_count": 12,
   "id": "f451c3b5",
   "metadata": {},
   "outputs": [
    {
     "name": "stderr",
     "output_type": "stream",
     "text": [
      "                                                                                \r"
     ]
    }
   ],
   "source": [
    "#Convert to pandas for visialization\n",
    "Jinya_rate = Jinya_rev.groupBy('reviewer_rating')\\\n",
    "                        .count()\\\n",
    "                        .toPandas()             "
   ]
  },
  {
   "cell_type": "code",
   "execution_count": 18,
   "id": "07a86e53",
   "metadata": {},
   "outputs": [
    {
     "data": {
      "image/png": "[encoded data removed]",
      "text/plain": [
       "<Figure size 720x504 with 1 Axes>"
      ]
     },
     "metadata": {},
     "output_type": "display_data"
    }
   ],
   "source": [
    "#Plot the rating distribution as a pie chart\n",
    "def func(pct, allvalues):\n",
    "    absolute = int(pct / 100.*np.sum(allvalues))\n",
    "    return \"{:.1f}%\\n({:d})\".format(pct,absolute)\n",
    " \n",
    "colors = ( \"orange\", \"cyan\", \"brown\",\n",
    "          \"lightcoral\", \"bisque\")\n",
    "explode = (0.1, 0.0, 0.0, 0.1, 0.0)\n",
    "wp = { 'linewidth' : 1, 'edgecolor' : \"black\" }\n",
    "fig, ax = plt.subplots(figsize =(10, 7))\n",
    "autotexts = ax.pie(Jinya_rate['count'],\n",
    "                autopct = lambda pct: func(pct, Jinya_rate['count']),                                  \n",
    "                labels = Jinya_rate['reviewer_rating'],\n",
    "                explode = explode,\n",
    "                shadow = False,\n",
    "                wedgeprops = wp,\n",
    "                colors = colors,\n",
    "                startangle = 90,\n",
    "                textprops = dict(color =\"black\"))\n",
    " \n",
    "ax.set_title(\"Jinya reviewer rating stars distrubution \")\n",
    "plt.show()"
   ]
  },
  {
   "cell_type": "code",
   "execution_count": 59,
   "id": "4a58f064",
   "metadata": {},
   "outputs": [
    {
     "name": "stderr",
     "output_type": "stream",
     "text": [
      "[Stage 60:=====================================================>  (50 + 2) / 52]\r"
     ]
    },
    {
     "name": "stdout",
     "output_type": "stream",
     "text": [
      "+------------------------------------------------------------------------------------------------------------------------------------------------------------------------------------------------------------------------------------------------------------------------------------------------------------------------------------------------------------------------------------------------------------------------------------------------------------------------------------------------------------------------------------------------------------------------------------------------------------------------------------------------------------------------------------------------------------------------------------------------------------------------------------------------------------------------------------------------------------------------------------------------------------------------------------------------------------------------------------------------------------------------------------------------------------------------------------------------------------------------------------------------------------------------------------------------------------------------------------------------------------------------------------------------------------------------------------------------------------------------------------------------------------------------------------------------------------------------------------------------------------------------------------------------------------------------------------------------------------------------------------------------------------------------------------------------------------------------------------------------------------------------------------------------------------------------------------------------------------------------------------------------------------------------------------------------------------------------------------------------------------------------------------------------------------------------------------------------------------------------------------------------------------------------------------------------------------------------------------------------------------------------------------------------------------+\n",
      "|review                                                                                                                                                                                                                                                                                                                                                                                                                                                                                                                                                                                                                                                                                                                                                                                                                                                                                                                                                                                                                                                                                                                                                                                                                                                                                                                                                                                                                                                                                                                                                                                                                                                                                                                                                                                                                                                                                                                                                                                                                                                                                                                                                                                                                                                                                                      |\n",
      "+------------------------------------------------------------------------------------------------------------------------------------------------------------------------------------------------------------------------------------------------------------------------------------------------------------------------------------------------------------------------------------------------------------------------------------------------------------------------------------------------------------------------------------------------------------------------------------------------------------------------------------------------------------------------------------------------------------------------------------------------------------------------------------------------------------------------------------------------------------------------------------------------------------------------------------------------------------------------------------------------------------------------------------------------------------------------------------------------------------------------------------------------------------------------------------------------------------------------------------------------------------------------------------------------------------------------------------------------------------------------------------------------------------------------------------------------------------------------------------------------------------------------------------------------------------------------------------------------------------------------------------------------------------------------------------------------------------------------------------------------------------------------------------------------------------------------------------------------------------------------------------------------------------------------------------------------------------------------------------------------------------------------------------------------------------------------------------------------------------------------------------------------------------------------------------------------------------------------------------------------------------------------------------------------------------+\n",
      "|Alright, Jinya...it's time for you to come to Indy because your vegan Ramen knocked.my.socks.off. Carryout Ramen to chow on in bed at the hotel? Talk about my kind of night. I did a quick search on Yelp for vegetarian and vegan broths (I'm allergic to fish/shellfish) and voila, JINYA Ramen Bar saves the day. \\n\\nI ordered one bowl of the Spicy Creamy Vegan Ramen which consisted of vegetable broth, tofu, onion, green onion, spinach, crispy onion, garlic chips, garlic oil, chili oil and sesame seeds. And to top it all off, it's served with thick noodles (yes, please). The location was cozy from what I could see but I was on a mission to eat ramen in my underwear so I was only there for a few minutes. \\n\\nGreat news if you're looking to experience a bowl of this vegan ramen for yourself and are nowhere near Atlanta, they have around two dozen locations throughout the US and Canada. There's hope!                                                                                                                                                                                                                                                                                                                                                                                                                                                                                                                                                                                                                                                                                                                                                                                                                                                                                                                                                                                                                                                                                                                                                                                                                                                                                                                                                                   |\n",
      "|Ramen is awesome and good for your soul. Jinya Ramen does not fail to provide in this regard. I been twice in a row to this new location and both times did not disappoint. \\n\\nI had the Cha Cha Cha which is my favorite. It's a big portion size with thick noodles, rich and flavorful broth, and baby butt tender pork. I add some chili paste for a bit of a kick and it kicked me just enough. \\n\\nI went back and had the Spicy Umami Miso Ramen and added the seasoned egg. Because ramen without the egg is just silly. It was middle range spicy and my nose was runny and my taste buds were open enough to appreciate the rich spicy pork broth. The pork in this is chopped and plenty of it. It does come with bok choy which I wish there was more of but it was good and fresh. This ramen  one also has thick noodles. I'm not sure the portion is as large as the Cha Cha Cha but it was still filling and delicious. My friends were all happy with their orders of spicy chicken and spicy tonkatsu. One friend did order the new Sukiyaki Q ramen and the broth is very very thick. I tasted it and it too was good. Overall the ramen quality at Jinya is excellent and I can't imagine not coming here at least once a week if ramen was in my budget and on my meal plan. \\n\\nCustomer service is excellent. Although I think they are still new and not as busy so I anticipate it not being so accommodating as it gets busier. But the managers are there and they want to know you are satisfied so make sure you tell them if you are unhappy with something. \\nThe space is larger then their Sandy Springs location for sure. There are bigger tables for groups, seating at the bar into the kitchen as well as seating at what will be a full service bar once the get their license. Also there is a large outdoor patio and I like that it's tucked in the corner so you don't feel like you are looking out at a parking lot. There are TV's at the bar so come football season, you have a great spot for ramen and beer. They will have local Craft beers and I support businesses that support local businesses. Good job! \\n\\nGreat experience and great food. A nice addition to the area. Go check it out. And between 3-5 there is a happy hour for small bites.|\n",
      "|I'm having a ramen kick and trying all sorts of different ramen places. Jinya has proved to be one of my favorites though. I've tried both the Buckhead and Sandy Springs location. I like the Buckhead location more though. They have better music and better atmosphere. I liked the club-remix-music at this location compared to the Sandy Springs one. We got to sit on the patio on a nice breezy night. The food was consistent and similar to the Sandy Springs one. I tried the cha cha cha, the jinya bun, and a rice bowl with pork. Let me warn you: your eyes will be bigger than your stomach, and you will definitely have food for you to take home. I would also utilize the \"extra noodles for $2.75\" deal if possible. I was way too full off appetizers to get extra noodles towards the end, but I probably would have saved money just getting a ramen bowl with extra noodles. I realize this place is a national chain, but it is so great!                                                                                                                                                                                                                                                                                                                                                                                                                                                                                                                                                                                                                                                                                                                                                                                                                                                                                                                                                                                                                                                                                                                                                                                                                                                                                                                                        |\n",
      "+------------------------------------------------------------------------------------------------------------------------------------------------------------------------------------------------------------------------------------------------------------------------------------------------------------------------------------------------------------------------------------------------------------------------------------------------------------------------------------------------------------------------------------------------------------------------------------------------------------------------------------------------------------------------------------------------------------------------------------------------------------------------------------------------------------------------------------------------------------------------------------------------------------------------------------------------------------------------------------------------------------------------------------------------------------------------------------------------------------------------------------------------------------------------------------------------------------------------------------------------------------------------------------------------------------------------------------------------------------------------------------------------------------------------------------------------------------------------------------------------------------------------------------------------------------------------------------------------------------------------------------------------------------------------------------------------------------------------------------------------------------------------------------------------------------------------------------------------------------------------------------------------------------------------------------------------------------------------------------------------------------------------------------------------------------------------------------------------------------------------------------------------------------------------------------------------------------------------------------------------------------------------------------------------------------+\n",
      "only showing top 3 rows\n",
      "\n"
     ]
    },
    {
     "name": "stderr",
     "output_type": "stream",
     "text": [
      "                                                                                \r"
     ]
    }
   ],
   "source": [
    "#Find positive and most helpful reviews\n",
    "Jinya_rev = Jinya_rev.orderBy(['reviewer_rating','useful'],ascending = False)\n",
    "Jinya_rev.select('review').show(3,truncate = 0)"
   ]
  },
  {
   "cell_type": "code",
   "execution_count": null,
   "id": "2a0ae2b7",
   "metadata": {},
   "outputs": [],
   "source": []
  },
  {
   "cell_type": "code",
   "execution_count": null,
   "id": "db421525",
   "metadata": {},
   "outputs": [],
   "source": []
  }
 ],
 "metadata": {
  "kernelspec": {
   "display_name": "Python [conda env:bigdata]",
   "language": "python",
   "name": "conda-env-bigdata-py"
  },
  "language_info": {
   "codemirror_mode": {
    "name": "ipython",
    "version": 3
   },
   "file_extension": ".py",
   "mimetype": "text/x-python",
   "name": "python",
   "nbconvert_exporter": "python",
   "pygments_lexer": "ipython3",
   "version": "3.7.10"
  }
 },
 "nbformat": 4,
 "nbformat_minor": 5
}
